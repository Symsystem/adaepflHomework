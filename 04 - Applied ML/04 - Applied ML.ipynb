{
 "cells": [
  {
   "cell_type": "markdown",
   "metadata": {},
   "source": [
    "# 04 - Applied ML"
   ]
  },
  {
   "cell_type": "code",
<<<<<<< HEAD
   "execution_count": 82,
=======
   "execution_count": 200,
>>>>>>> origin/master
   "metadata": {
    "collapsed": true
   },
   "outputs": [],
   "source": [
    "# import all the required libraries\n",
    "%matplotlib inline\n",
    "import pandas as pd\n",
    "import numpy as np\n",
    "import matplotlib.pyplot as plt\n",
    "from sklearn.ensemble import RandomForestClassifier"
   ]
  },
  {
   "cell_type": "markdown",
   "metadata": {},
   "source": [
    "## Cleaning the data"
   ]
  },
  {
   "cell_type": "code",
<<<<<<< HEAD
   "execution_count": 83,
=======
   "execution_count": 201,
>>>>>>> origin/master
   "metadata": {
    "collapsed": false
   },
   "outputs": [
    {
     "name": "stdout",
     "output_type": "stream",
     "text": [
      "Initial shape of the DataFrame: (146028, 28)\n"
     ]
    }
   ],
   "source": [
    "# import the data\n",
    "df = pd.read_csv('CrowdstormingDataJuly1st.csv')\n",
    "\n",
    "# save initial number of records\n",
    "initial_records = df.shape[0]\n",
    "\n",
    "# initial shape of the data\n",
    "print('Initial shape of the DataFrame:', df.shape)"
   ]
  },
  {
   "cell_type": "code",
<<<<<<< HEAD
   "execution_count": 84,
=======
   "execution_count": 202,
>>>>>>> origin/master
   "metadata": {
    "collapsed": false
   },
   "outputs": [
    {
     "data": {
      "text/plain": [
       "playerShort      False\n",
       "player           False\n",
       "club             False\n",
       "leagueCountry    False\n",
       "birthday         False\n",
       "height            True\n",
       "weight            True\n",
       "position          True\n",
       "games            False\n",
       "victories        False\n",
       "ties             False\n",
       "defeats          False\n",
       "goals            False\n",
       "yellowCards      False\n",
       "yellowReds       False\n",
       "redCards         False\n",
       "photoID           True\n",
       "rater1            True\n",
       "rater2            True\n",
       "refNum           False\n",
       "refCountry       False\n",
       "Alpha_3           True\n",
       "meanIAT           True\n",
       "nIAT              True\n",
       "seIAT             True\n",
       "meanExp           True\n",
       "nExp              True\n",
       "seExp             True\n",
       "dtype: bool"
      ]
     },
<<<<<<< HEAD
     "execution_count": 84,
=======
     "execution_count": 202,
>>>>>>> origin/master
     "metadata": {},
     "output_type": "execute_result"
    }
   ],
   "source": [
    "# check which columns have NaNs\n",
    "df.isnull().any()"
   ]
  },
  {
   "cell_type": "markdown",
   "metadata": {},
   "source": [
    "We can drop the column photoID since we won't use the photos of the players."
   ]
  },
  {
   "cell_type": "code",
<<<<<<< HEAD
   "execution_count": 85,
=======
   "execution_count": 203,
>>>>>>> origin/master
   "metadata": {
    "collapsed": false
   },
   "outputs": [],
   "source": [
    "df = df.drop(['photoID'], axis=1)"
   ]
  },
  {
   "cell_type": "code",
<<<<<<< HEAD
   "execution_count": 86,
=======
   "execution_count": 204,
>>>>>>> origin/master
   "metadata": {
    "collapsed": false
   },
   "outputs": [],
   "source": [
    "# remove records that have rater1 and/or rater2 as NaNs\n",
    "df = df.dropna(axis=0, subset=['rater1', 'rater2'])\n",
    "\n",
<<<<<<< HEAD
    "# create a new column with the mean of the two raters\n",
    "# df['raterMean'] = (df['rater1'] + df['rater2']) / 2\n",
    "df['raterMean'] = (df['rater1'] * df['rater2']) ** 0.5\n",
=======
    "# create a new column with the mean of the two raters /  geometrical mean .... better for this kind of stuf...\n",
    "df['raterMean'] = (df['rater1'] * df['rater2']) **0.5\n",
>>>>>>> origin/master
    "\n",
    "# remove the columns rater1 and rater2\n",
    "df = df.drop(['rater1', 'rater2'], axis=1)"
   ]
  },
  {
   "cell_type": "code",
<<<<<<< HEAD
   "execution_count": 87,
=======
   "execution_count": 205,
>>>>>>> origin/master
   "metadata": {
    "collapsed": false
   },
   "outputs": [
    {
     "data": {
      "text/plain": [
       "(124621, 26)"
      ]
     },
<<<<<<< HEAD
     "execution_count": 87,
=======
     "execution_count": 205,
>>>>>>> origin/master
     "metadata": {},
     "output_type": "execute_result"
    }
   ],
   "source": [
    "df.shape"
   ]
  },
  {
   "cell_type": "markdown",
   "metadata": {},
   "source": [
    "Let's now focus on the referees. As stated in [this notebook](http://nbviewer.jupyter.org/github/mathewzilla/redcard/blob/master/Crowdstorming_visualisation.ipynb), we should only take into account referees that took part in games of one of the considered leagues. This means that referees with less than 22 dyads (corresponding to the, at least, 22 players of a game) shouldn't be relevant."
   ]
  },
  {
   "cell_type": "code",
<<<<<<< HEAD
   "execution_count": 88,
=======
   "execution_count": 206,
>>>>>>> origin/master
   "metadata": {
    "collapsed": false
   },
   "outputs": [],
   "source": [
    "refs = df['refNum'].value_counts()\n",
    "\n",
    "df = df[df['refNum'].isin(refs[refs > 21].index)]"
   ]
  },
  {
   "cell_type": "code",
<<<<<<< HEAD
   "execution_count": 89,
=======
   "execution_count": 207,
>>>>>>> origin/master
   "metadata": {
    "collapsed": false
   },
   "outputs": [
    {
     "data": {
      "text/plain": [
       "(112484, 26)"
      ]
     },
<<<<<<< HEAD
     "execution_count": 89,
=======
     "execution_count": 207,
>>>>>>> origin/master
     "metadata": {},
     "output_type": "execute_result"
    }
   ],
   "source": [
    "df.shape"
   ]
  },
  {
   "cell_type": "markdown",
   "metadata": {},
   "source": [
    "Since we will group the records by player, the columns concerning the referees information can be removed, namely: refNum, refCountry and Alpha_3."
   ]
  },
  {
   "cell_type": "code",
<<<<<<< HEAD
   "execution_count": 90,
=======
   "execution_count": 208,
>>>>>>> origin/master
   "metadata": {
    "collapsed": false
   },
   "outputs": [],
   "source": [
    "df = df.drop(['refNum', 'refCountry', 'Alpha_3'], axis=1)"
   ]
  },
  {
   "cell_type": "markdown",
   "metadata": {},
   "source": [
    "Let's check again the features that have NaNs associated."
   ]
  },
  {
   "cell_type": "code",
<<<<<<< HEAD
   "execution_count": 91,
=======
   "execution_count": 209,
>>>>>>> origin/master
   "metadata": {
    "collapsed": false
   },
   "outputs": [
    {
     "data": {
      "text/plain": [
       "playerShort      False\n",
       "player           False\n",
       "club             False\n",
       "leagueCountry    False\n",
       "birthday         False\n",
       "height            True\n",
       "weight            True\n",
       "position          True\n",
       "games            False\n",
       "victories        False\n",
       "ties             False\n",
       "defeats          False\n",
       "goals            False\n",
       "yellowCards      False\n",
       "yellowReds       False\n",
       "redCards         False\n",
       "meanIAT           True\n",
       "nIAT              True\n",
       "seIAT             True\n",
       "meanExp           True\n",
       "nExp              True\n",
       "seExp             True\n",
       "raterMean        False\n",
       "dtype: bool"
      ]
     },
<<<<<<< HEAD
     "execution_count": 91,
=======
     "execution_count": 209,
>>>>>>> origin/master
     "metadata": {},
     "output_type": "execute_result"
    }
   ],
   "source": [
    "# check which columns have NaNs\n",
    "df.isnull().any()"
   ]
  },
  {
   "cell_type": "code",
<<<<<<< HEAD
   "execution_count": 92,
=======
   "execution_count": 210,
>>>>>>> origin/master
   "metadata": {
    "collapsed": false
   },
   "outputs": [],
   "source": [
    "df = df.dropna(axis=0, subset=['height', 'weight'])\n",
    "\n",
    "records_after = df.shape[0]"
   ]
  },
  {
   "cell_type": "markdown",
   "metadata": {},
   "source": [
    "By dropping the records that have NaNs in the height and weight columns we loose the following percentage of data:"
   ]
  },
  {
   "cell_type": "code",
<<<<<<< HEAD
   "execution_count": 93,
=======
   "execution_count": 211,
>>>>>>> origin/master
   "metadata": {
    "collapsed": false
   },
   "outputs": [
    {
     "data": {
      "text/plain": [
       "23.376338784342728"
      ]
     },
<<<<<<< HEAD
     "execution_count": 93,
=======
     "execution_count": 211,
>>>>>>> origin/master
     "metadata": {},
     "output_type": "execute_result"
    }
   ],
   "source": [
    "(initial_records - records_after) / initial_records * 100"
   ]
  },
  {
   "cell_type": "markdown",
   "metadata": {},
   "source": [
    "The columns nIAT, seIAT, nExp and seExp are associated with a particular referee and this information will become irrelevant as soon as the data is aggregated by players. So we'll also remove these features."
   ]
  },
  {
   "cell_type": "code",
<<<<<<< HEAD
   "execution_count": 94,
=======
   "execution_count": 212,
>>>>>>> origin/master
   "metadata": {
    "collapsed": true
   },
   "outputs": [],
   "source": [
    "#df.drop(['nIAT', 'seIAT', 'nExp', 'seExp'], axis=1, inplace=True)"
   ]
  },
  {
   "cell_type": "markdown",
   "metadata": {},
   "source": [
    "The same happens with the columns meanIAT and meanExp. So, for now we'll also drop them."
   ]
  },
  {
   "cell_type": "code",
<<<<<<< HEAD
   "execution_count": 95,
=======
   "execution_count": 213,
>>>>>>> origin/master
   "metadata": {
    "collapsed": true
   },
   "outputs": [],
   "source": [
    "#TODO: these features seem important, we should keep them somehow\n",
<<<<<<< HEAD
    "# df.drop(['meanIAT', 'meanExp'], axis=1, inplace=True)"
=======
    "#df.drop(['meanIAT', 'meanExp'], axis=1, inplace=True)\n",
    "\n"
>>>>>>> origin/master
   ]
  },
  {
   "cell_type": "markdown",
   "metadata": {},
   "source": [
    "We can remove the columns that have non-numeric data associated:"
   ]
  },
  {
   "cell_type": "code",
<<<<<<< HEAD
   "execution_count": 96,
=======
   "execution_count": 214,
>>>>>>> origin/master
   "metadata": {
    "collapsed": false,
    "scrolled": true
   },
   "outputs": [
    {
     "data": {
      "text/html": [
       "<div>\n",
       "<table border=\"1\" class=\"dataframe\">\n",
       "  <thead>\n",
       "    <tr style=\"text-align: right;\">\n",
       "      <th></th>\n",
       "      <th>leagueCountry</th>\n",
       "      <th>height</th>\n",
       "      <th>weight</th>\n",
       "      <th>position</th>\n",
       "      <th>games</th>\n",
       "      <th>victories</th>\n",
       "      <th>ties</th>\n",
       "      <th>defeats</th>\n",
       "      <th>goals</th>\n",
       "      <th>yellowCards</th>\n",
       "      <th>yellowReds</th>\n",
       "      <th>redCards</th>\n",
       "      <th>meanIAT</th>\n",
       "      <th>nIAT</th>\n",
       "      <th>seIAT</th>\n",
       "      <th>meanExp</th>\n",
       "      <th>nExp</th>\n",
       "      <th>seExp</th>\n",
       "      <th>raterMean</th>\n",
       "    </tr>\n",
       "  </thead>\n",
       "  <tbody>\n",
       "    <tr>\n",
       "      <th>0</th>\n",
       "      <td>Spain</td>\n",
       "      <td>177.0</td>\n",
       "      <td>72.0</td>\n",
       "      <td>Attacking Midfielder</td>\n",
       "      <td>1</td>\n",
       "      <td>0</td>\n",
       "      <td>0</td>\n",
       "      <td>1</td>\n",
       "      <td>0</td>\n",
       "      <td>0</td>\n",
       "      <td>0</td>\n",
       "      <td>0</td>\n",
       "      <td>0.326391</td>\n",
       "      <td>712.0</td>\n",
       "      <td>0.000564</td>\n",
       "      <td>0.396000</td>\n",
       "      <td>750.0</td>\n",
       "      <td>0.002696</td>\n",
       "      <td>0.353553</td>\n",
       "    </tr>\n",
       "    <tr>\n",
       "      <th>1</th>\n",
       "      <td>France</td>\n",
       "      <td>179.0</td>\n",
       "      <td>82.0</td>\n",
       "      <td>Right Winger</td>\n",
       "      <td>1</td>\n",
       "      <td>0</td>\n",
       "      <td>0</td>\n",
       "      <td>1</td>\n",
       "      <td>0</td>\n",
       "      <td>1</td>\n",
       "      <td>0</td>\n",
       "      <td>0</td>\n",
       "      <td>0.203375</td>\n",
       "      <td>40.0</td>\n",
       "      <td>0.010875</td>\n",
       "      <td>-0.204082</td>\n",
       "      <td>49.0</td>\n",
       "      <td>0.061504</td>\n",
       "      <td>0.750000</td>\n",
       "    </tr>\n",
       "    <tr>\n",
       "      <th>5</th>\n",
       "      <td>England</td>\n",
       "      <td>182.0</td>\n",
       "      <td>71.0</td>\n",
       "      <td>Center Back</td>\n",
       "      <td>1</td>\n",
       "      <td>0</td>\n",
       "      <td>0</td>\n",
       "      <td>1</td>\n",
       "      <td>0</td>\n",
       "      <td>0</td>\n",
       "      <td>0</td>\n",
       "      <td>0</td>\n",
       "      <td>0.325185</td>\n",
       "      <td>127.0</td>\n",
       "      <td>0.003297</td>\n",
       "      <td>0.538462</td>\n",
       "      <td>130.0</td>\n",
       "      <td>0.013752</td>\n",
       "      <td>0.000000</td>\n",
       "    </tr>\n",
       "    <tr>\n",
       "      <th>6</th>\n",
       "      <td>England</td>\n",
       "      <td>187.0</td>\n",
       "      <td>80.0</td>\n",
       "      <td>Left Fullback</td>\n",
       "      <td>1</td>\n",
       "      <td>1</td>\n",
       "      <td>0</td>\n",
       "      <td>0</td>\n",
       "      <td>0</td>\n",
       "      <td>0</td>\n",
       "      <td>0</td>\n",
       "      <td>0</td>\n",
       "      <td>0.325185</td>\n",
       "      <td>127.0</td>\n",
       "      <td>0.003297</td>\n",
       "      <td>0.538462</td>\n",
       "      <td>130.0</td>\n",
       "      <td>0.013752</td>\n",
       "      <td>0.000000</td>\n",
       "    </tr>\n",
       "    <tr>\n",
       "      <th>7</th>\n",
       "      <td>England</td>\n",
       "      <td>180.0</td>\n",
       "      <td>68.0</td>\n",
       "      <td>Defensive Midfielder</td>\n",
       "      <td>1</td>\n",
       "      <td>0</td>\n",
       "      <td>0</td>\n",
       "      <td>1</td>\n",
       "      <td>0</td>\n",
       "      <td>0</td>\n",
       "      <td>0</td>\n",
       "      <td>0</td>\n",
       "      <td>0.325185</td>\n",
       "      <td>127.0</td>\n",
       "      <td>0.003297</td>\n",
       "      <td>0.538462</td>\n",
       "      <td>130.0</td>\n",
       "      <td>0.013752</td>\n",
       "      <td>1.000000</td>\n",
       "    </tr>\n",
       "  </tbody>\n",
       "</table>\n",
       "</div>"
      ],
      "text/plain": [
       "  leagueCountry  height  weight              position  games  victories  ties  \\\n",
       "0         Spain   177.0    72.0  Attacking Midfielder      1          0     0   \n",
       "1        France   179.0    82.0          Right Winger      1          0     0   \n",
       "5       England   182.0    71.0           Center Back      1          0     0   \n",
       "6       England   187.0    80.0         Left Fullback      1          1     0   \n",
       "7       England   180.0    68.0  Defensive Midfielder      1          0     0   \n",
       "\n",
       "   defeats  goals  yellowCards  yellowReds  redCards   meanIAT   nIAT  \\\n",
       "0        1      0            0           0         0  0.326391  712.0   \n",
       "1        1      0            1           0         0  0.203375   40.0   \n",
       "5        1      0            0           0         0  0.325185  127.0   \n",
       "6        0      0            0           0         0  0.325185  127.0   \n",
       "7        1      0            0           0         0  0.325185  127.0   \n",
       "\n",
       "      seIAT   meanExp   nExp     seExp  raterMean  \n",
       "0  0.000564  0.396000  750.0  0.002696   0.353553  \n",
       "1  0.010875 -0.204082   49.0  0.061504   0.750000  \n",
       "5  0.003297  0.538462  130.0  0.013752   0.000000  \n",
       "6  0.003297  0.538462  130.0  0.013752   0.000000  \n",
       "7  0.003297  0.538462  130.0  0.013752   1.000000  "
      ]
     },
     "execution_count": 214,
     "metadata": {},
     "output_type": "execute_result"
    }
   ],
   "source": [
<<<<<<< HEAD
    "non_numeric_features = ['player', 'club', 'birthday']\n",
=======
    "#TODO: should we keep the position of the player?\n",
    "non_relevant = ['player', 'birthday','playerShort','club'] # deleate the club :D an keep the country .... \n",
>>>>>>> origin/master
    "\n",
    "df.drop(non_relevant, axis=1, inplace=True)\n",
    "df.head()"
   ]
  },
  {
   "cell_type": "code",
<<<<<<< HEAD
   "execution_count": 97,
=======
   "execution_count": 215,
>>>>>>> origin/master
   "metadata": {
    "collapsed": false
   },
   "outputs": [
    {
     "data": {
      "text/plain": [
<<<<<<< HEAD
       "playerShort      False\n",
=======
>>>>>>> origin/master
       "leagueCountry    False\n",
       "height           False\n",
       "weight           False\n",
       "position          True\n",
       "games            False\n",
       "victories        False\n",
       "ties             False\n",
       "defeats          False\n",
       "goals            False\n",
       "yellowCards      False\n",
       "yellowReds       False\n",
       "redCards         False\n",
       "meanIAT           True\n",
<<<<<<< HEAD
       "meanExp           True\n",
=======
       "nIAT              True\n",
       "seIAT             True\n",
       "meanExp           True\n",
       "nExp              True\n",
       "seExp             True\n",
>>>>>>> origin/master
       "raterMean        False\n",
       "dtype: bool"
      ]
     },
<<<<<<< HEAD
     "execution_count": 97,
=======
     "execution_count": 215,
>>>>>>> origin/master
     "metadata": {},
     "output_type": "execute_result"
    }
   ],
   "source": [
    "df.isnull().any()"
   ]
  },
  {
   "cell_type": "code",
<<<<<<< HEAD
   "execution_count": 99,
   "metadata": {
    "collapsed": true
   },
   "outputs": [],
   "source": [
    "df = df.dropna(axis=0, subset=['meanIAT', 'meanExp'])"
   ]
  },
  {
   "cell_type": "code",
   "execution_count": 20,
=======
   "execution_count": 216,
>>>>>>> origin/master
   "metadata": {
    "collapsed": false,
    "scrolled": true
   },
   "outputs": [
    {
     "name": "stdout",
     "output_type": "stream",
     "text": [
<<<<<<< HEAD
      "Shape of the DataFrame before aggregating by player: (111782, 14)\n"
=======
      "Shape of the DataFrame before aggregating by player: (123868, 19)\n"
>>>>>>> origin/master
     ]
    }
   ],
   "source": [
    "print('Shape of the DataFrame before aggregating by player:', df.shape)"
   ]
  },
  {
   "cell_type": "code",
<<<<<<< HEAD
   "execution_count": 101,
=======
   "execution_count": 217,
>>>>>>> origin/master
   "metadata": {
    "collapsed": false
   },
   "outputs": [],
   "source": [
<<<<<<< HEAD
    "grouped_by_player = df.groupby(['playerShort', 'height', 'weight', 'raterMean', 'leagueCountry', 'position'], as_index=False)\n",
    "\n",
    "clean_data = grouped_by_player.agg({'games': np.sum, 'victories': np.sum, 'ties': np.sum, 'defeats': np.sum, 'goals': np.sum,\n",
    "                       'yellowCards': np.sum, 'yellowReds': np.sum, 'redCards': np.sum, 'meanIAT': np.mean, 'meanExp': np.mean})\n",
    "\n",
    "# drop the column playerShort (non-numeric data not relevant for the classifier)\n",
    "clean_data.drop('playerShort', axis=1, inplace=True)"
=======
    "# dealing with class features\n",
    "df_features = pd.get_dummies(df,prefix = ['dummyCode_','dummyCode_'])"
>>>>>>> origin/master
   ]
  },
  {
   "cell_type": "code",
   "execution_count": 103,
   "metadata": {
    "collapsed": false
   },
   "outputs": [],
   "source": [
    "clean_data = pd.get_dummies(clean_data, prefix = ['dummyCode_','dummyCode_'])"
   ]
  },
  {
   "cell_type": "code",
   "execution_count": 104,
   "metadata": {
    "collapsed": false
   },
   "outputs": [
    {
     "data": {
      "text/html": [
       "<div>\n",
       "<table border=\"1\" class=\"dataframe\">\n",
       "  <thead>\n",
       "    <tr style=\"text-align: right;\">\n",
       "      <th></th>\n",
       "      <th>height</th>\n",
       "      <th>weight</th>\n",
       "      <th>raterMean</th>\n",
       "      <th>games</th>\n",
       "      <th>meanIAT</th>\n",
       "      <th>ties</th>\n",
       "      <th>victories</th>\n",
       "      <th>yellowReds</th>\n",
       "      <th>redCards</th>\n",
       "      <th>defeats</th>\n",
       "      <th>...</th>\n",
       "      <th>dummyCode__Center Forward</th>\n",
       "      <th>dummyCode__Center Midfielder</th>\n",
       "      <th>dummyCode__Defensive Midfielder</th>\n",
       "      <th>dummyCode__Goalkeeper</th>\n",
       "      <th>dummyCode__Left Fullback</th>\n",
       "      <th>dummyCode__Left Midfielder</th>\n",
       "      <th>dummyCode__Left Winger</th>\n",
       "      <th>dummyCode__Right Fullback</th>\n",
       "      <th>dummyCode__Right Midfielder</th>\n",
       "      <th>dummyCode__Right Winger</th>\n",
       "    </tr>\n",
       "  </thead>\n",
       "  <tbody>\n",
       "    <tr>\n",
       "      <th>0</th>\n",
       "      <td>182.0</td>\n",
       "      <td>71.0</td>\n",
       "      <td>0.00</td>\n",
       "      <td>635</td>\n",
       "      <td>0.345065</td>\n",
       "      <td>174</td>\n",
       "      <td>240</td>\n",
       "      <td>0</td>\n",
       "      <td>0</td>\n",
       "      <td>221</td>\n",
       "      <td>...</td>\n",
       "      <td>0.0</td>\n",
       "      <td>0.0</td>\n",
       "      <td>0.0</td>\n",
       "      <td>0.0</td>\n",
       "      <td>0.0</td>\n",
       "      <td>0.0</td>\n",
       "      <td>0.0</td>\n",
       "      <td>0.0</td>\n",
       "      <td>0.0</td>\n",
       "      <td>0.0</td>\n",
       "    </tr>\n",
       "    <tr>\n",
       "      <th>1</th>\n",
       "      <td>183.0</td>\n",
       "      <td>73.0</td>\n",
       "      <td>0.00</td>\n",
       "      <td>328</td>\n",
       "      <td>0.349424</td>\n",
       "      <td>70</td>\n",
       "      <td>139</td>\n",
       "      <td>0</td>\n",
       "      <td>1</td>\n",
       "      <td>119</td>\n",
       "      <td>...</td>\n",
       "      <td>0.0</td>\n",
       "      <td>0.0</td>\n",
       "      <td>0.0</td>\n",
       "      <td>0.0</td>\n",
       "      <td>0.0</td>\n",
       "      <td>0.0</td>\n",
       "      <td>0.0</td>\n",
       "      <td>0.0</td>\n",
       "      <td>0.0</td>\n",
       "      <td>0.0</td>\n",
       "    </tr>\n",
       "    <tr>\n",
       "      <th>2</th>\n",
       "      <td>165.0</td>\n",
       "      <td>63.0</td>\n",
       "      <td>0.25</td>\n",
       "      <td>411</td>\n",
       "      <td>0.346085</td>\n",
       "      <td>96</td>\n",
       "      <td>200</td>\n",
       "      <td>0</td>\n",
       "      <td>0</td>\n",
       "      <td>115</td>\n",
       "      <td>...</td>\n",
       "      <td>0.0</td>\n",
       "      <td>0.0</td>\n",
       "      <td>0.0</td>\n",
       "      <td>0.0</td>\n",
       "      <td>0.0</td>\n",
       "      <td>0.0</td>\n",
       "      <td>0.0</td>\n",
       "      <td>0.0</td>\n",
       "      <td>1.0</td>\n",
       "      <td>0.0</td>\n",
       "    </tr>\n",
       "    <tr>\n",
       "      <th>3</th>\n",
       "      <td>178.0</td>\n",
       "      <td>76.0</td>\n",
       "      <td>0.00</td>\n",
       "      <td>253</td>\n",
       "      <td>0.347013</td>\n",
       "      <td>42</td>\n",
       "      <td>144</td>\n",
       "      <td>0</td>\n",
       "      <td>1</td>\n",
       "      <td>67</td>\n",
       "      <td>...</td>\n",
       "      <td>0.0</td>\n",
       "      <td>1.0</td>\n",
       "      <td>0.0</td>\n",
       "      <td>0.0</td>\n",
       "      <td>0.0</td>\n",
       "      <td>0.0</td>\n",
       "      <td>0.0</td>\n",
       "      <td>0.0</td>\n",
       "      <td>0.0</td>\n",
       "      <td>0.0</td>\n",
       "    </tr>\n",
       "    <tr>\n",
       "      <th>4</th>\n",
       "      <td>180.0</td>\n",
       "      <td>73.0</td>\n",
       "      <td>0.25</td>\n",
       "      <td>124</td>\n",
       "      <td>0.331600</td>\n",
       "      <td>40</td>\n",
       "      <td>41</td>\n",
       "      <td>4</td>\n",
       "      <td>2</td>\n",
       "      <td>43</td>\n",
       "      <td>...</td>\n",
       "      <td>0.0</td>\n",
       "      <td>0.0</td>\n",
       "      <td>0.0</td>\n",
       "      <td>0.0</td>\n",
       "      <td>0.0</td>\n",
       "      <td>0.0</td>\n",
       "      <td>0.0</td>\n",
       "      <td>0.0</td>\n",
       "      <td>0.0</td>\n",
       "      <td>0.0</td>\n",
       "    </tr>\n",
       "  </tbody>\n",
       "</table>\n",
       "<p>5 rows × 29 columns</p>\n",
       "</div>"
      ],
      "text/plain": [
       "   height  weight  raterMean  games   meanIAT  ties  victories  yellowReds  \\\n",
       "0   182.0    71.0       0.00    635  0.345065   174        240           0   \n",
       "1   183.0    73.0       0.00    328  0.349424    70        139           0   \n",
       "2   165.0    63.0       0.25    411  0.346085    96        200           0   \n",
       "3   178.0    76.0       0.00    253  0.347013    42        144           0   \n",
       "4   180.0    73.0       0.25    124  0.331600    40         41           4   \n",
       "\n",
       "   redCards  defeats           ...             dummyCode__Center Forward  \\\n",
       "0         0      221           ...                                   0.0   \n",
       "1         1      119           ...                                   0.0   \n",
       "2         0      115           ...                                   0.0   \n",
       "3         1       67           ...                                   0.0   \n",
       "4         2       43           ...                                   0.0   \n",
       "\n",
       "   dummyCode__Center Midfielder  dummyCode__Defensive Midfielder  \\\n",
       "0                           0.0                              0.0   \n",
       "1                           0.0                              0.0   \n",
       "2                           0.0                              0.0   \n",
       "3                           1.0                              0.0   \n",
       "4                           0.0                              0.0   \n",
       "\n",
       "   dummyCode__Goalkeeper  dummyCode__Left Fullback  \\\n",
       "0                    0.0                       0.0   \n",
       "1                    0.0                       0.0   \n",
       "2                    0.0                       0.0   \n",
       "3                    0.0                       0.0   \n",
       "4                    0.0                       0.0   \n",
       "\n",
       "   dummyCode__Left Midfielder  dummyCode__Left Winger  \\\n",
       "0                         0.0                     0.0   \n",
       "1                         0.0                     0.0   \n",
       "2                         0.0                     0.0   \n",
       "3                         0.0                     0.0   \n",
       "4                         0.0                     0.0   \n",
       "\n",
       "   dummyCode__Right Fullback  dummyCode__Right Midfielder  \\\n",
       "0                        0.0                          0.0   \n",
       "1                        0.0                          0.0   \n",
       "2                        0.0                          1.0   \n",
       "3                        0.0                          0.0   \n",
       "4                        0.0                          0.0   \n",
       "\n",
       "   dummyCode__Right Winger  \n",
       "0                      0.0  \n",
       "1                      0.0  \n",
       "2                      0.0  \n",
       "3                      0.0  \n",
       "4                      0.0  \n",
       "\n",
       "[5 rows x 29 columns]"
      ]
     },
     "execution_count": 104,
     "metadata": {},
     "output_type": "execute_result"
    }
   ],
   "source": [
    "clean_data.head()"
   ]
  },
  {
   "cell_type": "markdown",
   "metadata": {},
   "source": [
    "## Aggregating the data (by player)"
   ]
  },
  {
   "cell_type": "code",
<<<<<<< HEAD
   "execution_count": 36,
=======
   "execution_count": 218,
>>>>>>> origin/master
   "metadata": {
    "collapsed": true
   },
   "outputs": [
    {
     "data": {
      "text/html": [
       "<div>\n",
       "<table border=\"1\" class=\"dataframe\">\n",
       "  <thead>\n",
       "    <tr style=\"text-align: right;\">\n",
       "      <th></th>\n",
       "      <th>height</th>\n",
       "      <th>weight</th>\n",
       "      <th>games</th>\n",
       "      <th>victories</th>\n",
       "      <th>ties</th>\n",
       "      <th>defeats</th>\n",
       "      <th>goals</th>\n",
       "      <th>yellowCards</th>\n",
       "      <th>yellowReds</th>\n",
       "      <th>redCards</th>\n",
       "      <th>...</th>\n",
       "      <th>dummyCode__Center Forward</th>\n",
       "      <th>dummyCode__Center Midfielder</th>\n",
       "      <th>dummyCode__Defensive Midfielder</th>\n",
       "      <th>dummyCode__Goalkeeper</th>\n",
       "      <th>dummyCode__Left Fullback</th>\n",
       "      <th>dummyCode__Left Midfielder</th>\n",
       "      <th>dummyCode__Left Winger</th>\n",
       "      <th>dummyCode__Right Fullback</th>\n",
       "      <th>dummyCode__Right Midfielder</th>\n",
       "      <th>dummyCode__Right Winger</th>\n",
       "    </tr>\n",
       "  </thead>\n",
       "  <tbody>\n",
       "    <tr>\n",
       "      <th>0</th>\n",
       "      <td>177.0</td>\n",
       "      <td>72.0</td>\n",
       "      <td>1</td>\n",
       "      <td>0</td>\n",
       "      <td>0</td>\n",
       "      <td>1</td>\n",
       "      <td>0</td>\n",
       "      <td>0</td>\n",
       "      <td>0</td>\n",
       "      <td>0</td>\n",
       "      <td>...</td>\n",
       "      <td>0.0</td>\n",
       "      <td>0.0</td>\n",
       "      <td>0.0</td>\n",
       "      <td>0.0</td>\n",
       "      <td>0.0</td>\n",
       "      <td>0.0</td>\n",
       "      <td>0.0</td>\n",
       "      <td>0.0</td>\n",
       "      <td>0.0</td>\n",
       "      <td>0.0</td>\n",
       "    </tr>\n",
       "    <tr>\n",
       "      <th>1</th>\n",
       "      <td>179.0</td>\n",
       "      <td>82.0</td>\n",
       "      <td>1</td>\n",
       "      <td>0</td>\n",
       "      <td>0</td>\n",
       "      <td>1</td>\n",
       "      <td>0</td>\n",
       "      <td>1</td>\n",
       "      <td>0</td>\n",
       "      <td>0</td>\n",
       "      <td>...</td>\n",
       "      <td>0.0</td>\n",
       "      <td>0.0</td>\n",
       "      <td>0.0</td>\n",
       "      <td>0.0</td>\n",
       "      <td>0.0</td>\n",
       "      <td>0.0</td>\n",
       "      <td>0.0</td>\n",
       "      <td>0.0</td>\n",
       "      <td>0.0</td>\n",
       "      <td>1.0</td>\n",
       "    </tr>\n",
       "    <tr>\n",
       "      <th>5</th>\n",
       "      <td>182.0</td>\n",
       "      <td>71.0</td>\n",
       "      <td>1</td>\n",
       "      <td>0</td>\n",
       "      <td>0</td>\n",
       "      <td>1</td>\n",
       "      <td>0</td>\n",
       "      <td>0</td>\n",
       "      <td>0</td>\n",
       "      <td>0</td>\n",
       "      <td>...</td>\n",
       "      <td>0.0</td>\n",
       "      <td>0.0</td>\n",
       "      <td>0.0</td>\n",
       "      <td>0.0</td>\n",
       "      <td>0.0</td>\n",
       "      <td>0.0</td>\n",
       "      <td>0.0</td>\n",
       "      <td>0.0</td>\n",
       "      <td>0.0</td>\n",
       "      <td>0.0</td>\n",
       "    </tr>\n",
       "    <tr>\n",
       "      <th>6</th>\n",
       "      <td>187.0</td>\n",
       "      <td>80.0</td>\n",
       "      <td>1</td>\n",
       "      <td>1</td>\n",
       "      <td>0</td>\n",
       "      <td>0</td>\n",
       "      <td>0</td>\n",
       "      <td>0</td>\n",
       "      <td>0</td>\n",
       "      <td>0</td>\n",
       "      <td>...</td>\n",
       "      <td>0.0</td>\n",
       "      <td>0.0</td>\n",
       "      <td>0.0</td>\n",
       "      <td>0.0</td>\n",
       "      <td>1.0</td>\n",
       "      <td>0.0</td>\n",
       "      <td>0.0</td>\n",
       "      <td>0.0</td>\n",
       "      <td>0.0</td>\n",
       "      <td>0.0</td>\n",
       "    </tr>\n",
       "    <tr>\n",
       "      <th>7</th>\n",
       "      <td>180.0</td>\n",
       "      <td>68.0</td>\n",
       "      <td>1</td>\n",
       "      <td>0</td>\n",
       "      <td>0</td>\n",
       "      <td>1</td>\n",
       "      <td>0</td>\n",
       "      <td>0</td>\n",
       "      <td>0</td>\n",
       "      <td>0</td>\n",
       "      <td>...</td>\n",
       "      <td>0.0</td>\n",
       "      <td>0.0</td>\n",
       "      <td>1.0</td>\n",
       "      <td>0.0</td>\n",
       "      <td>0.0</td>\n",
       "      <td>0.0</td>\n",
       "      <td>0.0</td>\n",
       "      <td>0.0</td>\n",
       "      <td>0.0</td>\n",
       "      <td>0.0</td>\n",
       "    </tr>\n",
       "  </tbody>\n",
       "</table>\n",
       "<p>5 rows × 33 columns</p>\n",
       "</div>"
      ],
      "text/plain": [
       "   height  weight  games  victories  ties  defeats  goals  yellowCards  \\\n",
       "0   177.0    72.0      1          0     0        1      0            0   \n",
       "1   179.0    82.0      1          0     0        1      0            1   \n",
       "5   182.0    71.0      1          0     0        1      0            0   \n",
       "6   187.0    80.0      1          1     0        0      0            0   \n",
       "7   180.0    68.0      1          0     0        1      0            0   \n",
       "\n",
       "   yellowReds  redCards           ...             dummyCode__Center Forward  \\\n",
       "0           0         0           ...                                   0.0   \n",
       "1           0         0           ...                                   0.0   \n",
       "5           0         0           ...                                   0.0   \n",
       "6           0         0           ...                                   0.0   \n",
       "7           0         0           ...                                   0.0   \n",
       "\n",
       "   dummyCode__Center Midfielder  dummyCode__Defensive Midfielder  \\\n",
       "0                           0.0                              0.0   \n",
       "1                           0.0                              0.0   \n",
       "5                           0.0                              0.0   \n",
       "6                           0.0                              0.0   \n",
       "7                           0.0                              1.0   \n",
       "\n",
       "   dummyCode__Goalkeeper  dummyCode__Left Fullback  \\\n",
       "0                    0.0                       0.0   \n",
       "1                    0.0                       0.0   \n",
       "5                    0.0                       0.0   \n",
       "6                    0.0                       1.0   \n",
       "7                    0.0                       0.0   \n",
       "\n",
       "   dummyCode__Left Midfielder  dummyCode__Left Winger  \\\n",
       "0                         0.0                     0.0   \n",
       "1                         0.0                     0.0   \n",
       "5                         0.0                     0.0   \n",
       "6                         0.0                     0.0   \n",
       "7                         0.0                     0.0   \n",
       "\n",
       "   dummyCode__Right Fullback  dummyCode__Right Midfielder  \\\n",
       "0                        0.0                          0.0   \n",
       "1                        0.0                          0.0   \n",
       "5                        0.0                          0.0   \n",
       "6                        0.0                          0.0   \n",
       "7                        0.0                          0.0   \n",
       "\n",
       "   dummyCode__Right Winger  \n",
       "0                      0.0  \n",
       "1                      1.0  \n",
       "5                      0.0  \n",
       "6                      0.0  \n",
       "7                      0.0  \n",
       "\n",
       "[5 rows x 33 columns]"
      ]
     },
     "execution_count": 218,
     "metadata": {},
     "output_type": "execute_result"
    }
   ],
   "source": [
<<<<<<< HEAD
    "def labels_categories(y):\n",
    "    if(y['raterMean'] <= 0.2):\n",
    "        return 0\n",
    "    elif(y['raterMean'] <= 0.4):\n",
    "        return 1\n",
    "    elif(y['raterMean'] <= 0.6):\n",
    "        return 2\n",
    "    elif(y['raterMean'] <= 0.8):\n",
    "        return 3\n",
    "    else:\n",
    "        return 4"
=======
    "df_features.head()"
>>>>>>> origin/master
   ]
  },
  {
   "cell_type": "code",
<<<<<<< HEAD
   "execution_count": 111,
=======
   "execution_count": 226,
>>>>>>> origin/master
   "metadata": {
    "collapsed": false
   },
   "outputs": [
    {
     "data": {
      "text/plain": [
<<<<<<< HEAD
       "Index(['height', 'weight', 'games', 'meanIAT', 'ties', 'victories',\n",
       "       'yellowReds', 'redCards', 'defeats', 'meanExp', 'goals', 'yellowCards',\n",
       "       'dummyCode__England', 'dummyCode__France', 'dummyCode__Germany',\n",
       "       'dummyCode__Spain', 'dummyCode__Attacking Midfielder',\n",
       "       'dummyCode__Center Back', 'dummyCode__Center Forward',\n",
       "       'dummyCode__Center Midfielder', 'dummyCode__Defensive Midfielder',\n",
       "       'dummyCode__Goalkeeper', 'dummyCode__Left Fullback',\n",
       "       'dummyCode__Left Midfielder', 'dummyCode__Left Winger',\n",
       "       'dummyCode__Right Fullback', 'dummyCode__Right Midfielder',\n",
       "       'dummyCode__Right Winger'],\n",
       "      dtype='object')"
      ]
     },
     "execution_count": 111,
=======
       "0    0.353553\n",
       "1    0.750000\n",
       "5    0.000000\n",
       "6    0.000000\n",
       "7    1.000000\n",
       "Name: raterMean, dtype: float64"
      ]
     },
     "execution_count": 226,
>>>>>>> origin/master
     "metadata": {},
     "output_type": "execute_result"
    }
   ],
   "source": [
<<<<<<< HEAD
    "clean_data['skin_cat'] = clean_data.apply(labels_categories, axis=1)\n",
    "\n",
    "X = clean_data.drop(['skin_cat', 'raterMean'], axis=1)\n",
    "\n",
    "Y = np.asarray(clean_data['skin_cat'], dtype=\"|S6\")\n",
    "\n",
    "X.columns"
=======
    "grouped_by_player = df_features #.groupby(['height', 'weight', 'raterMean'], as_index=False)\n",
    "\n",
    "#clean_data = grouped_by_player.agg({'games': np.sum, 'victories': np.sum, 'ties': np.sum, 'defeats': np.sum, 'goals': np.sum,\n",
    " #                      'yellowCards': np.sum, 'yellowReds': np.sum, 'redCards': np.sum})\n",
    "\n",
    "grouped_by_player['raterMean'].head()"
>>>>>>> origin/master
   ]
  },
  {
   "cell_type": "code",
<<<<<<< HEAD
   "execution_count": 108,
=======
   "execution_count": 234,
>>>>>>> origin/master
   "metadata": {
    "collapsed": false
   },
   "outputs": [
    {
     "data": {
      "text/plain": [
       "height                             False\n",
       "weight                             False\n",
       "games                              False\n",
       "victories                          False\n",
       "ties                               False\n",
       "defeats                            False\n",
       "goals                              False\n",
       "yellowCards                        False\n",
       "yellowReds                         False\n",
       "redCards                           False\n",
       "meanIAT                            False\n",
       "nIAT                               False\n",
       "seIAT                              False\n",
       "meanExp                            False\n",
       "nExp                               False\n",
       "seExp                              False\n",
       "dummyCode__England                 False\n",
       "dummyCode__France                  False\n",
       "dummyCode__Germany                 False\n",
       "dummyCode__Spain                   False\n",
       "dummyCode__Attacking Midfielder    False\n",
       "dummyCode__Center Back             False\n",
       "dummyCode__Center Forward          False\n",
       "dummyCode__Center Midfielder       False\n",
       "dummyCode__Defensive Midfielder    False\n",
       "dummyCode__Goalkeeper              False\n",
       "dummyCode__Left Fullback           False\n",
       "dummyCode__Left Midfielder         False\n",
       "dummyCode__Left Winger             False\n",
       "dummyCode__Right Fullback          False\n",
       "dummyCode__Right Midfielder        False\n",
       "dummyCode__Right Winger            False\n",
       "dtype: bool"
      ]
     },
     "execution_count": 234,
     "metadata": {},
     "output_type": "execute_result"
    }
   ],
   "source": [
    "Xtrain.dropna(axis=0).isnull().any()"
   ]
  },
  {
   "cell_type": "markdown",
   "metadata": {},
   "source": [
    "## Training the Classifier"
   ]
  },
  {
   "cell_type": "code",
   "execution_count": 254,
   "metadata": {
    "collapsed": false,
    "scrolled": true
   },
   "outputs": [
    {
     "name": "stdout",
     "output_type": "stream",
     "text": [
      "(123715, 32) (123715,)\n",
      "1\n",
      "1\n",
      "1\n",
      "6\n",
      "6\n",
      "6\n",
      "11\n",
      "11\n",
      "11\n",
      "16\n",
      "16\n",
      "16\n",
      "21\n",
      "21\n",
      "21\n",
      "26\n",
      "26\n",
      "26\n",
      "31\n",
      "31\n",
      "31\n",
      "36\n",
      "36\n",
      "36\n",
      "41\n",
      "41\n",
      "41\n",
      "46\n",
      "46\n",
      "46\n",
      "10 10\n"
     ]
    },
    {
     "data": {
      "image/png": "iVBORw0KGgoAAAANSUhEUgAAAisAAAGHCAYAAABxmBIgAAAABHNCSVQICAgIfAhkiAAAAAlwSFlz\nAAAPYQAAD2EBqD+naQAAIABJREFUeJzt3Xm8HfP9x/HXJwtBCILEvu8kJLVv9bOrRosiliIptROt\nrYpWrW3tpdQeNEoRSxEVWy1BcyOoiC1BhSSEhGyyfH5/fOY0556cc+65955zZ+697+fjMY97z5yZ\n73zme2bmfM53vjNj7o6IiIhIVnVIOwARERGRcpSsiIiISKYpWREREZFMU7IiIiIimaZkRURERDJN\nyYqIiIhkmpIVERERyTQlKyIiIpJpSlZEREQk05SsSKOZWTczm29mJ6cdS2tgZkPNbFSVy9zEzJ41\ns2lmNs/Mdqxm+dViZq+b2QNpx1GOma1qZo+Y2ZSkLn/ahDKGmtkntYivtTCzU5Pjwlppx1KJrO1D\nZnaVmX2VZgxZ1maTlWSnaWio+gaaHPjON7ONGjnfj8xspJl9a2afmtnfzGydCuf9rMJ1PbBpa1WU\nJ4M0zIH5VS7zHmA14JfA4cCYKpdfMTPbPNnmVyjy9nyyv53cCGwNnE/U5fPFJjKzZZL13LLI2y2y\nP5jZlcn+/L6ZLXT8NrOvzWxwreMoobUdEyrah8ysdwPH1WMqXWAF21C1jxMVMbMfm9mZaSy7Up3S\nDqCGDit4fQSwazLe8sZX+yC/GnHQGwO8XckMZrYt8Hegjthxlgb6AX2A9yso4nhgsbzXPwL2B04A\npuWNf7mSeBri7lPNbDFgTjXKawcOoP421yxm1gPYCPiFu/+lWuU2Qx9im38QmFTw3pZk/wvs+8BN\n7n5tA9MtS6znV8CrtQ6qAWsSx7TbCsZnva4zoYn70M3As0XGv9KIRZfbhn4BnNGIsqppP+AHwGUp\nLb9BbTZZcfe/5r82s22AXd19SI0X3ZQvpYOIjHpXd88lF5eaWedKZnb3B+sFYLYmkaw84O6FXx4L\nSZYz393nVRqwu39X6bS1ZmaLu/uMEu8t5u4zm1l+s8poTL1WqEfyd2qVy20qo8SXpLvPbeFYGsXM\nlgK6UFldVi3hrILXgV+Z2R3unsqv8bRUY5+mafvQiMLvlSYouQ0ln2Ob+SyTlr9OVfuucPd2MQDX\nAvPKvN8FuAj4AJgFjAcuBDoXTLc38CLwNfAN0YJyfvLeHsTGNi/5m/v/wAZiuwL4DuhWpXU9J1nu\nCkXe653EdTTwq2Q95xAtQksAlwCjiBaZacBTwFYFZXRLyjg5b9xVybieRPPqVOBL4Dpig60k7u8n\ny5uW1O2TQJ+CaXLLWR14IPkchifvDQU+IX4xPZWUcWvevEcSB/mZwOfATcByBeWXLAPYFHgEmJiU\nMR4YXLiNFFmvoUBdkc9gAHAqMC4p71/Axg2UdWWRbayu2HIK6uyrIp/fBcAhyTY8K/ncdygy/xrA\nnUmdzQTeA65K3julSDzzgF7J+68TSXN+eSsBdwGTgRnAv4EDSmynja6jvDI2AB4ifsV+S5ze+X7e\n+8Vin1KirN5Fpp1Hsg8QrUofEy0eTyTL+xz4TZGyOgJn59X7p8DVwBIVrNOVyXL3TWI4suD9r4DB\nea9z0/UqsT79imz76wD/TNZhPHBE8v4WSf1PJ1p8+xWUeUoSWx/gjiSWr4jTbAutG/Fr/uWkvK+A\n+4G1Kt0fy9TRNsDwZNqpwGNA70r2oQY++wEVfD47AM8Qx75cPV1d4TZUbj/9KTA2KfNZYO1kmtNY\nsG88DvQoiGc34jj5SbKtjSO+5zrnTfNgkbimFMRxXbKdzgLeAo4rWE5+rEcnsX4H7Ji8P5A4FnxL\nHLNHVVKf+UObbVlpjCQDfJzYyW4gDsabA2cCaxEHdMxsM2LneY1ICL4D1gO2TYoaDfwOOBf4EzAi\nGd/Q6Zc7gJOJpGVgNdapAqckf69J/n5LJBoHA38jkrZliQ1vuJn1cvcPy5SXO1/9KHEQPgPYDjiW\nOIiXbV40s32JU2HPEXXbEfg58JyZbenuudN1ueX8A3gDOB2Ym/fe4sCwJI57iB0DMzuVqN/niVNt\nawAnAVub2ffcfXa5MsysK5E8zQQuB74AViW+DBo6JVaqaf4EonXzaiJZPhO4F9i4TFmDiWTpYhY0\nS09pYDml+hL8gDhX/2dgNlEvD5jZap78ck06S75KfB43Egff1YnWwFOJL+ZNiKTibOKgCPBRsZjM\nrBuR7C9PbHufEfvXvWZ2pLsX9rdoSh1hZqsDLxHbxhXE9v0z4Ekz29Pdnyb2+enAX4j9+u/EPl3M\nR0Qz/eVE4jYsGf/vvGkWJ77knyC+IH4InGtmY9z9b3nT3UPU/U3Am8D6wInJOu1abr3yPEKcNj7H\nzAZ7+daVcttF4evFiHp5JFmHAcAtZvYdse43EceHk4EhZra6u3+RV4YRp6Y+I/bj3sQxpAdxejom\nMjuB+AH5ALFNL0Xsjy+YWW93n5wXU9F9uhgz2wp4GphAfHF2Ik6T/8vMtkqOI+X2oXK6mln3IuO/\ncvf5yTb3GHHsvIDY5tZmwWfa0DZUaj/9IfFD8gbi8zkbeCjpm/QTYvteidh/ryNOO+ccmpR5DVFv\n2wNnAcsRx1eS+ZcnPqtjiM/wOwAz60Rs05sRx4l3iGPedWa2nLv/riDW/YjP8s/Ej87PzOwAYrt5\nGLie+Ew2Ib43by2yvsU1JrNpzQNlWlaIg9h3QN+C8ScT2eZmyesziYPf4mWWsx2RYZZtTSmY5yfE\nhj0HuKgK61pJy8oECn7tEF9IHQrGLZ9s5H/IG1esZSX3a+X3BfMPB95tIN5ORNb+14LxSyZx3lNk\nOX8qUs6DyXr/smD8EsmO8y+gY974Q5KyTqmgjJ2SaXduwufxIMVbVsYDXfLGH54se9sGyiv6S69w\nOQV1VvhLaT7xq3OFvPE7JOMPyRv3ENH6sW6ZeAaS15pS8N4o8lpWiPP184A988YtSiSen5O0wlWh\njm5L9qeN88YtkyxjVJG6uKCCz3Htwu2+yHZzfN44I374PJk3bp+kjD0K5v9JYb2UiCHXstKB+BKb\nT9LykbxfrGVloc+G4i0ruXU4Jm/cikk9ziVOU+fGb1FYFyxoqXqqYFkXJuVun7zunmxTlxRMtzqR\nPF7a0P5Ypn6eIY5X+dv1mkSLwIMN7UMN7G/5LQ/5LSPrJdMdkbxes4nbUKn99Guge97405Px71G/\nheS65LNaOn/fKrKcS4gfJ93yxt1JkVbFZJ3mA8cWjH8iqdPlC2KdAaxcZF/8qJLPr9zQZq8GaqQD\niFaR8WbWPTcQGboBOyfTfZ28/nG1Fpx0rr2b+GV1CnC2mZ1eMM1zZjas2PzNcLe7T88f4e7zPPmF\nZmFZIisfTbQ6NcSJX9/5/kUchMrZnjgoDimo/0WT+XcumN6JXxmlFMawA9AVuNbr9x8ZQiRDP6ig\njNyvuR+Y2SJllt0Yg919Vt7rfxHbV0td+vmQ1+/T9CJxwFkLom8AsCcwxN3fq9Iy9yKS1ydyIzxa\nta4jEuPCqySaWkd7EV+a/8lbzlfEgbOXma3U9FUoaT7xSz23PCfqND/WA4jWp38XbOsvJPMXbusl\nuXt+60q1juXzyeu06+6fJfFOcPen8qb7N/HFXPg5OPGrOt+1xGe2d/K6H7Fv/62gDqYTx5pidVC4\nPy7EzJYg9vW/5m/X7j6OSHp2b2Y9XUG0kuQPuxEtx7Dg++FHVfw8AB529y/zXuc69P7V3ecUjO9A\ntBoD/9u3gKifpJ5fJH4g9qpg2XsRP/RuKRh/JbAIsf75/uHunxaM+xpYzsx2qGB5Jek0UFiX+IAn\nF3nPgdwlmXcS/R4Gm9nlxDnU+72gg2sjXQyMdvfbAcxsReAyM/vW3XM7/YYsfABorvHFRprZsUSL\n0jrU3z7qKiz344LXXwGdzGxJd/+mxDzrJn8fKvJeqabRcSXKmlJkOasnZbxbr2B3N7N3WTiZWqgM\ndx9tZrcAg4Cfm9lzSbx3e4nOvRUovC9H7h4LyzSxvGYt36Mp+5u85a8KdAb+UzhjM6xO8asnxhAH\n+tzpm6IxUkEdmdmixD47tsRycnFMqCDexpjkC3cm/Ir6sa5L1GtDx5pK/ZbYDg8nTic316SCL0CI\nFrh623iy73xL8c/h/YJpJybb1RrJqHWIz7rYMcVZ+BhSbJ8uZhXiy/rdIu+NAQ4kTkd9VkFZxYzx\nOH1YyqPEqZ0/Ar82s6eJ04v3ePM62RfuA7lOwf8tMf5/n4mZrU20bO1BXGWa40RrSENWB8YX2Sby\n96N844uUcSXRovismX1M1NHf3P2ZCpb/P0pWQgdgJHGap1hv7Y8A3H1G0hKyC/ErYU/gEDN7zN33\naeKytybO55Es49zksro/JTv4TKLvSLWvYlqoN72ZnUic27ybOOf6JfHr6SLil1AlSu2U5a6k6EDs\nPMcS53srUepqgOZeJVCyDHc/2syuJ34Z7k782jvdzLZ290rOeRdqSl2VU6pvQscWWn4ttIYYcyqJ\ntQOxjR9D8XVo1Bepuz9iccPBc8zsrmKTlJi1sdtENT+H3P7+I6I1pdCsgtfV2KdrLklI9jKz7YnW\n2j2JH7gnmtmORb7wK9WkzyRJ2p9Nxv2WSCJnEn2k/kRt7rO20Gfl7h+b2SZEK82eyd9jzOwqdz+t\n0oKVrIQPgNUryfSSpt2nkuE0M/stkUVv6+4v0fj7HDjxSyvfz4kOULmOave4+zuNLLcp9if6PBye\nP9LMlqR0x8Nq+IDYwb5q4JdLU32UlL8+0SMdiFNdxC/diu+14+6jiH4YvzWzPYkOdUcSTcRp+4ro\nCFdojSaW9zFxDnyTBqZrzDb/EfE5FNowKeejIu81irvPNrNJZZaTi6PRRTc9qv/5gLhK6Tmv3iXH\nvyVOcxTeWwpimzDq/6qG2CaqsT7FrEuczgH+d0+TJVnQGpr7QfKZu/+b6vkvcRqr1Oc+i+hYW1Pu\n/gJxWu9sMzuOSAx+SHQmrlWdF7M1sDLwQ3f/R25kiU7CpeL6CNjTzDp5/dsQNGo/Sk5HDQWGJqfI\n7gROMbMLK/2hpz4r4V5gLTM7vPANM1s8OXdP0oejUG6nzLU85H4pFB4cShlOZONb50YkCdEA4tK7\nlSl+eqQW5lHwS8nMdiMuG6yl54mOj2cmvwbqMbPlmln+v4gOzCeaWf4vyoOJ+n20oQIsHjFQ+Cvy\njeRvpa1OtfYBsGpyVQLwv2bg3ZtSWNJX5HHgYDNbr8yk0yn+hVjMY8B6ZrZHXoyLEFdsTKZ6N1t7\nDNjV8u4kbWZLE4nlaHdvyimgxu7bxdxLNL//ovANM1sk+WHQKO7+MJGE/5qFj+m5K/gK79R9XGOX\nUyEDjivYV04mvgxz/ZQeJjp4nlusb0eJL9MGJX3wnie21+XzyluDaMUZVsUEcSFmVuyU2GiiTpr6\n/dAcuZaX/9VxUt8nFZl2OnG1U+Hn8RhxdU/hVaqnEj9g/9lQEIXfm8lnkDu1XPGxUy0r4RaiN/5t\nZrY7calxZ+JL+idEB9C3gYvMrA+x031MdAo9njgg5M7D566FP9HM5hDnel9y91LPDTmdyMKfMbOb\niC/AFYle2N8Rv/pvNLM3W6B15VHgCjMbQiRRGxBJU02X6+7fWdyy+u/AG2aWu6fHqsQX7btEfTS1\n/Olmdi7R+jHczP5OnGs9idhpGuy8Rxzszjez+4le+IsBRxGfb0slkw0ZTFxt85iZ/Zk4d30csY5r\nNrHMXxCX4L9qZjcS674acJC7537B5voenG9mtxPb7eO+4AaH+a4mEoa/m9m1RMvhoUTrzZFevZvI\nXUBcCfNsspzpxAF3WZJbETRW0vfiU+BIM/uM6HhY15jOx+7+sJndQ9z0cWuimd6J1oCfJLE1pXXx\nAqJ1pd4vZHf/1MyeIFp/FyP66exHtHTUSnfgCTN7iGjp+xnwqLv/K4lpkpmdRnSqfiXZH78iWnt+\nmKzHeU1c9llEnY5ItteOxDF6DnGVZHNsY2azi4wf4+51wMkWl+k+TLQiLUu0kk8kWuKrsg01ID9J\nrCP2rxvMbAMiQTyYuAVAoZHEqcnrzOx5YFbSF/OvxO0DrjWzjYnvgn5Ex9rzfcEl5uXcZ2ZziR+N\nE4iWtxOB55MO3JVp7uVErWUgeqTPLfN+J2JDf4s47zaZOEifRXKpMtH7eyjR3DiTSFhuJ04h5Zf1\nY+ILYjaV3RRuDeKL5jOiqfID4ot1BeJLdXIybrkK17WhS5fnUeSSPSID/y3RtDedSNp2Ig4eI/Om\n65aUcVLeuCuJyxsLL33O3ShqqQri3oL44v+CSALeT+plm4aWk7z3IGUukSMSnvybwv2lsE5LlUEk\nbrcnn8N04gD0OLB1BetVWH9FP4Ni9VqivHKfYT8isZ5JJL79kjr7sshyfltk/inA5QXj1iIOWpOS\ndR9L3qXsyTQnEwfoOdS/KdwoohN6/rQrEc3A+TeF27+Sday0jvI+s6EsuCncc8BOJcpbqC5KlLkz\n8SUwi4VvCldsu6lX93njT0zKmZ7U+Uhi31u2geWX2/7rkpjuKBjfk/gC/TbZbv9A7GvzWPjS5WLr\nMIo4bVVsW7kj73VuX9+c2FemJEOpm8LtTnyJf53E9g5xIcFGle7TJepoaxbcQG4qcU+m3gXTlNyH\nyuxvpYYr8pb7N+L4OZO4HcO9+evTwDZU0X5aZt/IXab+fwXTPpvUxYRkGVsX+ew7E8fDScn2lX8J\n9VLEqawJScz/YeFLmcsdUw4lWmByN5XMfb8t05jP1ZLCRERERDIpM31WzOwEMxtnZjPNbISZbVFm\n2h+b2ZNmNsnMpprZS8npm8LpfmJmY5IyR5vZXrVdCxEREam2TCQrZnYQcQvi84kmxNHAsDIdK3ck\nbn2+F3GzsmeAR8ysd16Z2xJN1zcR500fInoi17qzqIiIiFRRJk4DmdkI4BV3PyV5bcSNcK5x999X\nWMZbxCW+Fyav7yH6mvTLm+Zl4lbbx1d7HURERKQ2Um9ZMbPOQF/i6hOg3r1MtqmwDCN6t+dfr71N\nUka+YZWWKSIiItmQerJC3PysIwvfrGci0Yu9EqcTD6u7N29cz2aWKSIiIhnQ6u+zYmaHAOcSl2F9\n0dD0DZTVnXiGwngWvuWziIiIlNaFuBXHMK//8MVmy0Ky8gVxfXaPgvE9iOuySzKzg4lrww/whW+V\n/3kTytyDeC6OiIiINM2hxAUuVZN6suLuc8xsJPFwwIfhf31QdiEeqleUmfUnHsd+kOc9bj7Py0XK\n2C0ZX8p4gLvuuosNN9ywzGRSTYMGDeLKK69MO4x2RXXe8lTnLU913rLGjBnDYYcdBsWfvtwsqScr\niSuA25Ok5VVgELA4cRdEzOwSYCV3PyJ5fUjy3snAa8mDsgBm+oJbfF9N3Gr7NOIOhv2JjrxHl4lj\nFsCGG25Inz59qrZyUl63bt1U3y1Mdd7yVOctT3Wemqp3o8hCB1vc/V7gl8TzLUYBvYA9fMFzB3pS\n/8nERxOdcq8jbgGcG67KK/Nl4jkbxxC3WN8P2Nfd367pyoiIiEhVZaVlBXe/Hri+xHtHFbzeucIy\n7wfub350IiIikpZMtKyIiIiIlKJkRVLXv3//tENod1TnLU913vJU521HJm63nxVm1gcYOXLkSHXK\nEhERaYS6ujr69u0L0Nfd66pZtlpWREREJNOUrIiIiEimKVkRERGRTFOyIiIiIpmmZEVEREQyTcmK\niIiIZJqSFREREck0JSsiIiKSaUpWREREJNOUrIiIiEimKVkRERGRTFOyIiIiIpmmZEVEREQyTcmK\niIiIZJqSFREREck0JSsiIiKSaUpWREREJNOUrIiIiEimKVkRERGRTFOyIiIiIpmmZEVEREQyTclK\nY112GZx+etpRiIiItBtKVhpr1iz485/hm2/SjkRERKRdULLSWEcdBTNmwL33ph2JiIhIu6BkpbFW\nWw122w1uvTXtSERERNoFJStN8bOfwUsvwZgxaUciIiLS5ilZaYp+/aB7d7WuiIiItAAlK02x6KJw\n+OEweDDMmZN2NCIiIm2akpWmGjgQJk2Cp55KOxIREZE2rVPaAbRam2wCr78OvXqlHYmIiEibpmSl\nOXr3TjsCERGRNk+ngURERCTTlKyIiIhIpilZERERkUxTsiIiIiKZpmRFREREMk3JSrVMmwZvv512\nFCIiIm2OLl2ulgEDYNw4GDky7UhERETaFLWsVMvhh0NdXdwoTkRERKpGyUq17L039OgBt9ySdiQi\nIiJtipKVauncGY48Eu6+G2bNSjsaERGRNkPJSjUNGABffQUPPph2JCIiIm2GkpVqWm892GEHnQoS\nERGpIiUr1TZwIAwfDuPHpx2JiIhIm6BkpdoOOAB22w2mTEk7EhERkTZB91mptiWWgCefTDsKERGR\nNkMtKyIiIpJpSlZEREQk05SsiIiISKYpWREREZFMU7IiIiIimaZkRURERDJNyUqt3XILXHhh2lGI\niIi0WkpWau2jj+D3v4fp09OOREREpFVSslJrAwbAt9/CffelHYmIiEirpGSl1tZYA3bZRQ83FBER\naSIlKy1h4EB44QUYOzbtSERERFodJSst4Uc/gmWWgdtuSzsSERGRVkfJSkvo0gUOOwzuuAPmzk07\nGhERkVZFyUpLGTgQPv8cHn887UhERERalU5pB9Bu9O4NTz4JO+2UdiQiIiKtipKVlrTbbmlHICIi\n0uroNJCIiIhkWmaSFTM7wczGmdlMMxthZluUmbanmd1tZmPNbJ6ZXVFkmiPMbH7y/vxkmFHbtRAR\nEZFqy0SyYmYHAZcD5wObA6OBYWa2XIlZFgUmAb8DXi9T9FSgZ96werViFhERkZaRiWQFGATc6O6D\n3f0d4FhgBjCg2MTu/pG7D3L3u4BpZcp1d5/s7pOSYXL1QxcREZFaSj1ZMbPOQF9geG6cuzvwFLBN\nM4vvambjzexjMxtqZhs1szwRERFpYaknK8ByQEdgYsH4icSpm6YaS7TM9AMOJdb1JTNbqRllVs/c\nufDJJ2lHISIiknlt9tJldx8BjMi9NrOXgTHAz4m+Mek66qh4VtCrr6YdiYiISKZlIVn5ApgH9CgY\n3wP4vFoLcfe5ZjYKWKehaQcNGkS3bt3qjevfvz/9+/evVjiw334xvPkmbLpp9coVERGpsSFDhjBk\nyJB646ZOnVqz5Vl0D0mXmY0AXnH3U5LXBnwMXOPuf2hg3meAUe5+WgPTdQD+A/zD3X9ZYpo+wMiR\nI0fSp0+fJqxJI8yZA6usAv37w1VX1XZZIiIiNVZXV0ffvn0B+rp7XTXLzkKfFYArgKPN7KdmtgFw\nA7A4cDuAmV1iZnfkz2Bmvc1sM6ArsHzyesO89881s93MbE0z2xy4G1gNuLllVqkBnTvDT38Kd94J\ns2enHY2IiEhmZSJZcfd7gV8CFwCjgF7AHnmXGvcEVi2YbRQwEugDHALUAf/Ie38Z4C/A28n4rsA2\nyaXR2TBwIEyZAg89lHYkIiIimZWJ00BZ0aKngXK22w66doVhw1pmeSIiIjXQHk4DtV8DB8I//wkf\nfZR2JCIiIpmkZCVtBx4IvXrBxx+nHYmIiEgmZeHS5fata1d4vdzjjURERNo3tayIiIhIpilZERER\nkUxTsiIiIiKZpmRFREREMk3JioiIiGSakhURERHJNCUrWfPQQ3DNNWlHISIikhlKVrLmtdfg3HNh\nxoy0IxEREckEJStZM2AATJsG99+fdiQiIiKZoGQla9ZaC3beGW65Je1IREREMkHJShYNHAjPPQfv\nv592JCIiIqlTspJF++0H3brBrbemHYmIiEjqlKxk0WKLwaGHwu23w9y5aUcjIiKSKiUrWTVwIHz2\nGTz+eNqRiIiIpErJSlb16QN33QXbb592JCIiIqnqlHYAUsahh6YdgYiISOrUsiIiIiKZpmRFRERE\nMk3JioiIiGSakhURERHJNCUrIiIikmlKVloLd/j667SjEBERaXFKVlqLk06CvfZKOwoREZEWp2Sl\ntfj+92HECHj77bQjERERaVFKVlqLfv1gueXgllvSjkRERKRFKVlpLRZZBA4/HAYPhu++SzsaERGR\nFqNkpTUZOBC++AIeeSTtSERERFqMkpXWZOONYaut4Oab045ERESkxShZaW0GDoRhw+CTT9KORERE\npEUoWWltDjoIVl4Z3nor7UhERERaRKe0A5BGWmopGD8eOnZMOxIREZEWoZaV1kiJioiItCNKVkRE\nRCTTlKyIiIhIpilZERERkUxTsiIiIiKZpmRFREREMk3JSmv3wgtw++1pRyEiIlIzSlZau8ceg1NP\nhZkz045ERESkJpSstHYDBsDUqfDAA2lHIiIiUhNKVlq7ddaBnXaCW25JOxIREZGaULLSFgwcCM88\nAx98kHYkIiIiVadkpS3Yf/94ZtBtt6UdiYiISNUpWWkLFl8c+vePq4LmzUs7GhERkapSstJWDBwI\nn34Kw4alHYmIiEhVKVlpK773PbjySth007QjERERqapOaQcgVWIW91sRERFpY9SyIiIiIpmmZEVE\nREQyTcmKiIiIZJqSFREREck0JSsiIiKSaUpW2rI5c9KOQEREpNmUrLRV550Hu+6adhQiIiLNpmSl\nrdpkE3j+eXjnnbQjERERaZZGJytm1snMzjOzVWoRkFTJvvtC9+5w661pRyIiItIsjU5W3H0ucDq6\n+222LbooHHYY3HGH+q6IiEir1tTTQE8DO1UzEKmBgQNh0iR49NG0IxEREWmypraOPA5camabAiOB\n6flvuvvDzQ1MqmDTTeMBh7fcAj/+cdrRiIiINElTk5Xrk7+nFXnPgY5NLFeqbeBAOOEE+PRTWHnl\ntKMRERFptCadBnL3DmUGJSpZ0r8/dO0KL7+cdiQiIiJNok6ybV23bjBhAiyxRNqRiIiINEmT77Ni\nZjuZ2SNm9n4yPGxmO1QzOKkSJSoiItKKNSlZMbPDgKeAGcA1yTATGG5mh1QvPBEREWnvmtqycg5w\nhrsf5O7XJMNBwFnAuU0p0MxOMLNxZjbTzEaY2RZlpu1pZneb2Vgzm2dmV5SY7idmNiYpc7SZ7dWU\n2ERERCSFs717AAAgAElEQVQ9TU1W1gIeKTL+YWDNxhZmZgcBlwPnA5sDo4FhZrZciVkWBSYBvwNe\nL1HmtsBfgZuAzYCHgKFmtlFj4xMREZH0NDVZ+QTYpcj4XZP3GmsQcKO7D3b3d4BjiVNMA4pN7O4f\nufsgd78LmFaizJOBx939Cncf6+7nAXXAiU2Ir+1xh8GDYdastCMREREpq6nJyuXANWb2ZzM7PBlu\nAK4C/tiYgsysM9AXGJ4b5+5O9InZponxkcz7VMG4Yc0ss+0YOxaOPho22wxeeintaEREREpq6n1W\n/gwcDGxKJChXAZsAB7n7jY0sbjniJnITC8ZPBHo2Jb5EzxqU2XZssAGMGgVLLw3bbw+nngrTpzc8\nn4iISAtrylOXO5rZjsAz7r69u3dPhu3d/aEaxCi1stFG8OKL8Mc/wl/+Ar16wdNPpx2ViIhIPY2+\nKZy7zzOzJ4ENga+rEMMXwDygR8H4HsDnzSj386aWOWjQILp161ZvXP/+/enfv38zwsmojh3htNOg\nXz/42c9gl13gmGPgD3+ApZZKOzoREcmgIUOGMGTIkHrjpk6dWrPlWXQPaeRMZv8GznT34Q1OXFl5\nI4BX3P2U5LUBHwPXuPsfGpj3GWCUu59WMP4eYDF33zdv3IvAaHc/vkRZfYCRI0eOpE+fPs1ap1Zp\n/vxoYfn972HECFhhhbQjEhGRVqKuro6+ffsC9HX3umqW3dQOtr8G/mhm+5jZima2VP7QhPKuAI42\ns5+a2QbADcDiwO0AZnaJmd2RP4OZ9TazzYCuwPLJ6w3zJrka2NPMTjOz9c3sN0RH3j81Ib72oUMH\nOPbY6HyrREVERDKiqc8Geiz5+zDxlOUcowlPXXb3e5N7qlxAnKp5HdjD3Scnk/QEVi2YbVTesvsA\nhwAfEfeAwd1fTu6me1EyvAfs6+5vNya2dqlz57QjEBER+Z+mJis7VzUKwN2vB64v8d5RRcY12Crk\n7vcD9zc/OhEREUlLo5MVM+sE7ATc6u7/rX5IknnPPw877ABmaUciIiLtQKP7rLj7XOB0mt4qI63Z\na6/BTjvBD38I/1WuKiIitdfUDrZPE60r0t5ssQU89BDU1cHGG8NNN8Wt+0VERGqkqcnK48ClZvZH\nM+tvZv3yh2oGKBnUrx+8/TYccEDck2XXXeHDD9OOSkRE2qimnsrJdYQ9rch7jb4aSFqhpZeGW26B\ngw6KhGXTTeHii+HEE+NGcyIiIlXS1GcDdSgz6JuqPdl9d3jzTTjqKPjtb2Hy5IbnERERaYRGJStm\n9piZdct7fZaZLZ33uruZ6T4m7c2SS8Kf/gTvvQc99ZxIERGprsa2rOwBLJr3+lfAsnmvOwHrNzco\naaW6d087AhERaYMam6wU3lhDN9oQERGRmmrq1UAijTduXNoRiIhIK9TYZMWp/ywgirwWWdizz8K6\n68IZZ8DMmWlHIyIirUhjL1024HYzm5287gLcYGbTk9eLFp9N2r3tt4cLL4Tf/AaGDoVbb41xIiIi\nDWhsy8odwCRgajLcBUzIez0JGFzNAKWN6NQJzjoLXn8dll8edtwRTjoJvv027chERCTjGtWyUuzp\nxyKNssEG8SDE666Ds8+GRx+NW/bvumvakYmISEapg620vI4d4eST42Zya64J++0HX32VdlQiIpJR\nenKypGettWD4cHjnHVhmmbSjERGRjFLLiqTLDDbcMO0oREQkw5SsiIiISKYpWZHs++abtCMQEZEU\nKVmRbHv6aVh9dTjtNHjgAZg4Me2IRESkhamDrWRb795w8MFw//1w5ZUxbu2144Zy220Xf9XnRUSk\nTVOyItnWvTtcf338/9//wosvLhjuvBM23hjeeCPdGEVEpKaUrEjrscoqcNBBMUD0ZZkwoeH5pkyB\nZZetbWwiIlIzSlak9VpySVh//fLTTJwIPXvGdNttt+DU0brrxmXTIiKSeUpWpG1bYgm4++44bfTC\nC3DbbeAezyfadttIXo49NhIfERHJJF0NJG1b165wyCHxLKLRo+O2/k88AT//OUybBpdcAp07px2l\niIiUoZYVaV+6dYM99ogBYN68eFZROc8+C6uuGo8H0KkjEZEWp2RF2reGEhV36N8fPv8cevRYcMn0\ndtvB5pu3nlaZ996LFqUpU2L48sv6/8+aBZ98knaUIiJFKVkRKccM3n4bXn45+ry8+CL86lfx5b7Y\nYrDllnDZZbDVVrWLwR1eeWVBclGYbEyZAmeeCd//fukyRo+G00+PS8GXXXbBsMkmC/53L99ydN55\nkaTtsgt00qFDRFqOjjgiDVlmGdh77xgAvvsO6uoWdNrt2rX8/HPnwtdfF08ypkyJS7KPPrr0/Gaw\n886RIAF06bJw0tFQC9H++8MBB1S+zoWmTYN774Xf/S46Jx94YLQ4bbMNdFDXNxGpLSUrIo21yCKw\n9dYx/OIXDU9/3HFw880Lj1988Ug0dtutfLICMHJk9LdZdtlo0Wms5va1WWopGDMGRo2CIUNiuO46\nWG21SFr694devdSnR0Rqwtw97Rgyw8z6ACNHjhxJnz590g5H2orXXou77xa2hnTpknZkTTd/frQq\n/fWvcN990do0aVLTEikRaRPq6uro27cvQF93r6tm2WpZEam1LbaIoS3p0AF23DGGa6+Nfj1KVESk\nRnSyWUSap3PneOBkOfPnxz1uRESaQMmKiNTeCy/Epd/77gv33APTp6cdkYi0IkpWRKT2NtwQ/vCH\neFZT//6RuBx6KDz6aPR3EREpQ8mKiNTe8svDKafAiBHw/vtw9tnw+uvwwx/CiivC+eenHaGIZJiS\nFRFpWWuvDeecA2+9FTerO+aYuDRaRKQEXQ0kIukwi3uz9OqVdiQiknFKVkQk+4YPjxvSHXRQPFSy\nNZowAZ58Mu5HU2yYPDn69Cy9dOkyGnokglTu88/jM4G4QWP+0KWL7sycMUpWRCT76urg3HPj+UY7\n7ACHHBKPD1huuZaNY/78eERCsWRjzz1h221Lz/vOO3DUUXEn4hVWiE7GK6wQz5VaYYUYunUrv/z+\n/ePKqlVXjWG11er/v+aacfPB9mr27EhCpk2DTTctP+0uu8T9gUr5zW/K96X67LN4XlZhopMbllgC\ndt9dpzirRMmKiGTf6adH35ahQ+NW/yeeCCedFI8qOOSQuCR6ySUbX657XEb97bfQs2f5aXv3jn42\n8+fXH7/IIpF4rLlm+WRlhx3i+U6LLtr4OHMOOQTWWy+ekP3xx9FJ+ZNPFjw3auDA4o92yJk/H775\npuGkKOtefRUeeCAShgkT4u9nn0UiCbDSSvDpp+XLuPnmuEdQx44wY0ZsBzNmLBgaunfQ9Onwxhv1\n58mVM29eTDN2bPlk5YIL4IorIrEplvCstx5cfnnl9dKGKVlppJdfjkekDBiQdiQi7Uy3bnDEETFM\nmhS3+R8yBA4/HP74x/LPaXr+eXj88fotIRMnxt+ZM+NX+BtvlF/+ccfFKZhcK0iuZWTJJSs7NdO5\nc+PWt5h+/WLI5w5ffBFJyxJLlJ//k09gjTXiCzS/ZSb/7xZbNFxONbhHC0gu0cgNEyZE0rXRRqXn\nfffdeLDmiivGsMEGC/5fcUVYeeWGl7/NNs2Lf5114mnoxcyZE4lLQw853WWXSEoKE55c0pNLQkXP\nBspXybOBzjkHrrwyrr5caaWWjU9Eivjoo0gYll229DTXXhs7bi7RKEw4VlklWj7aumnT4B//iKQl\n1zqT+/+LL2KaMWPiy7+Uzz6LFpqePRt+2ncxc+bEfXcmTIhEMd+SS0aycf318UUurUotnw2kZCVP\nJcnK1Kmw1lrwk5/ADTe0bHwiIjUzY0Y8cHPNNcu3Ap10EvzpT9CpU7RgrLZadAqeODESmS23hL//\nvfyyzjsvkstcS8hKK8XflmjRkZrRgwwzpFu3aF054wwYNAjWXz/tiEREqiDXR6IhgwbBHnvUb535\n+mvYZJPoQ9RQXw+IvhoijaBkpQmOPx6uugp+/es4bS4i0m6stVYMIi1IF5I3QZcu8cPg73+H115L\nOxoREZG2TclKEx1+OGy8MZx5ZnRqFxERkdpQstJEHTvCJZfAiy/GlUEiIiJSG+qz0gz77APjxukS\nZhERkVpSy0ozmClRERERqTUlKyIiIpJpSlZEREQk05SsiIiISKYpWREREZFMU7JSA7rvioiISPXo\n0uUq++Uv4+8f/5huHCIiIm2FWlaqbJll4mn048enHYmIiEjboGSlyk49NZ58ft55aUciIiLSNihZ\nqbIllohE5a674I030o5GRESk9VOyUgM/+xmsvTacfXbakYiIiLR+SlZqoHNnuOgieOwxeP75tKMR\nERFp3ZSs1MgBB0DfvnDmmbqUWUREpDmUrNRIhw5w6aVxddC0aWlHIyIi0nrpPis1tOuuMYiIiEjT\nZaZlxcxOMLNxZjbTzEaY2RYNTP99MxtpZrPM7F0zO6Lg/SPMbL6ZzUv+zjezGbVdCxEREam2TCQr\nZnYQcDlwPrA5MBoYZmbLlZh+DeBRYDjQG7gauNnMdiuYdCrQM29YvQbhi4iISA1lIlkBBgE3uvtg\nd38HOBaYAQwoMf1xwIfufoa7j3X364C/J+Xkc3ef7O6TkmFyzdZAREREaiL1ZMXMOgN9iVYSIDIM\n4ClgmxKzbZ28n29Ykem7mtl4M/vYzIaa2UZVCltERERaSOrJCrAc0BGYWDB+InHqppieJaZfyswW\nTV6PJVpm+gGHEuv6kpmtVI2gRUREpGW02auB3H0EMCL32sxeBsYAPyf6xqRi6lSYOxe6d08rAhER\nkdYlC8nKF8A8oEfB+B7A5yXm+bzE9NPcfXaxGdx9rpmNAtZpKKBBgwbRrVu3euP69+9P//79G5q1\nrPnzYautYMcd4S9/aVZRIiIiqRkyZAhDhgypN27q1Kk1W555Bm6vamYjgFfc/ZTktQEfA9e4+x+K\nTH8psJe7984b91dgaXffu8QyOgD/Af7h7r8sMU0fYOTIkSPp06dPc1erqCuvhNNPh//8B9ZfvyaL\nEBERaXF1dXX07dsXoK+711Wz7Cz0WQG4AjjazH5qZhsANwCLA7cDmNklZnZH3vQ3AGuZ2WVmtr6Z\nHQ8ckJRDMs+5Zrabma1pZpsDdwOrATe3zCoVd9xxsPLKcM45aUYhIiLSemQiWXH3e4FfAhcAo4Be\nwB55lxr3BFbNm3488ANgV+B14pLlge6ef4XQMsBfgLeBfwBdgW2SS6NT06ULXHAB3H8/vPJKmpGI\niIi0Dpk4DZQVLXEaCGDePNhsM1huOXj6aTCr2aJERERaRHs4DdSudOwIF18Mzz4Lw4alHY2IiEi2\nKVlJyT77wHbbwVlnxVVCIiIiUlwWLl1ul8ziyqDx43UaSEREpBwlKynaYosYREREpDSdBhIREZFM\nU7IiIiIimaZkRURERDJNyYqIiIhkmpIVERERyTQlKxkybx7ceSeMG5d2JCIiItmhZCVDZs+GM8+E\n885LOxIREZHsULKSIYsvDuefD3ffDaNHpx2NiIhINihZyZgBA2CddeDss9OOREREJBuUrGRM585w\n0UXw+OPw3HNpRyMiIpI+JSsZdMAB8L3vRf8V97SjERERSZeSlQwyg0svhVdegaFD045GREQkXUpW\nMmqXXWD33eGqq9KOREREJF166nKG3XwzLLNM2lGIiIikS8lKhq26atoRiIiIpE+ngURERCTTlKyI\niIhIpilZERERkUxTsiIiIiKZpmRFREREMk3JSisyYULce2XMmLQjERERaTlKVlqR7t3h3XfhnHPS\njkRERKTlKFlpRRZdFC64AB58EEaMSDsaERGRlqFkpZU59FDYZBM46yw95FBERNoHJSutTMeO8ZDD\n556DJ55IOxoREZHaU7LSCu29N+ywA5x9Nsyfn3Y0IiIitaVkpRUyg8sug9GjYciQtKMRERGpLSUr\nrdQ228CBB8JHH6UdiYiISG3pqcut2D33RCuLiIhIW6aWlVZMiYqIiLQHSlZEREQk05SsiIiISKYp\nWREREZFMU7IiIiIimaZkpY2ZPDntCERERKpLyUob8sILsMoq8PrraUciIiJSPUpW2pCttoLVV4/b\n8IuIiLQVSlbakM6d4eKL4wGHzzyTdjQiIiLVoWSljdl/f9hiCzjrLHBPOxoREZHmU7LSxpjBpZfC\nq6/CAw+kHY2IiEjzKVlpg/7v/2D33eGcc2Du3LSjERERaR4lK23UpZfC2LFw221pRyIiItI8Slba\nqM03h8sug759045ERESkeTqlHYDUzhlnpB2BiIhI86llRURERDJNyYqIiIhkmpIVERERyTQlKyIi\nIpJp6mDbzrz/Puy5J2y55YJh881hscXSjkxERKQ4JSvtTKdOsM8+C+5wO3s2dOwIvXrFbfq33BIO\nOwwWXTTtSEVERIKSlXZmjTXgqqvi/zlz4M034bXXInl56SX429/gyCPTjFBERKQ+JSvtWOfO0KdP\nDD//eYybNStaWsoZPBh69IiWmGWXrX2cIiLSvilZkXq6dCn/vjucfz6MHx+v115b/V9ERKS2lKxI\no5jBhx/CBx/EqaPckN//ZejQ6BcjIiJSDUpWpNHMYJ11YjjkkBg3Zw689VYkLptvXn7+WbOiA69Z\n7WMVEZHWT8mKVEXnzpGkNJSoAJxzDtx5Z/3TR1tsAd271z5OERFpfZSsSIvbf39YYom4Cunqq2HK\nlBif6/+y335wwAHpxigiItmhZEVa3LbbxgDRYffDD+v3fxk9unyy8tVXcN99cSopNyyySP3Xm26q\njr4iIm2FkhVJlVm0qKy9NvTvX9k8n3664FLrUt5+GzbcsPT7v/sd/P73pZOd9dePU1XlXHUVfP11\n8TIWWQR69y4fw4wZ8J//RKfkjh2hQ4cF/+der7pqnGIrZe5cmD9/wfTqByQibZGSFWl1NtkkvqDn\nzo0rkGbPhu++W/D/7Nmw5prly9h11zgVVThf7nWPHg3H8fDD8O67C8+fc+GF0T+nlHffjdNe5Ywd\nC+utV/r93/wGLrpowWuz+slO797w8svll7HHHvDxxwsnTR06xHDsseVvFPjhh3D88QumzyVN+f9f\ncw2stFLpMh58EB57rPi8HTrAKqvA6aeXX49rrolWN7P6Q65edtoJttuu9PyTJsFddy2YvnB+Mzj8\ncFh66dJlvPYavP76wvPl/u/eHfr1K78ejzwC33xTf1x+EtqrF2y8cen5v/oKnnyy/DL23huWXLL0\n+2++Ce+8U/r9pZeG3XYrv4xhw+Dbb0u/v/HGsMEGpd//+msYPrz8Mnbfvfx6vPVW7EOldOsWx4Jy\nnnxy4fXI/zw22ih+3JQydSo891zp+QF23hm6di1dxtix8aiUfN/7XmXHqbZCyYq0SmbR4tC5c/md\nvJRttomhOZ5+euFx7nFl1OzZ8WiDctZfH0aNgnnzIvmaN2/BkHu9yirly9h/f1h33YXnz5VRSafl\nnXeOL+rCOObPj/VZbrny85tF4pebPldGrtUnN5QzcWJ8QeamzZWT+79cwpZz332ROOXmgfib+3+x\nxconK59/Hslfbp5iZey1V/lkZehQuPji0u/37t1wsvKLX8B775V+/8ILyycrH30EBx9cfhljx5b/\nkr/nnobX4/XXyy/jpJMaXo9yyfz48Q33XWtoPYYMaf56nHDCwolCvobWY9w42Hff8st4993Yj0sZ\nPHjh9Xj4YfjhD8uX25aY5/ZCwcz6ACNHjhxJnz590g5HRFq5YglPQ3eInjlzwbTFdOoUpxlLmTcv\nyihn8cWjxaqUWbMi4S6lQ4fySQLAtGnlk9QuXcrfhHLevIVbmAotuWT5+pw5s/x6dOzY8Hp8/XX9\n9Sj8bBZbLOqzlLlzo7Wr1PwQdwIv9+Pmm28Wbt1ZZpmGb+LZ0urq6ujbty9AX3evq2bZalkREamR\n/FNAlWpux/COHZvW2pivoUSiEkst1bz5O3Ys34pVicUWa359NjeGTp1g+eWbV8aSSzacVLV1ZXLr\nlmVmJ5jZODObaWYjzGyLBqb/vpmNNLNZZvaumR1RZJqfmNmYpMzRZrZX7dZAmmrIkCFph9DuqM5b\nnuq85anO245MJCtmdhBwOXA+sDkwGhhmZkXPlpvZGsCjwHCgN3A1cLOZ7ZY3zbbAX4GbgM2Ah4Ch\nZrZRzVZEmkQHlJanOm95qvOWpzpvOzKRrACDgBvdfbC7vwMcC8wABpSY/jjgQ3c/w93Huvt1wN+T\ncnJOBh539yuSac4D6oATa7caIiIiUm2pJytm1hnoS7SSAODR6/cpoNT1Glsn7+cbVjD9NhVMIyIi\nIhmXerICLAd0BCYWjJ8I9CwxT88S0y9lZos2ME2pMkVERCSDdDVQfV0AxowZk3Yc7crUqVOpq6vq\nVW7SANV5y1OdtzzVecvK++6s+kXVWUhWvgDmAYX34usBfF5ins9LTD/N3Wc3ME2pMgHWADjssMPK\nRyxVl1ybLy1Idd7yVOctT3WeijWAl6pZYOrJirvPMbORwC7AwwBmZsnra0rM9jJQeBny7sn4/GkK\ny9itYJpCw4BDgfHArMrWQERERIgWlTWI79KqysQdbM3sQOB24iqgV4mreg4ANnD3yWZ2CbCSux+R\nTL8G8CZwPXArkZRcBezt7k8l02wDPAucDfwD6A+cBfRx97dbaNVERESkmVJvWQFw93uTe6pcQJyq\neR3Yw90nJ5P0BFbNm368mf0AuJK4RPm/wMBcopJM87KZHQJclAzvAfsqUREREWldMtGyIiIiIlJK\nFi5dFhERESlJyYqIiIhkmpKVRGMfpCiVM7MdzOxhM/vUzOabWb8i01xgZhPMbIaZ/dPM1kkj1rbC\nzM42s1fNbJqZTTSzB81svSLTqd6rxMyOTR6YOjUZXjKzPQumUX3XiJmdlRxfrigYrzqvIjM7P6nn\n/OHtgmmqXudKVmj8gxSl0ZYgOk0fDyzUScrMziSe2XQMsCUwnaj/RVoyyDZmB+BaYCtgV6Az8KSZ\nLZabQPVedZ8AZwJ9iEeIPA08ZGYbguq7lpIfl8cQx+788arz2niLuBimZzJsn3ujZnXu7u1+AEYA\nV+e9NuIKozPSjq2tDcB8oF/BuAnAoLzXSwEzgQPTjretDMRjLeYD26veW7TevwSOUn3XtI67AmOB\n/wOeAa7Ie091Xv36Ph+oK/N+Teq83besNPFBilIlZrYmkZnn1/804BVU/9W0NNGqNQVU77VmZh3M\n7GBgceAl1XdNXQc84u5P549UndfUuslp/Q/M7C4zWxVqW+eZuM9Kyso9SHH9lg+n3elJfInqoZM1\nktwR+irgBV9wnyHVew2Y2SbEXbK7AN8AP3b3sclNKlXfVZYkhJsB3yvytrbx2hgBHEm0Zq0I/AZ4\nPtn2a1bnSlZE2r7rgY2A7dIOpB14B+gNdCPuwj3YzHZMN6S2ycxWIZLwXd19TtrxtBfunn8r/bfM\n7FXgI+BAYvuviXZ/GoimPUhRqudzoo+Q6r8GzOxPwN7A9939s7y3VO814O5z3f1Ddx/l7ucQHT5P\nQfVdC32B5YE6M5tjZnOAnYBTzOw74te86rzG3H0q8C6wDjXcztt9spJk5LkHKQL1HqRY1adGysLc\nfRyxEefX/1LEVSyq/2ZIEpV9gZ3d/eP891TvLaYDsKjquyaeAjYlTgP1ToZ/A3cBvd39Q1TnNWdm\nXYlEZUItt3OdBgpXALcnT3/OPUhxceLhitJMZrYEsTFbMmotM+sNTHH3T4im3F+b2fvEE69/R1yN\n9VAK4bYJZnY98fDOfsB0M8v90pnq7rkniqveq8jMLgYeBz4GliSe4L4T8UR4UH1XlbtPBwrv7zEd\n+NLdxySjVOdVZmZ/AB4hTv2sDPwWmAPck0xSkzpXskJFD1KU5vkecUmhJ8Plyfg7gAHu/nszWxy4\nkbhq5V/AXu7+XRrBthHHEnX9bMH4o4DBAKr3qluB2KZXBKYCbwC7565SUX23iHr3cVKd18QqwF+B\n7sBk4AVga3f/EmpX53qQoYiIiGRau++zIiIiItmmZEVEREQyTcmKiIiIZJqSFREREck0JSsiIiKS\naUpWREREJNOUrIiIiEimKVkRERGRTFOyIiL/Y2bzzaxf2nHkM7PbzOyBtOMQkfQoWRGRqjGz8UnC\nkz/MM7MzKph39WT6XgVvnQwcWZOA6y9fSZFIRunZQCJSTQ78Gri5YPw3FcxrFDzbBcDdK5k3M8ys\nc/I0dxGpErWsiLQjZvaMmV1tZpeZ2Zdm9pmZnV8w2Upm9piZzTCzD8xs/7z5O5vZn8xsgpnNNLNx\nZnZmwfzfuvukgmFmMv/SZna3mU1Kyh9rZkck832Y/H09aWF5Opnn9vwWj2QdrjGzK81sipl9bmYD\nzWxxM7vVzKaZ2XtmtmfePB3M7GYz+zBZ7jtmdnLe++cDRwD75rUG7Zi8t6mZDU/m+8LMbkyeJJ6b\n9zYze9DMfmVmnwLvJOOPN7N3k3r63MzubdKHJiJKVkTaoZ8C3wJbAmcA55nZLnnvXwDcB/QC7gbu\nMbP1k/dOAfYBDgDWAw4lHgNfqQuBDYA9kr/HAV8k721JtK78H9AT2C8ZX+xpqz8lnvi6BXANcEMS\n84vA5sCTwGAz65JM3wH4BNgf2JB4rP1FZnZA8v4fgXuBJ4gnr68IvJQ8PfYJ4Eugb7LeuwLXFsSz\nC1EfuwL7mFlf4GqilWm9ZH2fr6yKRKSQnros0o6Y2TNAB3ffKW/cK8Bwd/+Vmc0Hrnf3E/PefxkY\n6e4nmtnVwEbuvluJ8scRicbcvNFOPCL+RTN7CJjs7j8rMu/qwDhgM3d/I2/8bUA3d9+v2DqYWQdg\nKnC/ux+ZjOsBfEY8uv7VErFeC/Rw9wOLLScZdzRwCbCKu89Kxu0FPAKs6O6Tk/n2AFZz97nJND8G\nbk3mm15s+SJSOfVZEWl/3ih4/RmwQt7rEQXvvwz0Tv6/HfinmY0lWhwedfd/Fkz/h2S6fJ8mf/8M\n3InkpXkAAAKLSURBVJ+0PDwJDHX3lxu7AuStg7vPN7MvgTfzxk00M8hbLzM7ATgKWA1YDFgEGNXA\ncjYARucSlcSLREvN+kTrDsCbuUQl8U/gI2CcmT1B1NWDudNhItI4Og0k0v4Udv50KjwWuPsoYA3i\n9EYX4F4zu69gsi/c/cOCYXYy/xNEsnAFcapluJn9vkrrUKxTawcAMzuYSKJuAnYjkq/biISlGuq1\nnrj7t0Af4GBgAnHaabSZLVWl5Ym0K0pWRKTQ1kVej8m9cPdv3f0+d/85cBCwv5ktXWnh7v6lu9/p\n7j8FTgWOSd76Lvnbsemhl7Qt8KK73+juo939Q2Dtgmm+K7LsMUBvM1ssb9z2wDxgbLkFuvt8d3/a\n3c8ikqM1iP44ItJIOg0kIoV+YmYjgReAw4hOrEcBmNkg4rTRKKI140DgM3f/Om/+JZM+I/lmuPs3\nZvZbYCTwH6JlZh/g7WSaScBMYM/kqppZ7j6tSuv0HnC4me1O9Is5PFmvD/OmGQ/sbmbrER1qpxId\njH8D3JHEvgLRoXewu0+mBDP7AbAW0an2K+AHROfhsgmOiBSnlhWR9qVUj3rP+3s+cfpiNJGsHOzu\nuS/Zb4griF4DXiFO6exdUNYFxKmP/OGy5L3vgIuTsp8lOuL2B3D3ecBJwM+JPi5DG7EODY27EXgA\nuIfok7MscF3B9DcRycS/icRp26SPyR7J9K8SVwz9M4mznK+Jq5mGE8nYMUQ9jik7l4gUpauBRERE\nJNPUsiIiIiKZpmRFREREMk3JioiIiGSakhURERHJNCUrIiIikmlKVkRERCTTlKyIiIhIpilZERER\nkUxTsiIiIiKZpmRFREREMk3JioiIiGSakhURERHJtP8HnsJuSoTg5pQAAAAASUVORK5CYII=\n",
      "text/plain": [
       "<matplotlib.figure.Figure at 0x23400bab518>"
      ]
     },
     "metadata": {},
     "output_type": "display_data"
    }
   ],
   "source": [
    "from sklearn.cross_validation import KFold\n",
    "\n",
<<<<<<< HEAD
    "number_splits = 20\n",
    "kf = KFold(X_train.shape[0], n_folds=number_splits)\n",
=======
    "\n",
    "Xtrain = grouped_by_player.dropna(axis=0).drop(['raterMean'],axis = 1,inplace = False)\n",
    "Ytrain = np.asarray(grouped_by_player.dropna(axis=0)['raterMean'], dtype=\"|S6\")\n",
    "numberOfSplit = 3\n",
    "kf = KFold(Xtrain.shape[0], n_folds=numberOfSplit)\n",
    "\n",
    "print(Xtrain.shape,Ytrain.shape)\n",
    "\n",
>>>>>>> origin/master
    "\n",
    "TrainingError =[]\n",
    "TestError = []\n",
    "nbsEstimators = []\n",
<<<<<<< HEAD
    "for numberOfEstimators in range(1, 50):\n",
    "    for train_index, test_index in kf:\n",
    "        X_train, X_test = X.iloc[train_index], X.iloc[test_index]\n",
    "        Y_train, Y_test = Y[train_index], Y[test_index]\n",
    "        \n",
    "        clf = RandomForestClassifier(n_estimators=numberOfEstimators)\n",
    "        clf = clf.fit(X_train, Y_train)\n",
    "        \n",
    "        train_error = 1.0 - clf.score(X_train, Y_train)\n",
    "        test_error = 1.0 - clf.score(X_test, Y_test)\n",
    "        \n",
    "        train_error += train_error\n",
    "        test_error += test_error\n",
    "        \n",
    "    TrainingError.append(train_error/number_splits)\n",
    "    TestError.append(test_error/number_splits)\n",
    "    nbsEstimators.append(numberOfEstimators)"
=======
    "for i in range(1,50,5) : \n",
    "    numberOfEstimators = i\n",
    "    for train_index, test_index in kf:\n",
    "        print(i)\n",
    "        X_train, X_test = Xtrain.iloc[train_index], Xtrain.iloc[test_index]\n",
    "        Y_train, Y_test = Ytrain[train_index], Ytrain[test_index]\n",
    "        \n",
    "        clf = RandomForestClassifier(n_estimators=numberOfEstimators)\n",
    "        clf = clf.fit(X_train, Y_train)\n",
    "        train_error = 1.0 - clf.score(X_train, Y_train)\n",
    "        test_error = 1.0 - clf.score(X_test,Y_test)\n",
    "        train_error += train_error\n",
    "        test_error += test_error\n",
    "    TrainingError.append(train_error/numberOfSplit)\n",
    "    TestError.append(test_error/numberOfSplit)\n",
    "    nbsEstimators.append(numberOfEstimators)\n",
    "        \n",
    "\n",
    "print(len(nbsEstimators), len(TestError))\n",
    "\n",
    "        \n",
    "import matplotlib.pyplot as plt\n",
    "%matplotlib inline\n",
    "plt.plot(nbsEstimators, TestError, 'r--', nbsEstimators,TrainingError, 'b--')\n",
    "plt.xlabel('nbsEstimators')\n",
    "plt.ylabel('Error')\n",
    "plt.title('Test & Train errors in function of the Number of Estimators')\n",
    "plt.show()\n",
    "\n",
    "\n",
    "################# GUESSSSSSSSS WHICH ONE WE TAKE ?????????? :D"
>>>>>>> origin/master
   ]
  },
  {
   "cell_type": "code",
<<<<<<< HEAD
   "execution_count": 109,
   "metadata": {
    "collapsed": false,
    "scrolled": true
   },
   "outputs": [
    {
     "data": {
      "image/png": "iVBORw0KGgoAAAANSUhEUgAAAZEAAAEZCAYAAABWwhjiAAAABHNCSVQICAgIfAhkiAAAAAlwSFlz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\n",
      "text/plain": [
       "<matplotlib.figure.Figure at 0x1b000c0bd68>"
      ]
     },
     "metadata": {},
     "output_type": "display_data"
    }
   ],
   "source": [
    "plt.plot(nbsEstimators, TestError, 'r--', nbsEstimators,TrainingError, 'b--')\n",
    "plt.xlabel('nbsEstimators')\n",
    "plt.ylabel('Error')\n",
    "plt.title('Test & Train errors in function of the Number of Estimators')\n",
    "plt.show()"
   ]
  },
  {
   "cell_type": "code",
   "execution_count": 110,
=======
   "execution_count": 256,
>>>>>>> origin/master
   "metadata": {
    "collapsed": false
   },
   "outputs": [
    {
     "name": "stdout",
     "output_type": "stream",
     "text": [
      "Feature ranking:\n",
<<<<<<< HEAD
      "1. feature 3 (0.098157)\n",
      "2. feature 9 (0.095945)\n",
      "3. feature 2 (0.090131)\n",
      "4. feature 8 (0.076703)\n",
      "5. feature 11 (0.074909)\n",
      "6. feature 5 (0.073961)\n",
      "7. feature 1 (0.072347)\n",
      "8. feature 10 (0.071846)\n",
      "9. feature 0 (0.071728)\n",
      "10. feature 4 (0.069532)\n",
      "11. feature 7 (0.034530)\n",
      "12. feature 6 (0.031720)\n",
      "13. feature 14 (0.015216)\n",
      "14. feature 13 (0.013058)\n",
      "15. feature 18 (0.012163)\n",
      "16. feature 20 (0.010695)\n",
      "17. feature 12 (0.010348)\n",
      "18. feature 17 (0.009659)\n",
      "19. feature 22 (0.008509)\n",
      "20. feature 16 (0.008455)\n",
      "21. feature 15 (0.006910)\n",
      "22. feature 25 (0.006658)\n",
      "23. feature 24 (0.006522)\n",
      "24. feature 27 (0.006510)\n",
      "25. feature 21 (0.006406)\n",
      "26. feature 23 (0.006403)\n",
      "27. feature 26 (0.005996)\n",
      "28. feature 19 (0.004983)\n"
=======
      "1. feature 1 (0.290384)\n",
      "2. feature 0 (0.274840)\n",
      "3. feature 2 (0.036428)\n",
      "4. feature 3 (0.033642)\n",
      "5. feature 5 (0.028203)\n",
      "6. feature 4 (0.024222)\n",
      "7. feature 7 (0.021920)\n",
      "8. feature 6 (0.019811)\n",
      "9. feature 13 (0.018419)\n",
      "10. feature 10 (0.017514)\n",
      "11. feature 14 (0.017335)\n",
      "12. feature 12 (0.017229)\n",
      "13. feature 15 (0.015930)\n",
      "14. feature 11 (0.015888)\n",
      "15. feature 21 (0.014486)\n",
      "16. feature 24 (0.014271)\n",
      "17. feature 22 (0.013519)\n",
      "18. feature 26 (0.011921)\n",
      "19. feature 29 (0.011794)\n",
      "20. feature 20 (0.011768)\n",
      "21. feature 18 (0.010140)\n",
      "22. feature 17 (0.009665)\n",
      "23. feature 31 (0.009309)\n",
      "24. feature 16 (0.008737)\n",
      "25. feature 19 (0.008653)\n",
      "26. feature 25 (0.008270)\n",
      "27. feature 27 (0.007971)\n",
      "28. feature 28 (0.007856)\n",
      "29. feature 23 (0.007763)\n",
      "30. feature 30 (0.007635)\n",
      "31. feature 9 (0.002296)\n",
      "32. feature 8 (0.002179)\n"
>>>>>>> origin/master
     ]
    },
    {
     "data": {
<<<<<<< HEAD
      "image/png": "iVBORw0KGgoAAAANSUhEUgAAAXcAAAEKCAYAAADpfBXhAAAABHNCSVQICAgIfAhkiAAAAAlwSFlz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\nAAAASUVORK5CYII=\n",
      "text/plain": [
       "<matplotlib.figure.Figure at 0x1b000c25da0>"
=======
      "image/png": "iVBORw0KGgoAAAANSUhEUgAAAgkAAAFyCAYAAAB/b0lnAAAABHNCSVQICAgIfAhkiAAAAAlwSFlz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\n",
      "text/plain": [
       "<matplotlib.figure.Figure at 0x23400b50cf8>"
>>>>>>> origin/master
      ]
     },
     "metadata": {},
     "output_type": "display_data"
    }
   ],
   "source": [
    "## features importance :\n",
    "\n",
    "# Build a forest and compute the feature importances\n",
    "\n",
<<<<<<< HEAD
    "optimalNumberOfEstimators = 10 ### fill it !\n",
    "\n",
    "clf = RandomForestClassifier(n_estimators=optimalNumberOfEstimators)\n",
    "clf = clf.fit(X, Y)\n",
=======
    "Xtrain = grouped_by_player.dropna(axis=0).drop(['raterMean'],axis = 1,inplace = False)\n",
    "Ytrain = np.asarray(grouped_by_player.dropna(axis=0)['raterMean'], dtype=\"|S6\")\n",
    "\n",
    "optimalNumberOfEstimators = 10 ### fill it !\n",
    "\n",
    "clf = RandomForestClassifier(n_estimators=optimalNumberOfEstimators)\n",
    "clf = clf.fit(Xtrain, Ytrain)\n",
>>>>>>> origin/master
    "importances = clf.feature_importances_\n",
    "std = np.std([tree.feature_importances_ for tree in clf.estimators_],\n",
    "             axis=0)\n",
    "indices = np.argsort(importances)[::-1]\n",
    "\n",
    "# Print the feature ranking\n",
    "print(\"Feature ranking:\")\n",
    "\n",
<<<<<<< HEAD
    "for f in range(X.shape[1]):\n",
=======
    "for f in range(Xtrain.shape[1]):\n",
>>>>>>> origin/master
    "    print(\"%d. feature %d (%f)\" % (f + 1, indices[f], importances[indices[f]]))\n",
    "\n",
    "# Plot the feature importances of the forest\n",
    "plt.figure()\n",
    "plt.title(\"Feature importances\")\n",
<<<<<<< HEAD
    "plt.bar(range(X.shape[1]), importances[indices],\n",
    "       color=\"r\", yerr=std[indices], align=\"center\")\n",
    "plt.xticks(range(X.shape[1]), indices)\n",
    "plt.xlim([-1, X.shape[1]])\n",
    "plt.show()"
   ]
  },
  {
   "cell_type": "markdown",
   "metadata": {},
   "source": [
    "## Clustering"
=======
    "plt.bar(range(Xtrain.shape[1]), importances[indices],\n",
    "       color=\"r\", yerr=std[indices], align=\"center\")\n",
    "plt.xticks(range(Xtrain.shape[1]), indices)\n",
    "plt.xlim([-1, Xtrain.shape[1]])\n",
    "plt.show()\n",
    "\n"
>>>>>>> origin/master
   ]
  },
  {
   "cell_type": "code",
   "execution_count": null,
   "metadata": {
    "collapsed": true
   },
   "outputs": [],
<<<<<<< HEAD
   "source": []
=======
   "source": [
    "#### train again with only the two pictures... .write something..."
   ]
>>>>>>> origin/master
  }
 ],
 "metadata": {
  "anaconda-cloud": {},
  "kernelspec": {
   "display_name": "Python [conda root]",
   "language": "python",
   "name": "conda-root-py"
  },
  "language_info": {
   "codemirror_mode": {
    "name": "ipython",
    "version": 3
   },
   "file_extension": ".py",
   "mimetype": "text/x-python",
   "name": "python",
   "nbconvert_exporter": "python",
   "pygments_lexer": "ipython3",
   "version": "3.5.2"
  }
 },
 "nbformat": 4,
 "nbformat_minor": 0
}
