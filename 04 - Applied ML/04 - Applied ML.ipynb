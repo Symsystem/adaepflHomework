{
 "cells": [
  {
   "cell_type": "markdown",
   "metadata": {},
   "source": [
    "# 04 - Applied ML"
   ]
  },
  {
   "cell_type": "code",
   "execution_count": 61,
   "metadata": {
    "collapsed": true
   },
   "outputs": [],
   "source": [
    "# import all the required libraries\n",
    "%matplotlib inline\n",
    "import pandas as pd\n",
    "import numpy as np\n",
    "import matplotlib.pyplot as plt\n",
    "from sklearn.ensemble import RandomForestClassifier"
   ]
  },
  {
   "cell_type": "markdown",
   "metadata": {},
   "source": [
    "## Cleaning the data"
   ]
  },
  {
   "cell_type": "code",
   "execution_count": 62,
   "metadata": {
    "collapsed": false
   },
   "outputs": [
    {
     "name": "stdout",
     "output_type": "stream",
     "text": [
      "Initial shape of the DataFrame: (146028, 28)\n"
     ]
    }
   ],
   "source": [
    "# import the data\n",
    "df = pd.read_csv('CrowdstormingDataJuly1st.csv')\n",
    "\n",
    "# save initial number of records\n",
    "initial_records = df.shape[0]\n",
    "\n",
    "# initial shape of the data\n",
    "print('Initial shape of the DataFrame:', df.shape)"
   ]
  },
  {
   "cell_type": "code",
   "execution_count": 63,
   "metadata": {
    "collapsed": false
   },
   "outputs": [
    {
     "data": {
      "text/plain": [
       "playerShort      False\n",
       "player           False\n",
       "club             False\n",
       "leagueCountry    False\n",
       "birthday         False\n",
       "height            True\n",
       "weight            True\n",
       "position          True\n",
       "games            False\n",
       "victories        False\n",
       "ties             False\n",
       "defeats          False\n",
       "goals            False\n",
       "yellowCards      False\n",
       "yellowReds       False\n",
       "redCards         False\n",
       "photoID           True\n",
       "rater1            True\n",
       "rater2            True\n",
       "refNum           False\n",
       "refCountry       False\n",
       "Alpha_3           True\n",
       "meanIAT           True\n",
       "nIAT              True\n",
       "seIAT             True\n",
       "meanExp           True\n",
       "nExp              True\n",
       "seExp             True\n",
       "dtype: bool"
      ]
     },
     "execution_count": 63,
     "metadata": {},
     "output_type": "execute_result"
    }
   ],
   "source": [
    "# check which columns have NaNs\n",
    "df.isnull().any()"
   ]
  },
  {
   "cell_type": "markdown",
   "metadata": {},
   "source": [
    "We can drop the column photoID since we won't use the photos of the players."
   ]
  },
  {
   "cell_type": "code",
   "execution_count": 64,
   "metadata": {
    "collapsed": false
   },
   "outputs": [],
   "source": [
    "df = df.drop(['photoID'], axis=1)"
   ]
  },
  {
   "cell_type": "code",
   "execution_count": 65,
   "metadata": {
    "collapsed": false
   },
   "outputs": [],
   "source": [
    "# remove records that have rater1 and/or rater2 as NaNs\n",
    "df = df.dropna(axis=0, subset=['rater1', 'rater2'])\n",
    "\n",
    "# create a new column with the mean of the two raters\n",
    "# df['raterMean'] = (df['rater1'] + df['rater2']) / 2\n",
    "df['raterMean'] = (df['rater1'] * df['rater2']) ** 0.5\n",
    "\n",
    "# remove the columns rater1 and rater2\n",
    "df = df.drop(['rater1', 'rater2'], axis=1)"
   ]
  },
  {
   "cell_type": "code",
   "execution_count": 66,
   "metadata": {
    "collapsed": false
   },
   "outputs": [
    {
     "data": {
      "text/plain": [
       "(124621, 26)"
      ]
     },
     "execution_count": 66,
     "metadata": {},
     "output_type": "execute_result"
    }
   ],
   "source": [
    "df.shape"
   ]
  },
  {
   "cell_type": "markdown",
   "metadata": {},
   "source": [
    "Let's now focus on the referees. As stated in [this notebook](http://nbviewer.jupyter.org/github/mathewzilla/redcard/blob/master/Crowdstorming_visualisation.ipynb), we should only take into account referees that took part in games of one of the considered leagues. This means that referees with less than 22 dyads (corresponding to the, at least, 22 players of a game) shouldn't be relevant."
   ]
  },
  {
   "cell_type": "code",
   "execution_count": 67,
   "metadata": {
    "collapsed": false
   },
   "outputs": [],
   "source": [
    "refs = df['refNum'].value_counts()\n",
    "\n",
    "df = df[df['refNum'].isin(refs[refs > 21].index)]"
   ]
  },
  {
   "cell_type": "code",
   "execution_count": 68,
   "metadata": {
    "collapsed": false
   },
   "outputs": [
    {
     "data": {
      "text/plain": [
       "(112484, 26)"
      ]
     },
     "execution_count": 68,
     "metadata": {},
     "output_type": "execute_result"
    }
   ],
   "source": [
    "df.shape"
   ]
  },
  {
   "cell_type": "markdown",
   "metadata": {},
   "source": [
    "Since we will group the records by player, the columns concerning the referees information can be removed, namely: refNum, refCountry and Alpha_3."
   ]
  },
  {
   "cell_type": "code",
   "execution_count": 69,
   "metadata": {
    "collapsed": false
   },
   "outputs": [],
   "source": [
    "df = df.drop(['refNum', 'refCountry', 'Alpha_3'], axis=1)"
   ]
  },
  {
   "cell_type": "markdown",
   "metadata": {},
   "source": [
    "Let's check again the features that have NaNs associated."
   ]
  },
  {
   "cell_type": "code",
   "execution_count": 70,
   "metadata": {
    "collapsed": false
   },
   "outputs": [
    {
     "data": {
      "text/plain": [
       "playerShort      False\n",
       "player           False\n",
       "club             False\n",
       "leagueCountry    False\n",
       "birthday         False\n",
       "height            True\n",
       "weight            True\n",
       "position          True\n",
       "games            False\n",
       "victories        False\n",
       "ties             False\n",
       "defeats          False\n",
       "goals            False\n",
       "yellowCards      False\n",
       "yellowReds       False\n",
       "redCards         False\n",
       "meanIAT           True\n",
       "nIAT              True\n",
       "seIAT             True\n",
       "meanExp           True\n",
       "nExp              True\n",
       "seExp             True\n",
       "raterMean        False\n",
       "dtype: bool"
      ]
     },
     "execution_count": 70,
     "metadata": {},
     "output_type": "execute_result"
    }
   ],
   "source": [
    "# check which columns have NaNs\n",
    "df.isnull().any()"
   ]
  },
  {
   "cell_type": "code",
   "execution_count": 71,
   "metadata": {
    "collapsed": false
   },
   "outputs": [],
   "source": [
    "df = df.dropna(axis=0, subset=['height', 'weight'])\n",
    "\n",
    "records_after = df.shape[0]"
   ]
  },
  {
   "cell_type": "markdown",
   "metadata": {},
   "source": [
    "By dropping the records that have NaNs in the height and weight columns we loose the following percentage of data:"
   ]
  },
  {
   "cell_type": "code",
   "execution_count": 72,
   "metadata": {
    "collapsed": false
   },
   "outputs": [
    {
     "data": {
      "text/plain": [
       "23.376338784342728"
      ]
     },
     "execution_count": 72,
     "metadata": {},
     "output_type": "execute_result"
    }
   ],
   "source": [
    "(initial_records - records_after) / initial_records * 100"
   ]
  },
  {
   "cell_type": "markdown",
   "metadata": {},
   "source": [
    "The columns nIAT, seIAT, nExp and seExp are associated with a particular referee and this information will become irrelevant as soon as the data is aggregated by players. So we'll also remove these features."
   ]
  },
  {
   "cell_type": "code",
   "execution_count": 73,
   "metadata": {
    "collapsed": true
   },
   "outputs": [],
   "source": [
    "df.drop(['nIAT', 'seIAT', 'nExp', 'seExp'], axis=1, inplace=True)"
   ]
  },
  {
   "cell_type": "markdown",
   "metadata": {},
   "source": [
    "We can remove the columns that have non-numeric data associated (the ones we believe are irrelevant for the problem):"
   ]
  },
  {
   "cell_type": "code",
   "execution_count": 74,
   "metadata": {
    "collapsed": false,
    "scrolled": true
   },
   "outputs": [],
   "source": [
    "non_numeric_features = ['player', 'club', 'birthday']\n",
    "\n",
    "df.drop(non_numeric_features, axis=1, inplace=True)"
   ]
  },
  {
   "cell_type": "code",
   "execution_count": 75,
   "metadata": {
    "collapsed": false
   },
   "outputs": [
    {
     "data": {
      "text/plain": [
       "playerShort      False\n",
       "leagueCountry    False\n",
       "height           False\n",
       "weight           False\n",
       "position          True\n",
       "games            False\n",
       "victories        False\n",
       "ties             False\n",
       "defeats          False\n",
       "goals            False\n",
       "yellowCards      False\n",
       "yellowReds       False\n",
       "redCards         False\n",
       "meanIAT           True\n",
       "meanExp           True\n",
       "raterMean        False\n",
       "dtype: bool"
      ]
     },
     "execution_count": 75,
     "metadata": {},
     "output_type": "execute_result"
    }
   ],
   "source": [
    "df.isnull().any()"
   ]
  },
  {
   "cell_type": "code",
   "execution_count": 76,
   "metadata": {
    "collapsed": true
   },
   "outputs": [],
   "source": [
    "df = df.dropna(axis=0, subset=['meanIAT', 'meanExp'])"
   ]
  },
  {
   "cell_type": "code",
   "execution_count": 77,
   "metadata": {
    "collapsed": false,
    "scrolled": true
   },
   "outputs": [
    {
     "name": "stdout",
     "output_type": "stream",
     "text": [
      "Shape of the DataFrame before aggregating by player: (111782, 16)\n"
     ]
    }
   ],
   "source": [
    "print('Shape of the DataFrame before aggregating by player:', df.shape)"
   ]
  },
  {
   "cell_type": "markdown",
   "metadata": {},
   "source": [
    "## Aggregating the data (by player)"
   ]
  },
  {
   "cell_type": "code",
   "execution_count": 78,
   "metadata": {
    "collapsed": false
   },
   "outputs": [],
   "source": [
    "grouped_by_player = df.groupby(['playerShort', 'height', 'weight', 'raterMean', 'leagueCountry', 'position'], as_index=False)\n",
    "\n",
    "clean_data = grouped_by_player.agg({'games': np.sum, 'victories': np.sum, 'ties': np.sum, 'defeats': np.sum, 'goals': np.sum,\n",
    "                       'yellowCards': np.sum, 'yellowReds': np.sum, 'redCards': np.sum, 'meanIAT': np.mean, 'meanExp': np.mean})\n",
    "\n",
    "# drop the column playerShort (non-numeric data not relevant for the classifier)\n",
    "clean_data.drop('playerShort', axis=1, inplace=True)"
   ]
  },
  {
   "cell_type": "code",
   "execution_count": 79,
   "metadata": {
    "collapsed": false
   },
   "outputs": [],
   "source": [
    "clean_data = pd.get_dummies(clean_data, prefix = ['dummyCode_','dummyCode_'])"
   ]
  },
  {
   "cell_type": "markdown",
   "metadata": {},
   "source": [
    "## Training the Classifier"
   ]
  },
  {
   "cell_type": "code",
   "execution_count": 80,
   "metadata": {
    "collapsed": true
   },
   "outputs": [],
   "source": [
    "def labels_categories(y):\n",
    "    if(y['raterMean'] <= 0.2):\n",
    "        return 0\n",
    "    elif(y['raterMean'] <= 0.4):\n",
    "        return 1\n",
    "    elif(y['raterMean'] <= 0.6):\n",
    "        return 2\n",
    "    elif(y['raterMean'] <= 0.8):\n",
    "        return 3\n",
    "    else:\n",
    "        return 4"
   ]
  },
  {
   "cell_type": "code",
   "execution_count": 81,
   "metadata": {
    "collapsed": false
   },
   "outputs": [
    {
     "data": {
      "text/plain": [
       "Index(['height', 'weight', 'ties', 'meanIAT', 'redCards', 'meanExp',\n",
       "       'yellowReds', 'goals', 'victories', 'games', 'defeats', 'yellowCards',\n",
       "       'dummyCode__England', 'dummyCode__France', 'dummyCode__Germany',\n",
       "       'dummyCode__Spain', 'dummyCode__Attacking Midfielder',\n",
       "       'dummyCode__Center Back', 'dummyCode__Center Forward',\n",
       "       'dummyCode__Center Midfielder', 'dummyCode__Defensive Midfielder',\n",
       "       'dummyCode__Goalkeeper', 'dummyCode__Left Fullback',\n",
       "       'dummyCode__Left Midfielder', 'dummyCode__Left Winger',\n",
       "       'dummyCode__Right Fullback', 'dummyCode__Right Midfielder',\n",
       "       'dummyCode__Right Winger'],\n",
       "      dtype='object')"
      ]
     },
     "execution_count": 81,
     "metadata": {},
     "output_type": "execute_result"
    }
   ],
   "source": [
    "clean_data['skin_cat'] = clean_data.apply(labels_categories, axis=1)\n",
    "\n",
    "X = clean_data.drop(['skin_cat', 'raterMean'], axis=1)\n",
    "\n",
    "Y = np.asarray(clean_data['skin_cat'], dtype=\"|S6\")\n",
    "\n",
    "X.columns"
   ]
  },
  {
   "cell_type": "markdown",
   "metadata": {},
   "source": [
    "### Selecting the Classifier Parameters"
   ]
  },
  {
   "cell_type": "code",
   "execution_count": 82,
   "metadata": {
    "collapsed": false
   },
   "outputs": [],
   "source": [
    "from sklearn.cross_validation import KFold\n",
    "\n",
    "number_splits = 10\n",
    "kf = KFold(X.shape[0], n_folds=number_splits)\n",
    "\n",
    "train_errors =[]\n",
    "test_errors = []\n",
    "number_estimators = []\n",
    "\n",
    "for nb_est in range(1,50):\n",
    "    mean_train_error = 0.0\n",
    "    mean_test_error = 0.0\n",
    "    \n",
    "    for train_index, test_index in kf:\n",
    "        X_train, X_test = X.iloc[train_index], X.iloc[test_index]\n",
    "        Y_train, Y_test = Y[train_index], Y[test_index]\n",
    "        \n",
    "        clf = RandomForestClassifier(n_estimators=nb_est, criterion='entropy')\n",
    "        clf = clf.fit(X_train, Y_train)\n",
    "        \n",
    "        train_error = 1.0 - clf.score(X_train, Y_train)\n",
    "        test_error = 1.0 - clf.score(X_test, Y_test)\n",
    "        \n",
    "        mean_train_error += train_error\n",
    "        mean_test_error += test_error\n",
    "        \n",
    "    train_errors.append(mean_train_error/number_splits)\n",
    "    test_errors.append(mean_test_error/number_splits)\n",
    "    number_estimators.append(nb_est)"
   ]
  },
  {
   "cell_type": "code",
   "execution_count": 83,
   "metadata": {
    "collapsed": false,
    "scrolled": true
   },
   "outputs": [
    {
     "data": {
      "image/png": "[encoded data removed]",
      "text/plain": [
       "<matplotlib.figure.Figure at 0x1f73c253588>"
      ]
     },
     "metadata": {},
     "output_type": "display_data"
    }
   ],
   "source": [
    "plt.plot(number_estimators, test_errors, 'r--', number_estimators, train_errors, 'b--')\n",
    "plt.xlabel('n_estimators')\n",
    "plt.ylabel('error')\n",
    "plt.title('Training and Test Errors as a function of n_estimators')\n",
    "plt.show()"
   ]
  },
  {
   "cell_type": "code",
   "execution_count": 84,
   "metadata": {
    "collapsed": true
   },
   "outputs": [],
   "source": [
    "train_errors = []\n",
    "test_errors = []\n",
    "max_depths = []\n",
    "\n",
    "for depth in range(1,20):\n",
    "    mean_train_error = 0.0\n",
    "    mean_test_error = 0.0\n",
    "    \n",
    "    for train_index, test_index in kf:\n",
    "        X_train, X_test = X.iloc[train_index], X.iloc[test_index]\n",
    "        Y_train, Y_test = Y[train_index], Y[test_index]\n",
    "        \n",
    "        clf = RandomForestClassifier(n_estimators=10, criterion='entropy', max_depth=depth)\n",
    "        clf = clf.fit(X_train, Y_train)\n",
    "        \n",
    "        train_error = 1.0 - clf.score(X_train, Y_train)\n",
    "        test_error = 1.0 - clf.score(X_test, Y_test)\n",
    "        \n",
    "        mean_train_error += train_error\n",
    "        mean_test_error += test_error\n",
    "        \n",
    "    train_errors.append(mean_train_error/number_splits)\n",
    "    test_errors.append(mean_test_error/number_splits)\n",
    "    max_depths.append(depth)"
   ]
  },
  {
   "cell_type": "code",
   "execution_count": 85,
   "metadata": {
    "collapsed": false
   },
   "outputs": [
    {
     "data": {
      "image/png": "[encoded data removed]",
      "text/plain": [
       "<matplotlib.figure.Figure at 0x1f73c15aeb8>"
      ]
     },
     "metadata": {},
     "output_type": "display_data"
    }
   ],
   "source": [
    "plt.plot(max_depths, test_errors, 'r--', max_depths, train_errors, 'b--')\n",
    "plt.xlabel('max_depth')\n",
    "plt.ylabel('error')\n",
    "plt.title('Training and Test Errors as a function of max_depth')\n",
    "plt.show()"
   ]
  },
  {
   "cell_type": "markdown",
   "metadata": {},
   "source": [
    "### Analising feature\\_importances\\_"
   ]
  },
  {
   "cell_type": "code",
   "execution_count": 86,
   "metadata": {
    "collapsed": false
   },
   "outputs": [
    {
     "name": "stdout",
     "output_type": "stream",
     "text": [
      "Feature ranking:\n",
      "1. feature 5 (0.114073)\n",
      "2. feature 3 (0.103090)\n",
      "3. feature 10 (0.093017)\n",
      "4. feature 11 (0.079121)\n",
      "5. feature 8 (0.074799)\n",
      "6. feature 9 (0.072165)\n",
      "7. feature 0 (0.066928)\n",
      "8. feature 2 (0.063839)\n",
      "9. feature 1 (0.057512)\n",
      "10. feature 7 (0.055081)\n",
      "11. feature 4 (0.036888)\n",
      "12. feature 13 (0.028146)\n",
      "13. feature 6 (0.027916)\n",
      "14. feature 14 (0.021463)\n",
      "15. feature 12 (0.014044)\n",
      "16. feature 18 (0.011578)\n",
      "17. feature 17 (0.011345)\n",
      "18. feature 15 (0.010538)\n",
      "19. feature 21 (0.010067)\n",
      "20. feature 20 (0.009896)\n",
      "21. feature 25 (0.007521)\n",
      "22. feature 22 (0.006486)\n",
      "23. feature 16 (0.006239)\n",
      "24. feature 24 (0.005749)\n",
      "25. feature 26 (0.003891)\n",
      "26. feature 27 (0.003873)\n",
      "27. feature 23 (0.003782)\n",
      "28. feature 19 (0.000952)\n"
     ]
    },
    {
     "data": {
      "image/png": "[encoded data removed]",
      "text/plain": [
       "<matplotlib.figure.Figure at 0x1f73d421080>"
      ]
     },
     "metadata": {},
     "output_type": "display_data"
    }
   ],
   "source": [
    "# build a random forest and compute the feature importances\n",
    "optimal_n_estimators = 10\n",
    "optimal_max_depth = 10\n",
    "\n",
    "clf = RandomForestClassifier(n_estimators=optimal_n_estimators, criterion='entropy', max_depth=optimal_max_depth)\n",
    "clf = clf.fit(X, Y)\n",
    "\n",
    "importances = clf.feature_importances_\n",
    "std = np.std([tree.feature_importances_ for tree in clf.estimators_], axis=0)\n",
    "indices = np.argsort(importances)[::-1]\n",
    "\n",
    "# print the feature ranking\n",
    "print(\"Feature ranking:\")\n",
    "\n",
    "for f in range(X.shape[1]):\n",
    "    print(\"%d. feature %d (%f)\" % (f + 1, indices[f], importances[indices[f]]))\n",
    "\n",
    "# plot the feature importances of the random forest\n",
    "plt.figure()\n",
    "plt.title(\"Feature importances\")\n",
    "plt.bar(range(X.shape[1]), importances[indices], color=\"r\", yerr=std[indices], align=\"center\")\n",
    "plt.xticks(range(X.shape[1]), indices)\n",
    "plt.xlim([-1, X.shape[1]])\n",
    "plt.show()"
   ]
  },
  {
   "cell_type": "markdown",
   "metadata": {},
   "source": [
    "## Clustering"
   ]
  }
 ],
 "metadata": {
  "anaconda-cloud": {},
  "kernelspec": {
   "display_name": "Python [Root]",
   "language": "python",
   "name": "Python [Root]"
  },
  "language_info": {
   "codemirror_mode": {
    "name": "ipython",
    "version": 3
   },
   "file_extension": ".py",
   "mimetype": "text/x-python",
   "name": "python",
   "nbconvert_exporter": "python",
   "pygments_lexer": "ipython3",
   "version": "3.5.2"
  }
 },
 "nbformat": 4,
 "nbformat_minor": 0
}
