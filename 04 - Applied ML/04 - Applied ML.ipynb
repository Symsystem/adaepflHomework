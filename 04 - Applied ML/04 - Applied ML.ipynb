{
 "cells": [
  {
   "cell_type": "markdown",
   "metadata": {},
   "source": [
    "# 04 - Applied ML"
   ]
  },
  {
   "cell_type": "code",
   "execution_count": 1,
   "metadata": {
    "collapsed": true
   },
   "outputs": [],
   "source": [
    "# import all the required libraries\n",
    "%matplotlib inline\n",
    "import pandas as pd\n",
    "import numpy as np\n",
    "import matplotlib.pyplot as plt\n",
    "from sklearn.ensemble import RandomForestClassifier"
   ]
  },
  {
   "cell_type": "markdown",
   "metadata": {},
   "source": [
    "## Cleaning the data"
   ]
  },
  {
   "cell_type": "code",
   "execution_count": 2,
   "metadata": {
    "collapsed": false
   },
   "outputs": [
    {
     "name": "stdout",
     "output_type": "stream",
     "text": [
      "Initial shape of the DataFrame: (146028, 28)\n",
      "Number of players: 2053\n"
     ]
    }
   ],
   "source": [
    "# import the data\n",
    "df = pd.read_csv('CrowdstormingDataJuly1st.csv')\n",
    "\n",
    "# save initial number of records\n",
    "initial_records = df.shape[0]\n",
    "\n",
    "print('Initial shape of the DataFrame:', df.shape)\n",
    "\n",
    "# initial number of players\n",
    "initial_players = len(df['playerShort'].unique())\n",
    "\n",
    "print('Number of players:', initial_players)"
   ]
  },
  {
   "cell_type": "markdown",
   "metadata": {},
   "source": [
    "We start by checking which columns have NaN values so that we can decide if we should drop some of those columns or some of the records."
   ]
  },
  {
   "cell_type": "code",
   "execution_count": 3,
   "metadata": {
    "collapsed": false
   },
   "outputs": [
    {
     "data": {
      "text/plain": [
       "playerShort      False\n",
       "player           False\n",
       "club             False\n",
       "leagueCountry    False\n",
       "birthday         False\n",
       "height            True\n",
       "weight            True\n",
       "position          True\n",
       "games            False\n",
       "victories        False\n",
       "ties             False\n",
       "defeats          False\n",
       "goals            False\n",
       "yellowCards      False\n",
       "yellowReds       False\n",
       "redCards         False\n",
       "photoID           True\n",
       "rater1            True\n",
       "rater2            True\n",
       "refNum           False\n",
       "refCountry       False\n",
       "Alpha_3           True\n",
       "meanIAT           True\n",
       "nIAT              True\n",
       "seIAT             True\n",
       "meanExp           True\n",
       "nExp              True\n",
       "seExp             True\n",
       "dtype: bool"
      ]
     },
     "execution_count": 3,
     "metadata": {},
     "output_type": "execute_result"
    }
   ],
   "source": [
    "# check which columns have NaNs\n",
    "df.isnull().any()"
   ]
  },
  {
   "cell_type": "markdown",
   "metadata": {},
   "source": [
    "We can drop the column photoID since we won't use the photos of the players."
   ]
  },
  {
   "cell_type": "code",
   "execution_count": 4,
   "metadata": {
    "collapsed": false
   },
   "outputs": [],
   "source": [
    "df = df.drop(['photoID'], axis=1)"
   ]
  },
  {
   "cell_type": "markdown",
   "metadata": {},
   "source": [
    "In order to have a unique skin rating for each player, we compute the geometric mean between the two raters. We do so after removing the records with NaNs in those two columns."
   ]
  },
  {
   "cell_type": "code",
   "execution_count": 5,
   "metadata": {
    "collapsed": false
   },
   "outputs": [],
   "source": [
    "# remove records that have rater1 and/or rater2 as NaNs\n",
    "df = df.dropna(axis=0, subset=['rater1', 'rater2'])\n",
    "\n",
    "# create a new column with the geometric mean of the two raters\n",
    "df['raterMean'] = (df['rater1'] * df['rater2']) ** 0.5\n",
    "\n",
    "# remove the columns rater1 and rater2\n",
    "df = df.drop(['rater1', 'rater2'], axis=1)"
   ]
  },
  {
   "cell_type": "code",
   "execution_count": 6,
   "metadata": {
    "collapsed": false,
    "scrolled": true
   },
   "outputs": [
    {
     "name": "stdout",
     "output_type": "stream",
     "text": [
      "Number of players: 1585\n"
     ]
    }
   ],
   "source": [
    "print('Number of players:', len(df['playerShort'].unique()))"
   ]
  },
  {
   "cell_type": "markdown",
   "metadata": {},
   "source": [
    "Let's now focus on the referees. As stated in [this notebook](http://nbviewer.jupyter.org/github/mathewzilla/redcard/blob/master/Crowdstorming_visualisation.ipynb), we should only take into account referees that took part in games of one of the considered leagues. This means that referees with less than 22 dyads (corresponding to the, at least, 22 players of a game) shouldn't be relevant."
   ]
  },
  {
   "cell_type": "code",
   "execution_count": 7,
   "metadata": {
    "collapsed": false
   },
   "outputs": [],
   "source": [
    "refs = df['refNum'].value_counts()\n",
    "\n",
    "df = df[df['refNum'].isin(refs[refs > 21].index)]"
   ]
  },
  {
   "cell_type": "code",
   "execution_count": 8,
   "metadata": {
    "collapsed": false
   },
   "outputs": [
    {
     "data": {
      "text/plain": [
       "(112484, 26)"
      ]
     },
     "execution_count": 8,
     "metadata": {},
     "output_type": "execute_result"
    }
   ],
   "source": [
    "df.shape"
   ]
  },
  {
   "cell_type": "markdown",
   "metadata": {},
   "source": [
    "Since we will group the records by player, the columns concerning the referees information can be removed, namely: refNum, refCountry and Alpha_3."
   ]
  },
  {
   "cell_type": "code",
   "execution_count": 9,
   "metadata": {
    "collapsed": false
   },
   "outputs": [],
   "source": [
    "df = df.drop(['refNum', 'refCountry', 'Alpha_3'], axis=1)"
   ]
  },
  {
   "cell_type": "markdown",
   "metadata": {},
   "source": [
    "Let's check again the features that have NaNs associated."
   ]
  },
  {
   "cell_type": "code",
   "execution_count": 10,
   "metadata": {
    "collapsed": false
   },
   "outputs": [
    {
     "data": {
      "text/plain": [
       "playerShort      False\n",
       "player           False\n",
       "club             False\n",
       "leagueCountry    False\n",
       "birthday         False\n",
       "height            True\n",
       "weight            True\n",
       "position          True\n",
       "games            False\n",
       "victories        False\n",
       "ties             False\n",
       "defeats          False\n",
       "goals            False\n",
       "yellowCards      False\n",
       "yellowReds       False\n",
       "redCards         False\n",
       "meanIAT           True\n",
       "nIAT              True\n",
       "seIAT             True\n",
       "meanExp           True\n",
       "nExp              True\n",
       "seExp             True\n",
       "raterMean        False\n",
       "dtype: bool"
      ]
     },
     "execution_count": 10,
     "metadata": {},
     "output_type": "execute_result"
    }
   ],
   "source": [
    "# check which columns have NaNs\n",
    "df.isnull().any()"
   ]
  },
  {
   "cell_type": "code",
   "execution_count": 11,
   "metadata": {
    "collapsed": false
   },
   "outputs": [],
   "source": [
    "df = df.dropna(axis=0, subset=['height', 'weight'])\n",
    "\n",
    "records_after = df.shape[0]"
   ]
  },
  {
   "cell_type": "markdown",
   "metadata": {},
   "source": [
    "By dropping the records that have NaNs in the height and weight columns we loose the following percentage of data:"
   ]
  },
  {
   "cell_type": "code",
   "execution_count": 12,
   "metadata": {
    "collapsed": false
   },
   "outputs": [
    {
     "data": {
      "text/plain": [
       "23.376338784342728"
      ]
     },
     "execution_count": 12,
     "metadata": {},
     "output_type": "execute_result"
    }
   ],
   "source": [
    "(initial_records - records_after) / initial_records * 100"
   ]
  },
  {
   "cell_type": "markdown",
   "metadata": {},
   "source": [
    "The columns nIAT, seIAT, nExp and seExp are associated with a particular referee and this information will become irrelevant as soon as the data is aggregated by players. So we'll also remove these features."
   ]
  },
  {
   "cell_type": "code",
   "execution_count": 13,
   "metadata": {
    "collapsed": true
   },
   "outputs": [],
   "source": [
    "df.drop(['nIAT', 'seIAT', 'nExp', 'seExp'], axis=1, inplace=True)"
   ]
  },
  {
   "cell_type": "markdown",
   "metadata": {},
   "source": [
    "We can remove the columns that have non-numeric data associated (the ones we believe are irrelevant for the problem):"
   ]
  },
  {
   "cell_type": "code",
   "execution_count": 14,
   "metadata": {
    "collapsed": false,
    "scrolled": true
   },
   "outputs": [],
   "source": [
    "non_numeric_features = ['player', 'club', 'birthday']\n",
    "df.drop(non_numeric_features, axis=1, inplace=True)"
   ]
  },
  {
   "cell_type": "code",
   "execution_count": 15,
   "metadata": {
    "collapsed": false
   },
   "outputs": [
    {
     "data": {
      "text/plain": [
       "playerShort      False\n",
       "leagueCountry    False\n",
       "height           False\n",
       "weight           False\n",
       "position          True\n",
       "games            False\n",
       "victories        False\n",
       "ties             False\n",
       "defeats          False\n",
       "goals            False\n",
       "yellowCards      False\n",
       "yellowReds       False\n",
       "redCards         False\n",
       "meanIAT           True\n",
       "meanExp           True\n",
       "raterMean        False\n",
       "dtype: bool"
      ]
     },
     "execution_count": 15,
     "metadata": {},
     "output_type": "execute_result"
    }
   ],
   "source": [
    "df.isnull().any()"
   ]
  },
  {
   "cell_type": "code",
   "execution_count": 16,
   "metadata": {
    "collapsed": true
   },
   "outputs": [],
   "source": [
    "df = df.dropna(axis=0, subset=['meanIAT', 'meanExp'])"
   ]
  },
  {
   "cell_type": "code",
   "execution_count": 91,
   "metadata": {
    "collapsed": false,
    "scrolled": true
   },
   "outputs": [
    {
     "name": "stdout",
     "output_type": "stream",
     "text": [
      "Shape of the DataFrame before aggregating by player: (111782, 16)\n",
      "Number of features after cleaning the data: 1563\n"
     ]
    }
   ],
   "source": [
    "print('Shape of the DataFrame before aggregating by player:', df.shape)\n",
    "print('Number of features after cleaning the data:', len(df['playerShort'].unique()))"
   ]
  },
  {
   "cell_type": "markdown",
   "metadata": {},
   "source": [
    "## Aggregating the data (by player)"
   ]
  },
  {
   "cell_type": "code",
   "execution_count": 18,
   "metadata": {
    "collapsed": false
   },
   "outputs": [],
   "source": [
    "grouped_by_player = df.groupby(['playerShort', 'height', 'weight', 'raterMean', 'leagueCountry', 'position'], as_index=False)\n",
    "\n",
    "clean_data = grouped_by_player.agg({'games': np.sum, 'victories': np.sum, 'ties': np.sum, 'defeats': np.sum, 'goals': np.sum,\n",
    "                       'yellowCards': np.sum, 'yellowReds': np.sum, 'redCards': np.sum, 'meanIAT': np.mean, 'meanExp': np.mean})\n",
    "\n",
    "# drop the column playerShort (non-numeric data not relevant for the classifier)\n",
    "clean_data.drop('playerShort', axis=1, inplace=True)"
   ]
  },
  {
   "cell_type": "code",
   "execution_count": 19,
   "metadata": {
    "collapsed": false
   },
   "outputs": [],
   "source": [
    "clean_data = pd.get_dummies(clean_data, prefix = ['dummyCode_','dummyCode_'])"
   ]
  },
  {
   "cell_type": "markdown",
   "metadata": {},
   "source": [
    "## Training the Classifier"
   ]
  },
  {
   "cell_type": "markdown",
   "metadata": {},
   "source": [
    "Since we want to train a Random Forest Classifier, we first change the labels to discrete values."
   ]
  },
  {
   "cell_type": "code",
   "execution_count": 20,
   "metadata": {
    "collapsed": true
   },
   "outputs": [],
   "source": [
    "def labels_categories(y):\n",
    "    if(y['raterMean'] <= 0.2):\n",
    "        return 0\n",
    "    elif(y['raterMean'] <= 0.4):\n",
    "        return 1\n",
    "    elif(y['raterMean'] <= 0.6):\n",
    "        return 2\n",
    "    elif(y['raterMean'] <= 0.8):\n",
    "        return 3\n",
    "    else:\n",
    "        return 4"
   ]
  },
  {
   "cell_type": "code",
   "execution_count": 21,
   "metadata": {
    "collapsed": true
   },
   "outputs": [],
   "source": [
    "def binary_labels(y):\n",
    "    if(y['raterMean'] < 0.5):\n",
    "        return 0\n",
    "    else:\n",
    "        return 1"
   ]
  },
  {
   "cell_type": "code",
   "execution_count": 76,
   "metadata": {
    "collapsed": false
   },
   "outputs": [
    {
     "data": {
      "text/plain": [
       "Index(['height', 'weight', 'ties', 'yellowReds', 'redCards', 'meanIAT',\n",
       "       'meanExp', 'games', 'defeats', 'victories', 'goals', 'yellowCards',\n",
       "       'dummyCode__England', 'dummyCode__France', 'dummyCode__Germany',\n",
       "       'dummyCode__Spain', 'dummyCode__Attacking Midfielder',\n",
       "       'dummyCode__Center Back', 'dummyCode__Center Forward',\n",
       "       'dummyCode__Center Midfielder', 'dummyCode__Defensive Midfielder',\n",
       "       'dummyCode__Goalkeeper', 'dummyCode__Left Fullback',\n",
       "       'dummyCode__Left Midfielder', 'dummyCode__Left Winger',\n",
       "       'dummyCode__Right Fullback', 'dummyCode__Right Midfielder',\n",
       "       'dummyCode__Right Winger'],\n",
       "      dtype='object')"
      ]
     },
     "execution_count": 76,
     "metadata": {},
     "output_type": "execute_result"
    }
   ],
   "source": [
    "# clean_data['skin_cat'] = clean_data.apply(labels_categories, axis=1)\n",
    "clean_data['skin_cat'] = clean_data.apply(binary_labels, axis=1)\n",
    "\n",
    "X = clean_data.drop(['skin_cat', 'raterMean'], axis=1)\n",
    "\n",
    "Y = np.asarray(clean_data['skin_cat'], dtype=\"|S6\")\n",
    "\n",
    "X.columns"
   ]
  },
  {
   "cell_type": "markdown",
   "metadata": {},
   "source": [
    "### Selecting the Classifier Parameters"
   ]
  },
  {
   "cell_type": "markdown",
   "metadata": {},
   "source": [
    "The main two parameters we need to select are the number of trees in the forest and the maximum depth of a tree. To select them, we used **crossvalidation to avoid overfitting**."
   ]
  },
  {
   "cell_type": "code",
   "execution_count": 23,
   "metadata": {
    "collapsed": false
   },
   "outputs": [],
   "source": [
    "from sklearn.cross_validation import KFold\n",
    "\n",
    "number_splits = 10\n",
    "kf = KFold(X.shape[0], n_folds=number_splits)\n",
    "\n",
    "train_errors =[]\n",
    "test_errors = []\n",
    "number_estimators = range(1, 50)\n",
    "\n",
    "for nb_est in number_estimators:\n",
    "    mean_train_error = 0.0\n",
    "    mean_test_error = 0.0\n",
    "    \n",
    "    for train_index, test_index in kf:\n",
    "        X_train, X_test = X.iloc[train_index], X.iloc[test_index]\n",
    "        Y_train, Y_test = Y[train_index], Y[test_index]\n",
    "        \n",
    "        clf = RandomForestClassifier(n_estimators=nb_est, criterion='entropy')\n",
    "        clf = clf.fit(X_train, Y_train)\n",
    "        \n",
    "        train_error = 1.0 - clf.score(X_train, Y_train)\n",
    "        test_error = 1.0 - clf.score(X_test, Y_test)\n",
    "        \n",
    "        mean_train_error += train_error\n",
    "        mean_test_error += test_error\n",
    "        \n",
    "    train_errors.append(mean_train_error/number_splits)\n",
    "    test_errors.append(mean_test_error/number_splits)"
   ]
  },
  {
   "cell_type": "code",
   "execution_count": 24,
   "metadata": {
    "collapsed": false,
    "scrolled": true
   },
   "outputs": [
    {
     "data": {
      "image/png": "[encoded data removed]",
      "text/plain": [
       "<matplotlib.figure.Figure at 0x1b976ebeba8>"
      ]
     },
     "metadata": {},
     "output_type": "display_data"
    }
   ],
   "source": [
    "plt.plot(number_estimators, test_errors, 'r--', number_estimators, train_errors, 'b--')\n",
    "plt.xlabel('n_estimators')\n",
    "plt.ylabel('error')\n",
    "plt.title('Training and Test Errors as a function of n_estimators')\n",
    "plt.show()"
   ]
  },
  {
   "cell_type": "code",
   "execution_count": 25,
   "metadata": {
    "collapsed": true
   },
   "outputs": [],
   "source": [
    "train_errors = []\n",
    "test_errors = []\n",
    "max_depths = range(1, 20)\n",
    "\n",
    "for depth in max_depths:\n",
    "    mean_train_error = 0.0\n",
    "    mean_test_error = 0.0\n",
    "    \n",
    "    for train_index, test_index in kf:\n",
    "        X_train, X_test = X.iloc[train_index], X.iloc[test_index]\n",
    "        Y_train, Y_test = Y[train_index], Y[test_index]\n",
    "        \n",
    "        clf = RandomForestClassifier(n_estimators=10, criterion='entropy', max_depth=depth)\n",
    "        clf = clf.fit(X_train, Y_train)\n",
    "        \n",
    "        train_error = 1.0 - clf.score(X_train, Y_train)\n",
    "        test_error = 1.0 - clf.score(X_test, Y_test)\n",
    "        \n",
    "        mean_train_error += train_error\n",
    "        mean_test_error += test_error\n",
    "        \n",
    "    train_errors.append(mean_train_error/number_splits)\n",
    "    test_errors.append(mean_test_error/number_splits)"
   ]
  },
  {
   "cell_type": "code",
   "execution_count": 26,
   "metadata": {
    "collapsed": false
   },
   "outputs": [
    {
     "data": {
      "image/png": "[encoded data removed]",
      "text/plain": [
       "<matplotlib.figure.Figure at 0x1b976e24160>"
      ]
     },
     "metadata": {},
     "output_type": "display_data"
    }
   ],
   "source": [
    "plt.plot(max_depths, test_errors, 'r--', max_depths, train_errors, 'b--')\n",
    "plt.xlabel('max_depth')\n",
    "plt.ylabel('error')\n",
    "plt.title('Training and Test Errors as a function of max_depth')\n",
    "plt.show()"
   ]
  },
  {
   "cell_type": "markdown",
   "metadata": {},
   "source": [
    "### Best parameter selection :\n",
    "\n",
    "According to the graph to avoid overfitting we take max_depth = 10 and n_estimator = 10"
   ]
  },
  {
   "cell_type": "markdown",
   "metadata": {},
   "source": [
    "### Analising feature importances"
   ]
  },
  {
   "cell_type": "code",
   "execution_count": 78,
   "metadata": {
    "collapsed": false
   },
   "outputs": [
    {
     "name": "stdout",
     "output_type": "stream",
     "text": [
      "mean accuracy: 0.894217207334\n"
     ]
    },
    {
     "data": {
      "image/png": "[encoded data removed]",
      "text/plain": [
       "<matplotlib.figure.Figure at 0x1b97939d080>"
      ]
     },
     "metadata": {},
     "output_type": "display_data"
    }
   ],
   "source": [
    "# build a random forest and compute the feature importances\n",
    "optimal_n_estimators = 10\n",
    "optimal_max_depth = 10\n",
    "\n",
    "clf = RandomForestClassifier(n_estimators=optimal_n_estimators, criterion='entropy', max_depth=optimal_max_depth)\n",
    "clf = clf.fit(X, Y)\n",
    "\n",
    "importances = clf.feature_importances_\n",
    "std = np.std([tree.feature_importances_ for tree in clf.estimators_], axis=0)\n",
    "indices = np.argsort(importances)[::-1]\n",
    "\n",
    "print('mean accuracy:', clf.score(X,Y))\n",
    "\n",
    "# plot the feature importances of the random forest\n",
    "plot_labels = X.columns[indices]\n",
    "\n",
    "plt.figure()\n",
    "plt.title(\"Feature importances\")\n",
    "plt.bar(range(X.shape[1]), importances[indices], color=\"r\", yerr=std[indices], align=\"center\")\n",
    "plt.xticks(range(X.shape[1]), plot_labels, rotation='vertical')\n",
    "plt.xlim([-1, X.shape[1]])\n",
    "plt.ylim([0,0.18])\n",
    "plt.show()"
   ]
  },
  {
   "cell_type": "code",
   "execution_count": 75,
   "metadata": {
    "collapsed": false
   },
   "outputs": [
    {
     "name": "stdout",
     "output_type": "stream",
     "text": [
      "mean accuracy: 0.951339915374\n"
     ]
    },
    {
     "data": {
      "image/png": "[encoded data removed]",
      "text/plain": [
       "<matplotlib.figure.Figure at 0x1b979387be0>"
      ]
     },
     "metadata": {},
     "output_type": "display_data"
    }
   ],
   "source": [
    "X = clean_data.drop(['skin_cat', 'raterMean', 'ties', 'games', 'defeats', 'victories',\n",
    "       'dummyCode__England', 'dummyCode__France', 'dummyCode__Germany', 'dummyCode__Spain', 'dummyCode__Attacking Midfielder',\n",
    "       'dummyCode__Center Back', 'dummyCode__Center Forward', 'dummyCode__Center Midfielder', 'dummyCode__Defensive Midfielder',\n",
    "       'dummyCode__Goalkeeper', 'dummyCode__Left Fullback', 'dummyCode__Left Midfielder', 'dummyCode__Left Winger',\n",
    "       'dummyCode__Right Fullback', 'dummyCode__Right Midfielder', 'dummyCode__Right Winger'], axis=1)\n",
    "\n",
    "Y = np.asarray(clean_data['skin_cat'], dtype=\"|S6\")\n",
    "\n",
    "clf = RandomForestClassifier(n_estimators=optimal_n_estimators, criterion='entropy', max_depth=optimal_max_depth)\n",
    "clf = clf.fit(X, Y)\n",
    "\n",
    "importances = clf.feature_importances_\n",
    "std = np.std([tree.feature_importances_ for tree in clf.estimators_], axis=0)\n",
    "indices = np.argsort(importances)[::-1]\n",
    "\n",
    "print('mean accuracy:', clf.score(X,Y))\n",
    "\n",
    "# plot the feature importances of the random forest\n",
    "plot_labels = X.columns[indices]\n",
    "\n",
    "plt.figure()\n",
    "plt.title(\"Feature importances\")\n",
    "plt.bar(range(X.shape[1]), importances[indices], color=\"r\", yerr=std[indices], align=\"center\")\n",
    "plt.xticks(range(X.shape[1]), plot_labels, rotation='vertical')\n",
    "plt.xlim([-1, X.shape[1]])\n",
    "plt.show()"
   ]
  },
  {
   "cell_type": "markdown",
   "metadata": {},
   "source": [
    "### Bonus part : Train with an increasing part of the datas :"
   ]
  },
  {
   "cell_type": "code",
   "execution_count": 29,
   "metadata": {
    "collapsed": false
   },
   "outputs": [],
   "source": [
    "number_splits = 8\n",
    "\n",
    "train_errors =[]\n",
    "test_errors = []\n",
    "sizeOfDatas = range(number_splits,X.shape[0],int(X.shape[0]/15))\n",
    "\n",
    "for sizeOfData in sizeOfDatas:\n",
    "    kf = KFold(sizeOfData, n_folds=number_splits)\n",
    "    mean_train_error = 0.0\n",
    "    mean_test_error = 0.0\n",
    "    \n",
    "    for train_index, test_index in kf:\n",
    "        X_train, X_test = X.iloc[train_index], X.iloc[test_index]\n",
    "        Y_train, Y_test = Y[train_index], Y[test_index]\n",
    "        \n",
    "        clf = RandomForestClassifier(n_estimators=10, criterion='entropy',max_depth = 15)\n",
    "        clf = clf.fit(X_train, Y_train)\n",
    "        \n",
    "        train_error =1- clf.score(X_train, Y_train)\n",
    "        test_error =1- clf.score(X_test, Y_test)\n",
    "        \n",
    "        mean_train_error += train_error\n",
    "        mean_test_error += test_error\n",
    "        \n",
    "    train_errors.append(mean_train_error/number_splits)\n",
    "    test_errors.append(mean_test_error/number_splits)"
   ]
  },
  {
   "cell_type": "code",
   "execution_count": 30,
   "metadata": {
    "collapsed": false
   },
   "outputs": [
    {
     "data": {
      "image/png": "[encoded data removed]",
      "text/plain": [
       "<matplotlib.figure.Figure at 0x1b976ffc898>"
      ]
     },
     "metadata": {},
     "output_type": "display_data"
    }
   ],
   "source": [
    "# plot\n",
    "plt.plot(sizeOfDatas, test_errors, 'r--', sizeOfDatas, train_errors, 'b--')\n",
    "plt.xlabel('data size')\n",
    "plt.ylabel('error')\n",
    "plt.title('Training and Test Errors as a function of the data size')\n",
    "plt.show()"
   ]
  },
  {
   "cell_type": "markdown",
   "metadata": {},
   "source": [
    "## Clustering"
   ]
  },
  {
   "cell_type": "code",
   "execution_count": 79,
   "metadata": {
    "collapsed": true
   },
   "outputs": [],
   "source": [
    "from sklearn.cluster import KMeans\n",
    "from sklearn.metrics import silhouette_score\n",
    "from sklearn.decomposition import PCA"
   ]
  },
  {
   "cell_type": "code",
   "execution_count": 80,
   "metadata": {
    "collapsed": false
   },
   "outputs": [],
   "source": [
    "clean_data['skin_cat'] = clean_data.apply(binary_labels, axis=1)\n",
    "\n",
    "X = clean_data.drop(['skin_cat', 'raterMean'], axis=1)\n",
    "Y = clean_data['skin_cat']"
   ]
  },
  {
   "cell_type": "code",
   "execution_count": 81,
   "metadata": {
    "collapsed": true
   },
   "outputs": [],
   "source": [
    "# clusters the data using K-means and computes the silhouette score\n",
    "def kmeans_score(data):\n",
    "    kmean = KMeans(n_clusters=2, init='k-means++')\n",
    "    kmean.fit(data)\n",
    "    labels = kmean.labels_\n",
    "    score = silhouette_score(data, labels, metric='euclidean')\n",
    "    \n",
    "    return labels, score"
   ]
  },
  {
   "cell_type": "code",
   "execution_count": 82,
   "metadata": {
    "collapsed": true
   },
   "outputs": [],
   "source": [
    "# computes the accuracy for each clustering\n",
    "def compute_accuracy(prediction_labels, labels):\n",
    "    correct_predictions = (prediction_labels == labels).sum()\n",
    "    \n",
    "    accuracy = correct_predictions / len(labels)\n",
    "    \n",
    "    return accuracy"
   ]
  },
  {
   "cell_type": "code",
   "execution_count": 87,
   "metadata": {
    "collapsed": false
   },
   "outputs": [
    {
     "name": "stdout",
     "output_type": "stream",
     "text": [
      "silhouette without feature removal: 0.535891062512\n",
      "accuracy without feature removal: 0.406911142454\n"
     ]
    }
   ],
   "source": [
    "labels, score_before = kmeans_score(X)\n",
    "accuracy_before = compute_accuracy(labels,Y)\n",
    "\n",
    "print('silhouette without feature removal:', score_before)\n",
    "print('accuracy without feature removal:', accuracy_before)"
   ]
  },
  {
   "cell_type": "code",
   "execution_count": 88,
   "metadata": {
    "collapsed": false
   },
   "outputs": [],
   "source": [
    "def remove_features_iteratively(data):\n",
    "    removed_features = []\n",
    "    \n",
    "    stop_removing = False\n",
    "    \n",
    "    prediction_labels, old_score = kmeans_score(data)\n",
    "    best_accuracy = compute_accuracy(prediction_labels,Y)\n",
    "    \n",
    "    while(not stop_removing):\n",
    "        new_scores = {}\n",
    "        accuracies = {}\n",
    "        \n",
    "        for feature in data.columns:\n",
    "            labels, score = kmeans_score(data.drop(removed_features + [feature], axis=1))\n",
    "            accuracy = compute_accuracy(labels,Y)\n",
    "            new_scores[feature] = score\n",
    "            accuracies[feature] = accuracy\n",
    "            \n",
    "        feature_to_remove = max(new_scores, key=lambda k: new_scores[k])\n",
    "        best_new_score = new_scores[feature_to_remove]\n",
    "        curr_accuracy = accuracies[feature_to_remove]\n",
    "            \n",
    "        if(best_new_score <= old_score):\n",
    "            stop_removing = True\n",
    "            \n",
    "        if(not stop_removing):\n",
    "            old_score = best_new_score\n",
    "            best_accuracy = curr_accuracy\n",
    "            removed_features.append(feature_to_remove)\n",
    "            \n",
    "        if(len(data.columns) - len(removed_features) == 1):\n",
    "            stop_removing = True\n",
    "            \n",
    "    return best_accuracy, old_score, removed_features"
   ]
  },
  {
   "cell_type": "code",
   "execution_count": 89,
   "metadata": {
    "collapsed": false
   },
   "outputs": [],
   "source": [
    "accuracy_after, best_score, removed_features = remove_features_iteratively(X)"
   ]
  },
  {
   "cell_type": "code",
   "execution_count": 90,
   "metadata": {
    "collapsed": false
   },
   "outputs": [
    {
     "name": "stdout",
     "output_type": "stream",
     "text": [
      "silhouette score after feature removal: 0.630304486418\n",
      "accuracy with feature removal: 0.625528913963\n"
     ]
    }
   ],
   "source": [
    "print('silhouette score after feature removal:', best_score)\n",
    "print('accuracy with feature removal:', accuracy_after)"
   ]
  }
 ],
 "metadata": {
  "anaconda-cloud": {},
  "kernelspec": {
   "display_name": "Python [Root]",
   "language": "python",
   "name": "Python [Root]"
  },
  "language_info": {
   "codemirror_mode": {
    "name": "ipython",
    "version": 3
   },
   "file_extension": ".py",
   "mimetype": "text/x-python",
   "name": "python",
   "nbconvert_exporter": "python",
   "pygments_lexer": "ipython3",
   "version": "3.5.2"
  }
 },
 "nbformat": 4,
 "nbformat_minor": 0
}
