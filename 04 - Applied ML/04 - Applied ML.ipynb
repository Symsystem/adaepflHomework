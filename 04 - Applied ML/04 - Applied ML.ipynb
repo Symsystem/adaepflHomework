{
 "cells": [
  {
   "cell_type": "markdown",
   "metadata": {},
   "source": [
    "# 04 - Applied ML"
   ]
  },
  {
   "cell_type": "code",
   "execution_count": 82,
   "metadata": {
    "collapsed": true
   },
   "outputs": [],
   "source": [
    "# import all the required libraries\n",
    "%matplotlib inline\n",
    "import pandas as pd\n",
    "import numpy as np\n",
    "import matplotlib.pyplot as plt\n",
    "from sklearn.ensemble import RandomForestClassifier"
   ]
  },
  {
   "cell_type": "markdown",
   "metadata": {},
   "source": [
    "## Cleaning the data"
   ]
  },
  {
   "cell_type": "code",
   "execution_count": 83,
   "metadata": {
    "collapsed": false
   },
   "outputs": [
    {
     "name": "stdout",
     "output_type": "stream",
     "text": [
      "Initial shape of the DataFrame: (146028, 28)\n"
     ]
    }
   ],
   "source": [
    "# import the data\n",
    "df = pd.read_csv('CrowdstormingDataJuly1st.csv')\n",
    "\n",
    "# save initial number of records\n",
    "initial_records = df.shape[0]\n",
    "\n",
    "# initial shape of the data\n",
    "print('Initial shape of the DataFrame:', df.shape)"
   ]
  },
  {
   "cell_type": "code",
   "execution_count": 84,
   "metadata": {
    "collapsed": false
   },
   "outputs": [
    {
     "data": {
      "text/plain": [
       "playerShort      False\n",
       "player           False\n",
       "club             False\n",
       "leagueCountry    False\n",
       "birthday         False\n",
       "height            True\n",
       "weight            True\n",
       "position          True\n",
       "games            False\n",
       "victories        False\n",
       "ties             False\n",
       "defeats          False\n",
       "goals            False\n",
       "yellowCards      False\n",
       "yellowReds       False\n",
       "redCards         False\n",
       "photoID           True\n",
       "rater1            True\n",
       "rater2            True\n",
       "refNum           False\n",
       "refCountry       False\n",
       "Alpha_3           True\n",
       "meanIAT           True\n",
       "nIAT              True\n",
       "seIAT             True\n",
       "meanExp           True\n",
       "nExp              True\n",
       "seExp             True\n",
       "dtype: bool"
      ]
     },
     "execution_count": 84,
     "metadata": {},
     "output_type": "execute_result"
    }
   ],
   "source": [
    "# check which columns have NaNs\n",
    "df.isnull().any()"
   ]
  },
  {
   "cell_type": "markdown",
   "metadata": {},
   "source": [
    "We can drop the column photoID since we won't use the photos of the players."
   ]
  },
  {
   "cell_type": "code",
   "execution_count": 85,
   "metadata": {
    "collapsed": false
   },
   "outputs": [],
   "source": [
    "df = df.drop(['photoID'], axis=1)"
   ]
  },
  {
   "cell_type": "code",
   "execution_count": 86,
   "metadata": {
    "collapsed": false
   },
   "outputs": [],
   "source": [
    "# remove records that have rater1 and/or rater2 as NaNs\n",
    "df = df.dropna(axis=0, subset=['rater1', 'rater2'])\n",
    "\n",
    "# create a new column with the mean of the two raters\n",
    "# df['raterMean'] = (df['rater1'] + df['rater2']) / 2\n",
    "df['raterMean'] = (df['rater1'] * df['rater2']) ** 0.5\n",
    "\n",
    "# remove the columns rater1 and rater2\n",
    "df = df.drop(['rater1', 'rater2'], axis=1)"
   ]
  },
  {
   "cell_type": "code",
   "execution_count": 87,
   "metadata": {
    "collapsed": false
   },
   "outputs": [
    {
     "data": {
      "text/plain": [
       "(124621, 26)"
      ]
     },
     "execution_count": 87,
     "metadata": {},
     "output_type": "execute_result"
    }
   ],
   "source": [
    "df.shape"
   ]
  },
  {
   "cell_type": "markdown",
   "metadata": {},
   "source": [
    "Let's now focus on the referees. As stated in [this notebook](http://nbviewer.jupyter.org/github/mathewzilla/redcard/blob/master/Crowdstorming_visualisation.ipynb), we should only take into account referees that took part in games of one of the considered leagues. This means that referees with less than 22 dyads (corresponding to the, at least, 22 players of a game) shouldn't be relevant."
   ]
  },
  {
   "cell_type": "code",
   "execution_count": 88,
   "metadata": {
    "collapsed": false
   },
   "outputs": [],
   "source": [
    "refs = df['refNum'].value_counts()\n",
    "\n",
    "df = df[df['refNum'].isin(refs[refs > 21].index)]"
   ]
  },
  {
   "cell_type": "code",
   "execution_count": 89,
   "metadata": {
    "collapsed": false
   },
   "outputs": [
    {
     "data": {
      "text/plain": [
       "(112484, 26)"
      ]
     },
     "execution_count": 89,
     "metadata": {},
     "output_type": "execute_result"
    }
   ],
   "source": [
    "df.shape"
   ]
  },
  {
   "cell_type": "markdown",
   "metadata": {},
   "source": [
    "Since we will group the records by player, the columns concerning the referees information can be removed, namely: refNum, refCountry and Alpha_3."
   ]
  },
  {
   "cell_type": "code",
   "execution_count": 90,
   "metadata": {
    "collapsed": false
   },
   "outputs": [],
   "source": [
    "df = df.drop(['refNum', 'refCountry', 'Alpha_3'], axis=1)"
   ]
  },
  {
   "cell_type": "markdown",
   "metadata": {},
   "source": [
    "Let's check again the features that have NaNs associated."
   ]
  },
  {
   "cell_type": "code",
   "execution_count": 91,
   "metadata": {
    "collapsed": false
   },
   "outputs": [
    {
     "data": {
      "text/plain": [
       "playerShort      False\n",
       "player           False\n",
       "club             False\n",
       "leagueCountry    False\n",
       "birthday         False\n",
       "height            True\n",
       "weight            True\n",
       "position          True\n",
       "games            False\n",
       "victories        False\n",
       "ties             False\n",
       "defeats          False\n",
       "goals            False\n",
       "yellowCards      False\n",
       "yellowReds       False\n",
       "redCards         False\n",
       "meanIAT           True\n",
       "nIAT              True\n",
       "seIAT             True\n",
       "meanExp           True\n",
       "nExp              True\n",
       "seExp             True\n",
       "raterMean        False\n",
       "dtype: bool"
      ]
     },
     "execution_count": 91,
     "metadata": {},
     "output_type": "execute_result"
    }
   ],
   "source": [
    "# check which columns have NaNs\n",
    "df.isnull().any()"
   ]
  },
  {
   "cell_type": "code",
   "execution_count": 92,
   "metadata": {
    "collapsed": false
   },
   "outputs": [],
   "source": [
    "df = df.dropna(axis=0, subset=['height', 'weight'])\n",
    "\n",
    "records_after = df.shape[0]"
   ]
  },
  {
   "cell_type": "markdown",
   "metadata": {},
   "source": [
    "By dropping the records that have NaNs in the height and weight columns we loose the following percentage of data:"
   ]
  },
  {
   "cell_type": "code",
   "execution_count": 93,
   "metadata": {
    "collapsed": false
   },
   "outputs": [
    {
     "data": {
      "text/plain": [
       "23.376338784342728"
      ]
     },
     "execution_count": 93,
     "metadata": {},
     "output_type": "execute_result"
    }
   ],
   "source": [
    "(initial_records - records_after) / initial_records * 100"
   ]
  },
  {
   "cell_type": "markdown",
   "metadata": {},
   "source": [
    "The columns nIAT, seIAT, nExp and seExp are associated with a particular referee and this information will become irrelevant as soon as the data is aggregated by players. So we'll also remove these features."
   ]
  },
  {
   "cell_type": "code",
   "execution_count": 94,
   "metadata": {
    "collapsed": true
   },
   "outputs": [],
   "source": [
    "df.drop(['nIAT', 'seIAT', 'nExp', 'seExp'], axis=1, inplace=True)"
   ]
  },
  {
   "cell_type": "markdown",
   "metadata": {},
   "source": [
    "The same happens with the columns meanIAT and meanExp. So, for now we'll also drop them."
   ]
  },
  {
   "cell_type": "code",
   "execution_count": 95,
   "metadata": {
    "collapsed": true
   },
   "outputs": [],
   "source": [
    "#TODO: these features seem important, we should keep them somehow\n",
    "# df.drop(['meanIAT', 'meanExp'], axis=1, inplace=True)"
   ]
  },
  {
   "cell_type": "markdown",
   "metadata": {},
   "source": [
    "We can remove the columns that have non-numeric data associated:"
   ]
  },
  {
   "cell_type": "code",
   "execution_count": 96,
   "metadata": {
    "collapsed": false,
    "scrolled": true
   },
   "outputs": [],
   "source": [
    "non_numeric_features = ['player', 'club', 'birthday']\n",
    "\n",
    "df.drop(non_numeric_features, axis=1, inplace=True)"
   ]
  },
  {
   "cell_type": "code",
   "execution_count": 97,
   "metadata": {
    "collapsed": false
   },
   "outputs": [
    {
     "data": {
      "text/plain": [
       "playerShort      False\n",
       "leagueCountry    False\n",
       "height           False\n",
       "weight           False\n",
       "position          True\n",
       "games            False\n",
       "victories        False\n",
       "ties             False\n",
       "defeats          False\n",
       "goals            False\n",
       "yellowCards      False\n",
       "yellowReds       False\n",
       "redCards         False\n",
       "meanIAT           True\n",
       "meanExp           True\n",
       "raterMean        False\n",
       "dtype: bool"
      ]
     },
     "execution_count": 97,
     "metadata": {},
     "output_type": "execute_result"
    }
   ],
   "source": [
    "df.isnull().any()"
   ]
  },
  {
   "cell_type": "code",
   "execution_count": 99,
   "metadata": {
    "collapsed": true
   },
   "outputs": [],
   "source": [
    "df = df.dropna(axis=0, subset=['meanIAT', 'meanExp'])"
   ]
  },
  {
   "cell_type": "code",
   "execution_count": 20,
   "metadata": {
    "collapsed": false,
    "scrolled": true
   },
   "outputs": [
    {
     "name": "stdout",
     "output_type": "stream",
     "text": [
      "Shape of the DataFrame before aggregating by player: (111782, 14)\n"
     ]
    }
   ],
   "source": [
    "print('Shape of the DataFrame before aggregating by player:', df.shape)"
   ]
  },
  {
   "cell_type": "markdown",
   "metadata": {},
   "source": [
    "## Aggregating the data (by player)"
   ]
  },
  {
   "cell_type": "code",
   "execution_count": 101,
   "metadata": {
    "collapsed": false
   },
   "outputs": [],
   "source": [
    "grouped_by_player = df.groupby(['playerShort', 'height', 'weight', 'raterMean', 'leagueCountry', 'position'], as_index=False)\n",
    "\n",
    "clean_data = grouped_by_player.agg({'games': np.sum, 'victories': np.sum, 'ties': np.sum, 'defeats': np.sum, 'goals': np.sum,\n",
    "                       'yellowCards': np.sum, 'yellowReds': np.sum, 'redCards': np.sum, 'meanIAT': np.mean, 'meanExp': np.mean})\n",
    "\n",
    "# drop the column playerShort (non-numeric data not relevant for the classifier)\n",
    "clean_data.drop('playerShort', axis=1, inplace=True)"
   ]
  },
  {
   "cell_type": "code",
   "execution_count": 103,
   "metadata": {
    "collapsed": false
   },
   "outputs": [],
   "source": [
    "clean_data = pd.get_dummies(clean_data, prefix = ['dummyCode_','dummyCode_'])"
   ]
  },
  {
   "cell_type": "code",
   "execution_count": 104,
   "metadata": {
    "collapsed": false
   },
   "outputs": [
    {
     "data": {
      "text/html": [
       "<div>\n",
       "<table border=\"1\" class=\"dataframe\">\n",
       "  <thead>\n",
       "    <tr style=\"text-align: right;\">\n",
       "      <th></th>\n",
       "      <th>height</th>\n",
       "      <th>weight</th>\n",
       "      <th>raterMean</th>\n",
       "      <th>games</th>\n",
       "      <th>meanIAT</th>\n",
       "      <th>ties</th>\n",
       "      <th>victories</th>\n",
       "      <th>yellowReds</th>\n",
       "      <th>redCards</th>\n",
       "      <th>defeats</th>\n",
       "      <th>...</th>\n",
       "      <th>dummyCode__Center Forward</th>\n",
       "      <th>dummyCode__Center Midfielder</th>\n",
       "      <th>dummyCode__Defensive Midfielder</th>\n",
       "      <th>dummyCode__Goalkeeper</th>\n",
       "      <th>dummyCode__Left Fullback</th>\n",
       "      <th>dummyCode__Left Midfielder</th>\n",
       "      <th>dummyCode__Left Winger</th>\n",
       "      <th>dummyCode__Right Fullback</th>\n",
       "      <th>dummyCode__Right Midfielder</th>\n",
       "      <th>dummyCode__Right Winger</th>\n",
       "    </tr>\n",
       "  </thead>\n",
       "  <tbody>\n",
       "    <tr>\n",
       "      <th>0</th>\n",
       "      <td>182.0</td>\n",
       "      <td>71.0</td>\n",
       "      <td>0.00</td>\n",
       "      <td>635</td>\n",
       "      <td>0.345065</td>\n",
       "      <td>174</td>\n",
       "      <td>240</td>\n",
       "      <td>0</td>\n",
       "      <td>0</td>\n",
       "      <td>221</td>\n",
       "      <td>...</td>\n",
       "      <td>0.0</td>\n",
       "      <td>0.0</td>\n",
       "      <td>0.0</td>\n",
       "      <td>0.0</td>\n",
       "      <td>0.0</td>\n",
       "      <td>0.0</td>\n",
       "      <td>0.0</td>\n",
       "      <td>0.0</td>\n",
       "      <td>0.0</td>\n",
       "      <td>0.0</td>\n",
       "    </tr>\n",
       "    <tr>\n",
       "      <th>1</th>\n",
       "      <td>183.0</td>\n",
       "      <td>73.0</td>\n",
       "      <td>0.00</td>\n",
       "      <td>328</td>\n",
       "      <td>0.349424</td>\n",
       "      <td>70</td>\n",
       "      <td>139</td>\n",
       "      <td>0</td>\n",
       "      <td>1</td>\n",
       "      <td>119</td>\n",
       "      <td>...</td>\n",
       "      <td>0.0</td>\n",
       "      <td>0.0</td>\n",
       "      <td>0.0</td>\n",
       "      <td>0.0</td>\n",
       "      <td>0.0</td>\n",
       "      <td>0.0</td>\n",
       "      <td>0.0</td>\n",
       "      <td>0.0</td>\n",
       "      <td>0.0</td>\n",
       "      <td>0.0</td>\n",
       "    </tr>\n",
       "    <tr>\n",
       "      <th>2</th>\n",
       "      <td>165.0</td>\n",
       "      <td>63.0</td>\n",
       "      <td>0.25</td>\n",
       "      <td>411</td>\n",
       "      <td>0.346085</td>\n",
       "      <td>96</td>\n",
       "      <td>200</td>\n",
       "      <td>0</td>\n",
       "      <td>0</td>\n",
       "      <td>115</td>\n",
       "      <td>...</td>\n",
       "      <td>0.0</td>\n",
       "      <td>0.0</td>\n",
       "      <td>0.0</td>\n",
       "      <td>0.0</td>\n",
       "      <td>0.0</td>\n",
       "      <td>0.0</td>\n",
       "      <td>0.0</td>\n",
       "      <td>0.0</td>\n",
       "      <td>1.0</td>\n",
       "      <td>0.0</td>\n",
       "    </tr>\n",
       "    <tr>\n",
       "      <th>3</th>\n",
       "      <td>178.0</td>\n",
       "      <td>76.0</td>\n",
       "      <td>0.00</td>\n",
       "      <td>253</td>\n",
       "      <td>0.347013</td>\n",
       "      <td>42</td>\n",
       "      <td>144</td>\n",
       "      <td>0</td>\n",
       "      <td>1</td>\n",
       "      <td>67</td>\n",
       "      <td>...</td>\n",
       "      <td>0.0</td>\n",
       "      <td>1.0</td>\n",
       "      <td>0.0</td>\n",
       "      <td>0.0</td>\n",
       "      <td>0.0</td>\n",
       "      <td>0.0</td>\n",
       "      <td>0.0</td>\n",
       "      <td>0.0</td>\n",
       "      <td>0.0</td>\n",
       "      <td>0.0</td>\n",
       "    </tr>\n",
       "    <tr>\n",
       "      <th>4</th>\n",
       "      <td>180.0</td>\n",
       "      <td>73.0</td>\n",
       "      <td>0.25</td>\n",
       "      <td>124</td>\n",
       "      <td>0.331600</td>\n",
       "      <td>40</td>\n",
       "      <td>41</td>\n",
       "      <td>4</td>\n",
       "      <td>2</td>\n",
       "      <td>43</td>\n",
       "      <td>...</td>\n",
       "      <td>0.0</td>\n",
       "      <td>0.0</td>\n",
       "      <td>0.0</td>\n",
       "      <td>0.0</td>\n",
       "      <td>0.0</td>\n",
       "      <td>0.0</td>\n",
       "      <td>0.0</td>\n",
       "      <td>0.0</td>\n",
       "      <td>0.0</td>\n",
       "      <td>0.0</td>\n",
       "    </tr>\n",
       "  </tbody>\n",
       "</table>\n",
       "<p>5 rows × 29 columns</p>\n",
       "</div>"
      ],
      "text/plain": [
       "   height  weight  raterMean  games   meanIAT  ties  victories  yellowReds  \\\n",
       "0   182.0    71.0       0.00    635  0.345065   174        240           0   \n",
       "1   183.0    73.0       0.00    328  0.349424    70        139           0   \n",
       "2   165.0    63.0       0.25    411  0.346085    96        200           0   \n",
       "3   178.0    76.0       0.00    253  0.347013    42        144           0   \n",
       "4   180.0    73.0       0.25    124  0.331600    40         41           4   \n",
       "\n",
       "   redCards  defeats           ...             dummyCode__Center Forward  \\\n",
       "0         0      221           ...                                   0.0   \n",
       "1         1      119           ...                                   0.0   \n",
       "2         0      115           ...                                   0.0   \n",
       "3         1       67           ...                                   0.0   \n",
       "4         2       43           ...                                   0.0   \n",
       "\n",
       "   dummyCode__Center Midfielder  dummyCode__Defensive Midfielder  \\\n",
       "0                           0.0                              0.0   \n",
       "1                           0.0                              0.0   \n",
       "2                           0.0                              0.0   \n",
       "3                           1.0                              0.0   \n",
       "4                           0.0                              0.0   \n",
       "\n",
       "   dummyCode__Goalkeeper  dummyCode__Left Fullback  \\\n",
       "0                    0.0                       0.0   \n",
       "1                    0.0                       0.0   \n",
       "2                    0.0                       0.0   \n",
       "3                    0.0                       0.0   \n",
       "4                    0.0                       0.0   \n",
       "\n",
       "   dummyCode__Left Midfielder  dummyCode__Left Winger  \\\n",
       "0                         0.0                     0.0   \n",
       "1                         0.0                     0.0   \n",
       "2                         0.0                     0.0   \n",
       "3                         0.0                     0.0   \n",
       "4                         0.0                     0.0   \n",
       "\n",
       "   dummyCode__Right Fullback  dummyCode__Right Midfielder  \\\n",
       "0                        0.0                          0.0   \n",
       "1                        0.0                          0.0   \n",
       "2                        0.0                          1.0   \n",
       "3                        0.0                          0.0   \n",
       "4                        0.0                          0.0   \n",
       "\n",
       "   dummyCode__Right Winger  \n",
       "0                      0.0  \n",
       "1                      0.0  \n",
       "2                      0.0  \n",
       "3                      0.0  \n",
       "4                      0.0  \n",
       "\n",
       "[5 rows x 29 columns]"
      ]
     },
     "execution_count": 104,
     "metadata": {},
     "output_type": "execute_result"
    }
   ],
   "source": [
    "clean_data.head()"
   ]
  },
  {
   "cell_type": "markdown",
   "metadata": {},
   "source": [
    "## Training the Classifier"
   ]
  },
  {
   "cell_type": "code",
   "execution_count": 36,
   "metadata": {
    "collapsed": true
   },
   "outputs": [],
   "source": [
    "def labels_categories(y):\n",
    "    if(y['raterMean'] <= 0.2):\n",
    "        return 0\n",
    "    elif(y['raterMean'] <= 0.4):\n",
    "        return 1\n",
    "    elif(y['raterMean'] <= 0.6):\n",
    "        return 2\n",
    "    elif(y['raterMean'] <= 0.8):\n",
    "        return 3\n",
    "    else:\n",
    "        return 4"
   ]
  },
  {
   "cell_type": "code",
   "execution_count": 111,
   "metadata": {
    "collapsed": false
   },
   "outputs": [
    {
     "data": {
      "text/plain": [
       "Index(['height', 'weight', 'games', 'meanIAT', 'ties', 'victories',\n",
       "       'yellowReds', 'redCards', 'defeats', 'meanExp', 'goals', 'yellowCards',\n",
       "       'dummyCode__England', 'dummyCode__France', 'dummyCode__Germany',\n",
       "       'dummyCode__Spain', 'dummyCode__Attacking Midfielder',\n",
       "       'dummyCode__Center Back', 'dummyCode__Center Forward',\n",
       "       'dummyCode__Center Midfielder', 'dummyCode__Defensive Midfielder',\n",
       "       'dummyCode__Goalkeeper', 'dummyCode__Left Fullback',\n",
       "       'dummyCode__Left Midfielder', 'dummyCode__Left Winger',\n",
       "       'dummyCode__Right Fullback', 'dummyCode__Right Midfielder',\n",
       "       'dummyCode__Right Winger'],\n",
       "      dtype='object')"
      ]
     },
     "execution_count": 111,
     "metadata": {},
     "output_type": "execute_result"
    }
   ],
   "source": [
    "clean_data['skin_cat'] = clean_data.apply(labels_categories, axis=1)\n",
    "\n",
    "X = clean_data.drop(['skin_cat', 'raterMean'], axis=1)\n",
    "\n",
    "Y = np.asarray(clean_data['skin_cat'], dtype=\"|S6\")\n",
    "\n",
    "X.columns"
   ]
  },
  {
   "cell_type": "code",
   "execution_count": 108,
   "metadata": {
    "collapsed": false
   },
   "outputs": [],
   "source": [
    "from sklearn.cross_validation import KFold\n",
    "\n",
    "number_splits = 20\n",
    "kf = KFold(X_train.shape[0], n_folds=number_splits)\n",
    "\n",
    "TrainingError =[]\n",
    "TestError = []\n",
    "nbsEstimators = []\n",
    "for numberOfEstimators in range(1, 50):\n",
    "    for train_index, test_index in kf:\n",
    "        X_train, X_test = X.iloc[train_index], X.iloc[test_index]\n",
    "        Y_train, Y_test = Y[train_index], Y[test_index]\n",
    "        \n",
    "        clf = RandomForestClassifier(n_estimators=numberOfEstimators)\n",
    "        clf = clf.fit(X_train, Y_train)\n",
    "        \n",
    "        train_error = 1.0 - clf.score(X_train, Y_train)\n",
    "        test_error = 1.0 - clf.score(X_test, Y_test)\n",
    "        \n",
    "        train_error += train_error\n",
    "        test_error += test_error\n",
    "        \n",
    "    TrainingError.append(train_error/number_splits)\n",
    "    TestError.append(test_error/number_splits)\n",
    "    nbsEstimators.append(numberOfEstimators)"
   ]
  },
  {
   "cell_type": "code",
   "execution_count": 109,
   "metadata": {
    "collapsed": false,
    "scrolled": true
   },
   "outputs": [
    {
     "data": {
      "image/png": "[encoded data removed]",
      "text/plain": [
       "<matplotlib.figure.Figure at 0x1b000c0bd68>"
      ]
     },
     "metadata": {},
     "output_type": "display_data"
    }
   ],
   "source": [
    "plt.plot(nbsEstimators, TestError, 'r--', nbsEstimators,TrainingError, 'b--')\n",
    "plt.xlabel('nbsEstimators')\n",
    "plt.ylabel('Error')\n",
    "plt.title('Test & Train errors in function of the Number of Estimators')\n",
    "plt.show()"
   ]
  },
  {
   "cell_type": "code",
   "execution_count": 110,
   "metadata": {
    "collapsed": false
   },
   "outputs": [
    {
     "name": "stdout",
     "output_type": "stream",
     "text": [
      "Feature ranking:\n",
      "1. feature 3 (0.098157)\n",
      "2. feature 9 (0.095945)\n",
      "3. feature 2 (0.090131)\n",
      "4. feature 8 (0.076703)\n",
      "5. feature 11 (0.074909)\n",
      "6. feature 5 (0.073961)\n",
      "7. feature 1 (0.072347)\n",
      "8. feature 10 (0.071846)\n",
      "9. feature 0 (0.071728)\n",
      "10. feature 4 (0.069532)\n",
      "11. feature 7 (0.034530)\n",
      "12. feature 6 (0.031720)\n",
      "13. feature 14 (0.015216)\n",
      "14. feature 13 (0.013058)\n",
      "15. feature 18 (0.012163)\n",
      "16. feature 20 (0.010695)\n",
      "17. feature 12 (0.010348)\n",
      "18. feature 17 (0.009659)\n",
      "19. feature 22 (0.008509)\n",
      "20. feature 16 (0.008455)\n",
      "21. feature 15 (0.006910)\n",
      "22. feature 25 (0.006658)\n",
      "23. feature 24 (0.006522)\n",
      "24. feature 27 (0.006510)\n",
      "25. feature 21 (0.006406)\n",
      "26. feature 23 (0.006403)\n",
      "27. feature 26 (0.005996)\n",
      "28. feature 19 (0.004983)\n"
     ]
    },
    {
     "data": {
      "image/png": "[encoded data removed]",
      "text/plain": [
       "<matplotlib.figure.Figure at 0x1b000c25da0>"
      ]
     },
     "metadata": {},
     "output_type": "display_data"
    }
   ],
   "source": [
    "## features importance :\n",
    "\n",
    "# Build a forest and compute the feature importances\n",
    "\n",
    "optimalNumberOfEstimators = 10 ### fill it !\n",
    "\n",
    "clf = RandomForestClassifier(n_estimators=optimalNumberOfEstimators)\n",
    "clf = clf.fit(X, Y)\n",
    "importances = clf.feature_importances_\n",
    "std = np.std([tree.feature_importances_ for tree in clf.estimators_],\n",
    "             axis=0)\n",
    "indices = np.argsort(importances)[::-1]\n",
    "\n",
    "# Print the feature ranking\n",
    "print(\"Feature ranking:\")\n",
    "\n",
    "for f in range(X.shape[1]):\n",
    "    print(\"%d. feature %d (%f)\" % (f + 1, indices[f], importances[indices[f]]))\n",
    "\n",
    "# Plot the feature importances of the forest\n",
    "plt.figure()\n",
    "plt.title(\"Feature importances\")\n",
    "plt.bar(range(X.shape[1]), importances[indices],\n",
    "       color=\"r\", yerr=std[indices], align=\"center\")\n",
    "plt.xticks(range(X.shape[1]), indices)\n",
    "plt.xlim([-1, X.shape[1]])\n",
    "plt.show()"
   ]
  },
  {
   "cell_type": "markdown",
   "metadata": {},
   "source": [
    "## Clustering"
   ]
  },
  {
   "cell_type": "code",
   "execution_count": null,
   "metadata": {
    "collapsed": true
   },
   "outputs": [],
   "source": []
  }
 ],
 "metadata": {
  "anaconda-cloud": {},
  "kernelspec": {
   "display_name": "Python [Root]",
   "language": "python",
   "name": "Python [Root]"
  },
  "language_info": {
   "codemirror_mode": {
    "name": "ipython",
    "version": 3
   },
   "file_extension": ".py",
   "mimetype": "text/x-python",
   "name": "python",
   "nbconvert_exporter": "python",
   "pygments_lexer": "ipython3",
   "version": "3.5.2"
  }
 },
 "nbformat": 4,
 "nbformat_minor": 0
}
