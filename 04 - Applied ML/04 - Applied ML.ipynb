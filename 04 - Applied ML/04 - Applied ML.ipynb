{
 "cells": [
  {
   "cell_type": "markdown",
   "metadata": {},
   "source": [
    "# 04 - Applied ML"
   ]
  },
  {
   "cell_type": "code",
   "execution_count": 37,
   "metadata": {
    "collapsed": true
   },
   "outputs": [],
   "source": [
    "%matplotlib inline\n",
    "import pandas as pd\n",
    "import numpy as np\n",
    "import matplotlib.pyplot as plt\n",
    "from sklearn.ensemble import RandomForestClassifier"
   ]
  },
  {
   "cell_type": "markdown",
   "metadata": {},
   "source": [
    "## Cleaning the data"
   ]
  },
  {
   "cell_type": "code",
   "execution_count": 38,
   "metadata": {
    "collapsed": false
   },
   "outputs": [
    {
     "name": "stdout",
     "output_type": "stream",
     "text": [
      "Initial shape of the DataFrame: (146028, 28)\n",
      "Number of players: 2053\n"
     ]
    }
   ],
   "source": [
    "# import the data\n",
    "df = pd.read_csv('CrowdstormingDataJuly1st.csv')\n",
    "\n",
    "# save initial number of records\n",
    "initial_records = df.shape[0]\n",
    "\n",
    "print('Initial shape of the DataFrame:', df.shape)\n",
    "\n",
    "# initial number of players\n",
    "initial_players = len(df['playerShort'].unique())\n",
    "\n",
    "print('Number of players:', initial_players)"
   ]
  },
  {
   "cell_type": "markdown",
   "metadata": {},
   "source": [
    "We start by checking which columns have NaN values so that we can decide if we should drop some of those columns or some of the records."
   ]
  },
  {
   "cell_type": "code",
   "execution_count": 39,
   "metadata": {
    "collapsed": false
   },
   "outputs": [
    {
     "data": {
      "text/plain": [
       "playerShort      False\n",
       "player           False\n",
       "club             False\n",
       "leagueCountry    False\n",
       "birthday         False\n",
       "height            True\n",
       "weight            True\n",
       "position          True\n",
       "games            False\n",
       "victories        False\n",
       "ties             False\n",
       "defeats          False\n",
       "goals            False\n",
       "yellowCards      False\n",
       "yellowReds       False\n",
       "redCards         False\n",
       "photoID           True\n",
       "rater1            True\n",
       "rater2            True\n",
       "refNum           False\n",
       "refCountry       False\n",
       "Alpha_3           True\n",
       "meanIAT           True\n",
       "nIAT              True\n",
       "seIAT             True\n",
       "meanExp           True\n",
       "nExp              True\n",
       "seExp             True\n",
       "dtype: bool"
      ]
     },
     "execution_count": 39,
     "metadata": {},
     "output_type": "execute_result"
    }
   ],
   "source": [
    "# check which columns have NaNs\n",
    "df.isnull().any()"
   ]
  },
  {
   "cell_type": "markdown",
   "metadata": {},
   "source": [
    "We can drop the column photoID since we won't use the photos of the players."
   ]
  },
  {
   "cell_type": "code",
   "execution_count": 40,
   "metadata": {
    "collapsed": false
   },
   "outputs": [],
   "source": [
    "df = df.drop(['photoID'], axis=1)"
   ]
  },
  {
   "cell_type": "markdown",
   "metadata": {},
   "source": [
    "In order to have a unique skin rating for each player, we compute the geometric mean between the two raters. We do so after removing the records with NaNs in those two columns."
   ]
  },
  {
   "cell_type": "code",
   "execution_count": 41,
   "metadata": {
    "collapsed": false
   },
   "outputs": [],
   "source": [
    "# remove records that have rater1 and/or rater2 as NaNs\n",
    "df = df.dropna(axis=0, subset=['rater1', 'rater2'])\n",
    "\n",
    "# create a new column with the geometric mean of the two raters\n",
    "df['raterMean'] = (df['rater1'] * df['rater2']) ** 0.5\n",
    "\n",
    "# remove the columns rater1 and rater2\n",
    "df = df.drop(['rater1', 'rater2'], axis=1)"
   ]
  },
  {
   "cell_type": "code",
   "execution_count": 42,
   "metadata": {
    "collapsed": false,
    "scrolled": true
   },
   "outputs": [
    {
     "name": "stdout",
     "output_type": "stream",
     "text": [
      "Number of players: 1585\n"
     ]
    }
   ],
   "source": [
    "print('Number of players:', len(df['playerShort'].unique()))"
   ]
  },
  {
   "cell_type": "markdown",
   "metadata": {},
   "source": [
    "Let's now focus on the referees. As stated in [this notebook](http://nbviewer.jupyter.org/github/mathewzilla/redcard/blob/master/Crowdstorming_visualisation.ipynb), we should only take into account referees that took part in games of one of the considered leagues. This means that referees with less than 22 dyads (corresponding to the, at least, 22 players of a game) shouldn't be relevant."
   ]
  },
  {
   "cell_type": "code",
   "execution_count": 43,
   "metadata": {
    "collapsed": false
   },
   "outputs": [],
   "source": [
    "# compute the number of dyads per referee\n",
    "refs = df['refNum'].value_counts()\n",
    "\n",
    "# only keep the referees from the leagues\n",
    "df = df[df['refNum'].isin(refs[refs > 21].index)]"
   ]
  },
  {
   "cell_type": "code",
   "execution_count": 44,
   "metadata": {
    "collapsed": false
   },
   "outputs": [
    {
     "name": "stdout",
     "output_type": "stream",
     "text": [
      "Number of players: 1584\n"
     ]
    }
   ],
   "source": [
    "print('Number of players:', len(df['playerShort'].unique()))"
   ]
  },
  {
   "cell_type": "markdown",
   "metadata": {},
   "source": [
    "Since we will group the records by player, some of the columns concerning the referees information can be removed, namely: refNum, refCountry and Alpha_3."
   ]
  },
  {
   "cell_type": "code",
   "execution_count": 45,
   "metadata": {
    "collapsed": false
   },
   "outputs": [],
   "source": [
    "df = df.drop(['refNum', 'refCountry', 'Alpha_3'], axis=1)"
   ]
  },
  {
   "cell_type": "markdown",
   "metadata": {},
   "source": [
    "The columns nIAT, seIAT, nExp and seExp are associated with a particular referee and this information will become irrelevant as soon as the data is aggregated by players. So we'll also remove these features."
   ]
  },
  {
   "cell_type": "code",
   "execution_count": 46,
   "metadata": {
    "collapsed": true
   },
   "outputs": [],
   "source": [
    "df.drop(['nIAT', 'seIAT', 'nExp', 'seExp'], axis=1, inplace=True)"
   ]
  },
  {
   "cell_type": "markdown",
   "metadata": {},
   "source": [
    "Let's check again the features that have NaNs associated."
   ]
  },
  {
   "cell_type": "code",
   "execution_count": 47,
   "metadata": {
    "collapsed": false
   },
   "outputs": [
    {
     "data": {
      "text/plain": [
       "playerShort      False\n",
       "player           False\n",
       "club             False\n",
       "leagueCountry    False\n",
       "birthday         False\n",
       "height            True\n",
       "weight            True\n",
       "position          True\n",
       "games            False\n",
       "victories        False\n",
       "ties             False\n",
       "defeats          False\n",
       "goals            False\n",
       "yellowCards      False\n",
       "yellowReds       False\n",
       "redCards         False\n",
       "meanIAT           True\n",
       "meanExp           True\n",
       "raterMean        False\n",
       "dtype: bool"
      ]
     },
     "execution_count": 47,
     "metadata": {},
     "output_type": "execute_result"
    }
   ],
   "source": [
    "# check which columns have NaNs\n",
    "df.isnull().any()"
   ]
  },
  {
   "cell_type": "code",
   "execution_count": 48,
   "metadata": {
    "collapsed": false
   },
   "outputs": [
    {
     "name": "stdout",
     "output_type": "stream",
     "text": [
      "Number of players: 1418\n"
     ]
    }
   ],
   "source": [
    "df = df.dropna(axis=0, subset=['height', 'weight', 'position'])\n",
    "\n",
    "print('Number of players:', len(df['playerShort'].unique()))"
   ]
  },
  {
   "cell_type": "markdown",
   "metadata": {},
   "source": [
    "We can remove the columns that correspond to non-numeric data and that we believe to be irrelevant for the problem:"
   ]
  },
  {
   "cell_type": "code",
   "execution_count": 49,
   "metadata": {
    "collapsed": false,
    "scrolled": true
   },
   "outputs": [],
   "source": [
    "non_numeric_features = ['player', 'club', 'birthday']\n",
    "df.drop(non_numeric_features, axis=1, inplace=True)"
   ]
  },
  {
   "cell_type": "code",
   "execution_count": 50,
   "metadata": {
    "collapsed": false
   },
   "outputs": [
    {
     "data": {
      "text/plain": [
       "playerShort      False\n",
       "leagueCountry    False\n",
       "height           False\n",
       "weight           False\n",
       "position         False\n",
       "games            False\n",
       "victories        False\n",
       "ties             False\n",
       "defeats          False\n",
       "goals            False\n",
       "yellowCards      False\n",
       "yellowReds       False\n",
       "redCards         False\n",
       "meanIAT           True\n",
       "meanExp           True\n",
       "raterMean        False\n",
       "dtype: bool"
      ]
     },
     "execution_count": 50,
     "metadata": {},
     "output_type": "execute_result"
    }
   ],
   "source": [
    "df.isnull().any()"
   ]
  },
  {
   "cell_type": "code",
   "execution_count": 51,
   "metadata": {
    "collapsed": true
   },
   "outputs": [],
   "source": [
    "df = df.dropna(axis=0, subset=['meanIAT', 'meanExp'])"
   ]
  },
  {
   "cell_type": "code",
   "execution_count": 52,
   "metadata": {
    "collapsed": false,
    "scrolled": true
   },
   "outputs": [
    {
     "name": "stdout",
     "output_type": "stream",
     "text": [
      "Shape of the DataFrame before aggregating by player: (104420, 16)\n",
      "Number of features after cleaning the data: 1418\n"
     ]
    }
   ],
   "source": [
    "print('Shape of the DataFrame before aggregating by player:', df.shape)\n",
    "print('Number of features after cleaning the data:', len(df['playerShort'].unique()))"
   ]
  },
  {
   "cell_type": "markdown",
   "metadata": {},
   "source": [
    "## Aggregating the data (by player)"
   ]
  },
  {
   "cell_type": "markdown",
   "metadata": {},
   "source": [
    "For each player, we decided to take the means over the meanIAT and the meanExp of the referees with whom the players interacted as an indicator of the mean bias each player faced throughout the games."
   ]
  },
  {
   "cell_type": "code",
   "execution_count": 53,
   "metadata": {
    "collapsed": false
   },
   "outputs": [],
   "source": [
    "grouped_by_player = df.groupby(['playerShort', 'height', 'weight', 'raterMean', 'leagueCountry', 'position'], as_index=False)\n",
    "\n",
    "clean_data = grouped_by_player.agg({'games': np.sum, 'victories': np.sum, 'ties': np.sum, 'defeats': np.sum, 'goals': np.sum,\n",
    "                       'yellowCards': np.sum, 'yellowReds': np.sum, 'redCards': np.sum, 'meanIAT': np.mean, 'meanExp': np.mean})\n",
    "\n",
    "# drop the column playerShort (non-numeric data not relevant for the classifier)\n",
    "clean_data.drop('playerShort', axis=1, inplace=True)"
   ]
  },
  {
   "cell_type": "code",
   "execution_count": 54,
   "metadata": {
    "collapsed": false
   },
   "outputs": [],
   "source": [
    "clean_data = pd.get_dummies(clean_data, prefix = ['dummyCode_','dummyCode_'])"
   ]
  },
  {
   "cell_type": "markdown",
   "metadata": {},
   "source": [
    "## Training the Classifier"
   ]
  },
  {
   "cell_type": "markdown",
   "metadata": {},
   "source": [
    "Since we want to train a Random Forest Classifier, we first change the labels to discrete values."
   ]
  },
  {
   "cell_type": "code",
   "execution_count": 55,
   "metadata": {
    "collapsed": true
   },
   "outputs": [],
   "source": [
    "# this would be suitable for multiclass classification\n",
    "def labels_categories(y):\n",
    "    if(y['raterMean'] <= 0.2):\n",
    "        return 0\n",
    "    elif(y['raterMean'] <= 0.4):\n",
    "        return 1\n",
    "    elif(y['raterMean'] <= 0.6):\n",
    "        return 2\n",
    "    elif(y['raterMean'] <= 0.8):\n",
    "        return 3\n",
    "    else:\n",
    "        return 4"
   ]
  },
  {
   "cell_type": "code",
   "execution_count": 56,
   "metadata": {
    "collapsed": true
   },
   "outputs": [],
   "source": [
    "# reduce the problem to a binary classification problem\n",
    "def binary_labels(y):\n",
    "    if(y['raterMean'] < 0.5):\n",
    "        return 0\n",
    "    else:\n",
    "        return 1"
   ]
  },
  {
   "cell_type": "code",
   "execution_count": 57,
   "metadata": {
    "collapsed": false
   },
   "outputs": [],
   "source": [
    "clean_data['skin_cat'] = clean_data.apply(binary_labels, axis=1)\n",
    "\n",
    "X = clean_data.drop(['skin_cat', 'raterMean'], axis=1)\n",
    "Y = np.asarray(clean_data['skin_cat'], dtype=\"|S6\")"
   ]
  },
  {
   "cell_type": "code",
   "execution_count": 58,
   "metadata": {
    "collapsed": false
   },
   "outputs": [
    {
     "data": {
      "text/plain": [
       "Index(['height', 'weight', 'yellowCards', 'goals', 'meanIAT', 'redCards',\n",
       "       'games', 'meanExp', 'defeats', 'ties', 'yellowReds', 'victories',\n",
       "       'dummyCode__England', 'dummyCode__France', 'dummyCode__Germany',\n",
       "       'dummyCode__Spain', 'dummyCode__Attacking Midfielder',\n",
       "       'dummyCode__Center Back', 'dummyCode__Center Forward',\n",
       "       'dummyCode__Center Midfielder', 'dummyCode__Defensive Midfielder',\n",
       "       'dummyCode__Goalkeeper', 'dummyCode__Left Fullback',\n",
       "       'dummyCode__Left Midfielder', 'dummyCode__Left Winger',\n",
       "       'dummyCode__Right Fullback', 'dummyCode__Right Midfielder',\n",
       "       'dummyCode__Right Winger'],\n",
       "      dtype='object')"
      ]
     },
     "execution_count": 58,
     "metadata": {},
     "output_type": "execute_result"
    }
   ],
   "source": [
    "# features that will be used to train the classifier\n",
    "X.columns"
   ]
  },
  {
   "cell_type": "markdown",
   "metadata": {},
   "source": [
    "### Selecting the Classifier Parameters"
   ]
  },
  {
   "cell_type": "markdown",
   "metadata": {},
   "source": [
    "The main two parameters we need to select are the number of trees in the forest and the maximum depth of a tree. To select them and to **to avoid overfitting**, we performed **10-fold crossvalidation**."
   ]
  },
  {
   "cell_type": "code",
   "execution_count": 59,
   "metadata": {
    "collapsed": false
   },
   "outputs": [],
   "source": [
    "from sklearn.cross_validation import KFold\n",
    "\n",
    "number_splits = 10\n",
    "\n",
    "kf = KFold(X.shape[0], n_folds=number_splits)"
   ]
  },
  {
   "cell_type": "code",
   "execution_count": 60,
   "metadata": {
    "collapsed": false
   },
   "outputs": [],
   "source": [
    "# choose the best value for the number of trees in the forest\n",
    "train_errors =[]\n",
    "test_errors = []\n",
    "number_estimators = range(1, 50)\n",
    "\n",
    "for nb_est in number_estimators:\n",
    "    mean_train_error = 0.0\n",
    "    mean_test_error = 0.0\n",
    "    \n",
    "    for train_index, test_index in kf:\n",
    "        X_train, X_test = X.iloc[train_index], X.iloc[test_index]\n",
    "        Y_train, Y_test = Y[train_index], Y[test_index]\n",
    "        \n",
    "        clf = RandomForestClassifier(n_estimators=nb_est, criterion='entropy')\n",
    "        clf = clf.fit(X_train, Y_train)\n",
    "        \n",
    "        train_error = 1.0 - clf.score(X_train, Y_train)\n",
    "        test_error = 1.0 - clf.score(X_test, Y_test)\n",
    "        \n",
    "        mean_train_error += train_error\n",
    "        mean_test_error += test_error\n",
    "        \n",
    "    train_errors.append(mean_train_error/number_splits)\n",
    "    test_errors.append(mean_test_error/number_splits)"
   ]
  },
  {
   "cell_type": "code",
   "execution_count": 61,
   "metadata": {
    "collapsed": false,
    "scrolled": true
   },
   "outputs": [
    {
     "data": {
      "image/png": "[encoded data removed]",
      "text/plain": [
       "<matplotlib.figure.Figure at 0x268ba9cd908>"
      ]
     },
     "metadata": {},
     "output_type": "display_data"
    }
   ],
   "source": [
    "plt.plot(number_estimators, test_errors, 'r--', number_estimators, train_errors, 'b--')\n",
    "plt.xlabel('n_estimators')\n",
    "plt.ylabel('error')\n",
    "plt.title('Training and Test Errors as a function of n_estimators')\n",
    "plt.show()"
   ]
  },
  {
   "cell_type": "code",
   "execution_count": 62,
   "metadata": {
    "collapsed": true
   },
   "outputs": [],
   "source": [
    "# choose the best value for the maximum depth of a tree (setting n_estimators to 10)\n",
    "train_errors = []\n",
    "test_errors = []\n",
    "max_depths = range(1, 20)\n",
    "\n",
    "for depth in max_depths:\n",
    "    mean_train_error = 0.0\n",
    "    mean_test_error = 0.0\n",
    "    \n",
    "    for train_index, test_index in kf:\n",
    "        X_train, X_test = X.iloc[train_index], X.iloc[test_index]\n",
    "        Y_train, Y_test = Y[train_index], Y[test_index]\n",
    "        \n",
    "        clf = RandomForestClassifier(n_estimators=10, criterion='entropy', max_depth=depth)\n",
    "        clf = clf.fit(X_train, Y_train)\n",
    "        \n",
    "        train_error = 1.0 - clf.score(X_train, Y_train)\n",
    "        test_error = 1.0 - clf.score(X_test, Y_test)\n",
    "        \n",
    "        mean_train_error += train_error\n",
    "        mean_test_error += test_error\n",
    "        \n",
    "    train_errors.append(mean_train_error/number_splits)\n",
    "    test_errors.append(mean_test_error/number_splits)"
   ]
  },
  {
   "cell_type": "code",
   "execution_count": 63,
   "metadata": {
    "collapsed": false
   },
   "outputs": [
    {
     "data": {
      "image/png": "[encoded data removed]",
      "text/plain": [
       "<matplotlib.figure.Figure at 0x268bbcc9e10>"
      ]
     },
     "metadata": {},
     "output_type": "display_data"
    }
   ],
   "source": [
    "plt.plot(max_depths, test_errors, 'r--', max_depths, train_errors, 'b--')\n",
    "plt.xlabel('max_depth')\n",
    "plt.ylabel('error')\n",
    "plt.title('Training and Test Errors as a function of max_depth')\n",
    "plt.show()"
   ]
  },
  {
   "cell_type": "markdown",
   "metadata": {},
   "source": [
    "Analysing both graphs, we decided that we should take **n_estimators=10** and **max_depth=10** to avoid overfitting."
   ]
  },
  {
   "cell_type": "markdown",
   "metadata": {},
   "source": [
    "### Analising Feature Importances"
   ]
  },
  {
   "cell_type": "code",
   "execution_count": 64,
   "metadata": {
    "collapsed": false
   },
   "outputs": [
    {
     "name": "stdout",
     "output_type": "stream",
     "text": [
      "mean accuracy: 0.88293370945\n"
     ]
    },
    {
     "data": {
      "image/png": "[encoded data removed]",
      "text/plain": [
       "<matplotlib.figure.Figure at 0x268baa5c8d0>"
      ]
     },
     "metadata": {},
     "output_type": "display_data"
    }
   ],
   "source": [
    "# build a random forest and compute the feature importances\n",
    "optimal_n_estimators = 10\n",
    "optimal_max_depth = 10\n",
    "\n",
    "clf = RandomForestClassifier(n_estimators=optimal_n_estimators, criterion='entropy', max_depth=optimal_max_depth)\n",
    "clf = clf.fit(X, Y)\n",
    "\n",
    "importances = clf.feature_importances_\n",
    "std = np.std([tree.feature_importances_ for tree in clf.estimators_], axis=0)\n",
    "indices = np.argsort(importances)[::-1]\n",
    "\n",
    "print('mean accuracy:', clf.score(X,Y))\n",
    "\n",
    "# plot the feature importances of the random forest\n",
    "plot_labels = X.columns[indices]\n",
    "\n",
    "plt.figure()\n",
    "plt.title(\"Feature importances\")\n",
    "plt.bar(range(X.shape[1]), importances[indices], color=\"r\", yerr=std[indices], align=\"center\")\n",
    "plt.xticks(range(X.shape[1]), plot_labels, rotation='vertical')\n",
    "plt.xlim([-1, X.shape[1]])\n",
    "plt.ylim([0,0.18])\n",
    "plt.show()"
   ]
  },
  {
   "cell_type": "code",
   "execution_count": 65,
   "metadata": {
    "collapsed": false
   },
   "outputs": [
    {
     "name": "stdout",
     "output_type": "stream",
     "text": [
      "mean accuracy: 0.910437235543\n"
     ]
    },
    {
     "data": {
      "image/png": "[encoded data removed]",
      "text/plain": [
       "<matplotlib.figure.Figure at 0x268ba958358>"
      ]
     },
     "metadata": {},
     "output_type": "display_data"
    }
   ],
   "source": [
    "# compute feature importances for a different set of features\n",
    "X = clean_data.drop(['skin_cat', 'raterMean', 'ties', 'games', 'defeats', 'victories',\n",
    "                     'dummyCode__Attacking Midfielder', 'dummyCode__Center Back', 'dummyCode__Center Forward',\n",
    "                     'dummyCode__Center Midfielder', 'dummyCode__Defensive Midfielder',\n",
    "                     'dummyCode__Goalkeeper', 'dummyCode__Left Fullback',\n",
    "                     'dummyCode__Left Midfielder', 'dummyCode__Left Winger',\n",
    "                     'dummyCode__Right Fullback', 'dummyCode__Right Midfielder', 'dummyCode__Right Winger'], axis=1)\n",
    "\n",
    "Y = np.asarray(clean_data['skin_cat'], dtype=\"|S6\")\n",
    "\n",
    "clf = RandomForestClassifier(n_estimators=optimal_n_estimators, criterion='entropy', max_depth=optimal_max_depth)\n",
    "clf = clf.fit(X, Y)\n",
    "\n",
    "importances = clf.feature_importances_\n",
    "std = np.std([tree.feature_importances_ for tree in clf.estimators_], axis=0)\n",
    "indices = np.argsort(importances)[::-1]\n",
    "\n",
    "print('mean accuracy:', clf.score(X,Y))\n",
    "\n",
    "# plot the feature importances of the random forest\n",
    "plot_labels = X.columns[indices]\n",
    "\n",
    "plt.figure()\n",
    "plt.title(\"Feature importances\")\n",
    "plt.bar(range(X.shape[1]), importances[indices], color=\"r\", yerr=std[indices], align=\"center\")\n",
    "plt.xticks(range(X.shape[1]), plot_labels, rotation='vertical')\n",
    "plt.xlim([-1, X.shape[1]])\n",
    "plt.show()"
   ]
  },
  {
   "cell_type": "markdown",
   "metadata": {},
   "source": [
    "### Bonus: Learning Curves"
   ]
  },
  {
   "cell_type": "code",
   "execution_count": 66,
   "metadata": {
    "collapsed": false
   },
   "outputs": [],
   "source": [
    "number_splits = 20\n",
    "\n",
    "train_errors =[]\n",
    "test_errors = []\n",
    "data_sizes = range(number_splits, X.shape[0], 20)\n",
    "\n",
    "for n in data_sizes:\n",
    "    kf = KFold(n, n_folds=number_splits)\n",
    "    \n",
    "    mean_train_error = 0.0\n",
    "    mean_test_error = 0.0\n",
    "    \n",
    "    for train_index, test_index in kf:\n",
    "        X_train, X_test = X.iloc[train_index], X.iloc[test_index]\n",
    "        Y_train, Y_test = Y[train_index], Y[test_index]\n",
    "        \n",
    "        clf = RandomForestClassifier(n_estimators=10, criterion='entropy', max_depth=10)\n",
    "        clf = clf.fit(X_train, Y_train)\n",
    "        \n",
    "        train_error = 1 - clf.score(X_train, Y_train)\n",
    "        test_error = 1 - clf.score(X_test, Y_test)\n",
    "        \n",
    "        mean_train_error += train_error\n",
    "        mean_test_error += test_error\n",
    "        \n",
    "    train_errors.append(mean_train_error/number_splits)\n",
    "    test_errors.append(mean_test_error/number_splits)"
   ]
  },
  {
   "cell_type": "code",
   "execution_count": 67,
   "metadata": {
    "collapsed": false
   },
   "outputs": [
    {
     "data": {
      "image/png": "[encoded data removed]",
      "text/plain": [
       "<matplotlib.figure.Figure at 0x268bbd6f320>"
      ]
     },
     "metadata": {},
     "output_type": "display_data"
    }
   ],
   "source": [
    "plt.plot(data_sizes, test_errors, 'r--', data_sizes, train_errors, 'b--')\n",
    "plt.xlabel('data size')\n",
    "plt.ylabel('error')\n",
    "plt.title('Training and Test Errors as a function of the data size')\n",
    "plt.show()"
   ]
  },
  {
   "cell_type": "markdown",
   "metadata": {},
   "source": [
    "By the shape of the learning curves one can say the model is overfitting (high variance). Performing crossvalidation doesn't seem to be efficient in this case. One reason might be the fact that the sub-samples are picked randomly when we have a Random Forest Classifier."
   ]
  },
  {
   "cell_type": "markdown",
   "metadata": {},
   "source": [
    "## Clustering"
   ]
  },
  {
   "cell_type": "code",
   "execution_count": 68,
   "metadata": {
    "collapsed": true
   },
   "outputs": [],
   "source": [
    "from sklearn.cluster import KMeans\n",
    "from sklearn.metrics import silhouette_score"
   ]
  },
  {
   "cell_type": "markdown",
   "metadata": {},
   "source": [
    "We now want to apply an unsupervised learning technique and cluster the players in two different clusters. We'll use K-means to do so.\n",
    "We then focus on the silhouette score and the mean accuracy of the clustering (although it is an unsupervised technique we have the true labels for the dataset) to evaluate how well the model performed.\n",
    "Not only do we take into account all the features previously used, but we also remove the features iteratively and compute the silhouette score for each new dataset."
   ]
  },
  {
   "cell_type": "code",
   "execution_count": 69,
   "metadata": {
    "collapsed": false
   },
   "outputs": [],
   "source": [
    "X = clean_data.drop(['skin_cat', 'raterMean'], axis=1)\n",
    "Y = clean_data['skin_cat']"
   ]
  },
  {
   "cell_type": "code",
   "execution_count": 70,
   "metadata": {
    "collapsed": true
   },
   "outputs": [],
   "source": [
    "# clusters the data using K-means and computes the silhouette score\n",
    "def kmeans_score(data):\n",
    "    kmean = KMeans(n_clusters=2, init='k-means++')\n",
    "    kmean.fit(data)\n",
    "    labels = kmean.labels_\n",
    "    score = silhouette_score(data, labels, metric='euclidean')\n",
    "    \n",
    "    return labels, score"
   ]
  },
  {
   "cell_type": "code",
   "execution_count": 71,
   "metadata": {
    "collapsed": true
   },
   "outputs": [],
   "source": [
    "# computes the accuracy for each clustering\n",
    "def compute_accuracy(prediction_labels, labels):\n",
    "    correct_predictions = (prediction_labels == labels).sum()\n",
    "    \n",
    "    accuracy = correct_predictions / len(labels)\n",
    "    \n",
    "    return accuracy"
   ]
  },
  {
   "cell_type": "code",
   "execution_count": 72,
   "metadata": {
    "collapsed": false
   },
   "outputs": [
    {
     "name": "stdout",
     "output_type": "stream",
     "text": [
      "silhouette without feature removal: 0.535891062512\n",
      "accuracy without feature removal: 0.593088857546\n"
     ]
    }
   ],
   "source": [
    "labels, score_before = kmeans_score(X)\n",
    "accuracy_before = compute_accuracy(labels,Y)\n",
    "\n",
    "print('silhouette without feature removal:', score_before)\n",
    "print('accuracy without feature removal:', accuracy_before)"
   ]
  },
  {
   "cell_type": "markdown",
   "metadata": {},
   "source": [
    "We get the silhouette score, the labels associated, and the accuracy of this clustering. Focusing both on the silhouette score and on the accuracy, we conclude the clustering isn't performing well, so let's now remove features iteratively.\n",
    "\n",
    "At each iteration, we remove each of the features and compute the silhouette score. We then pick the feature to remove as the one which gave a better silhouette score when not considered. In the end, we get the highest silhouette score as well as the set of features that were removed in order to obtain such a score."
   ]
  },
  {
   "cell_type": "code",
   "execution_count": 73,
   "metadata": {
    "collapsed": false
   },
   "outputs": [],
   "source": [
    "def remove_features_iteratively(data):\n",
    "    best_removed_features = []\n",
    "    removed_features = []\n",
    "    \n",
    "    stop_removing = False\n",
    "    \n",
    "    prediction_labels, best_score = kmeans_score(data)\n",
    "    best_accuracy = compute_accuracy(prediction_labels,Y)\n",
    "    \n",
    "    while(not stop_removing):\n",
    "        new_scores = {}\n",
    "        accuracies = {}\n",
    "        \n",
    "        for feature in data.columns:\n",
    "            labels, score = kmeans_score(data.drop(best_removed_features + removed_features + [feature], axis=1))\n",
    "            accuracy = compute_accuracy(labels,Y)\n",
    "            new_scores[feature] = score\n",
    "            accuracies[feature] = accuracy\n",
    "            \n",
    "        feature_to_remove = max(new_scores, key=lambda k: new_scores[k])\n",
    "        removed_features.append(feature_to_remove)\n",
    "        best_new_score = new_scores[feature_to_remove]\n",
    "            \n",
    "        if(best_score < best_new_score):\n",
    "            best_score = best_new_score\n",
    "            best_accuracy = accuracies[feature_to_remove]\n",
    "            best_removed_features.extend(removed_features)\n",
    "            removed_features = []\n",
    "            \n",
    "        if(len(data.columns) - len(removed_features) - len(best_removed_features) <= 1):\n",
    "            stop_removing = True\n",
    "            \n",
    "    return best_accuracy, best_score, best_removed_features"
   ]
  },
  {
   "cell_type": "code",
   "execution_count": 74,
   "metadata": {
    "collapsed": false
   },
   "outputs": [],
   "source": [
    "accuracy_after, best_score, removed_features = remove_features_iteratively(X)"
   ]
  },
  {
   "cell_type": "code",
   "execution_count": 75,
   "metadata": {
    "collapsed": false
   },
   "outputs": [
    {
     "name": "stdout",
     "output_type": "stream",
     "text": [
      "silhouette score after feature removal: 0.865229713377\n",
      "accuracy with feature removal: 0.705923836389\n"
     ]
    }
   ],
   "source": [
    "print('silhouette score after feature removal:', best_score)\n",
    "print('accuracy with feature removal:', accuracy_after)"
   ]
  },
  {
   "cell_type": "markdown",
   "metadata": {},
   "source": [
    "A silhouette score closer to 1 means the clusters are more sparse which should indicate a better clustering. We actually obtained a better result when we don't consider part of the features (both for the silhouette score and the mean accuracy)."
   ]
  }
 ],
 "metadata": {
  "anaconda-cloud": {},
  "kernelspec": {
   "display_name": "Python [Root]",
   "language": "python",
   "name": "Python [Root]"
  },
  "language_info": {
   "codemirror_mode": {
    "name": "ipython",
    "version": 3
   },
   "file_extension": ".py",
   "mimetype": "text/x-python",
   "name": "python",
   "nbconvert_exporter": "python",
   "pygments_lexer": "ipython3",
   "version": "3.5.2"
  }
 },
 "nbformat": 4,
 "nbformat_minor": 0
}
