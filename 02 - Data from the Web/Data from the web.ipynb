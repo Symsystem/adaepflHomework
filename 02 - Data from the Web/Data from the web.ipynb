{
 "cells": [
  {
   "cell_type": "code",
   "execution_count": 28,
   "metadata": {
    "collapsed": false
   },
   "outputs": [],
   "source": [
    "from bs4 import BeautifulSoup\n",
    "import requests\n",
    "import pandas as pd\n",
    "import numpy as np\n",
    "%matplotlib inline\n",
    "import matplotlib as plt"
   ]
  },
  {
   "cell_type": "markdown",
   "metadata": {},
   "source": [
    "# Exercise 1"
   ]
  },
  {
   "cell_type": "code",
   "execution_count": 29,
   "metadata": {
    "collapsed": false
   },
   "outputs": [],
   "source": [
    "data = []\n",
    "\n",
    "pedago_period = [249108, 942175]\n",
    "semesters = ['semester 1', 'semester 6']\n",
    "acad_period = [978181, 978187, 978195, 39486325, 123455150, 123456101, 213637754, 213637922, 213638028, 355925344]\n",
    "years = ['2007-2008','2008-2009','2009-2010', '2010-2011', '2011-2012', '2012-2013', '2013-2014', '2014-2015', '2015-2016', '2016-2017']\n",
    "\n",
    "for pedago in pedago_period:\n",
    "    for acad in acad_period:\n",
    "        payload = {'ww_x_GPS': '-1',\n",
    "                   'ww_i_reportModel': 133685247,\n",
    "                   'ww_i_reportModelXsl': 133685270,\n",
    "                   'ww_x_UNITE_ACAD': 249847,\n",
    "                   'ww_x_PERIODE_ACAD': acad,\n",
    "                   'ww_x_PERIODE_PEDAGO': pedago,\n",
    "                   'ww_x_HIVERETE': 'null'\n",
    "                  }\n",
    "        data.append(requests.get('http://isa.epfl.ch/imoniteur_ISAP/!GEDPUBLICREPORTS.html', params=payload))"
   ]
  },
  {
   "cell_type": "code",
   "execution_count": 30,
   "metadata": {
    "collapsed": false
   },
   "outputs": [],
   "source": [
    "soups = []\n",
    "for i in range(0, 20):\n",
    "    soups.append(BeautifulSoup(data[i].text, 'html.parser'))\n"
   ]
  },
  {
   "cell_type": "code",
   "execution_count": 31,
   "metadata": {
    "collapsed": false
   },
   "outputs": [
    {
     "data": {
      "text/html": [
       "<div>\n",
       "<table border=\"1\" class=\"dataframe\">\n",
       "  <thead>\n",
       "    <tr style=\"text-align: right;\">\n",
       "      <th></th>\n",
       "      <th>civilite</th>\n",
       "      <th>name</th>\n",
       "      <th>arrival year</th>\n",
       "      <th>graduation year</th>\n",
       "      <th>duration</th>\n",
       "    </tr>\n",
       "    <tr>\n",
       "      <th>sciper</th>\n",
       "      <th></th>\n",
       "      <th></th>\n",
       "      <th></th>\n",
       "      <th></th>\n",
       "      <th></th>\n",
       "    </tr>\n",
       "  </thead>\n",
       "  <tbody>\n",
       "    <tr>\n",
       "      <th>169569</th>\n",
       "      <td>Monsieur</td>\n",
       "      <td>Arévalo Christian</td>\n",
       "      <td>2007-2008</td>\n",
       "      <td>2009-2010</td>\n",
       "      <td>30</td>\n",
       "    </tr>\n",
       "    <tr>\n",
       "      <th>179449</th>\n",
       "      <td>Monsieur</td>\n",
       "      <td>Bindschaedler Vincent</td>\n",
       "      <td>2007-2008</td>\n",
       "      <td>2009-2010</td>\n",
       "      <td>30</td>\n",
       "    </tr>\n",
       "    <tr>\n",
       "      <th>178553</th>\n",
       "      <td>Monsieur</td>\n",
       "      <td>Bloch Marc-Olivier</td>\n",
       "      <td>2007-2008</td>\n",
       "      <td>2009-2010</td>\n",
       "      <td>30</td>\n",
       "    </tr>\n",
       "    <tr>\n",
       "      <th>178271</th>\n",
       "      <td>Monsieur</td>\n",
       "      <td>Boéchat Marc-Alexandre</td>\n",
       "      <td>2007-2008</td>\n",
       "      <td>2009-2010</td>\n",
       "      <td>30</td>\n",
       "    </tr>\n",
       "    <tr>\n",
       "      <th>180731</th>\n",
       "      <td>Monsieur</td>\n",
       "      <td>Bricola Jean-Charles</td>\n",
       "      <td>2007-2008</td>\n",
       "      <td>2009-2010</td>\n",
       "      <td>30</td>\n",
       "    </tr>\n",
       "  </tbody>\n",
       "</table>\n",
       "</div>"
      ],
      "text/plain": [
       "        civilite                    name arrival year graduation year  \\\n",
       "sciper                                                                  \n",
       "169569  Monsieur       Arévalo Christian    2007-2008       2009-2010   \n",
       "179449  Monsieur   Bindschaedler Vincent    2007-2008       2009-2010   \n",
       "178553  Monsieur      Bloch Marc-Olivier    2007-2008       2009-2010   \n",
       "178271  Monsieur  Boéchat Marc-Alexandre    2007-2008       2009-2010   \n",
       "180731  Monsieur    Bricola Jean-Charles    2007-2008       2009-2010   \n",
       "\n",
       "        duration  \n",
       "sciper            \n",
       "169569        30  \n",
       "179449        30  \n",
       "178553        30  \n",
       "178271        30  \n",
       "180731        30  "
      ]
     },
     "execution_count": 31,
     "metadata": {},
     "output_type": "execute_result"
    }
   ],
   "source": [
    "from math import floor\n",
    "\n",
    "students = []\n",
    "i = 0\n",
    "for fsoup in soups:\n",
    "    for tr in fsoup.html.body.hr.table.findAll('tr'):\n",
    "        tds = tr.findAll('td')\n",
    "        if (len(tds) > 0):\n",
    "            student = {'civilite': tds[0].text,\n",
    "                       'name': tds[1].text,\n",
    "                       'sciper': tds[10].text,\n",
    "                       'year': years[i%10],\n",
    "                       'semester': semesters[floor(i/10)]\n",
    "                      }\n",
    "            students.append(student)\n",
    "    i += 1\n",
    "    if (i == 10):\n",
    "        students_sem1 = pd.DataFrame(students)\n",
    "        students = []\n",
    "    elif (i == 20):\n",
    "        students_sem6 = pd.DataFrame(students)\n",
    "\n",
    "students_sem6.drop('civilite', axis=1, inplace=True)\n",
    "students_sem6.drop('name', axis=1, inplace=True)\n",
    "\n",
    "students_sem1.drop_duplicates(subset=['sciper'], keep='first', inplace=True)\n",
    "students_sem1.set_index(['sciper'], inplace=True)\n",
    "\n",
    "students_sem6.drop_duplicates(subset=['sciper'], keep='last', inplace=True)\n",
    "students_sem6.set_index(['sciper'], inplace=True)\n",
    "\n",
    "students = pd.concat([students_sem1, students_sem6], axis=1, join='inner')\n",
    "students.drop('semester', axis=1, inplace=True)\n",
    "students.columns = ['civilite', 'name', 'arrival year', 'graduation year']\n",
    "\n",
    "students['duration'] = [int(dep.split(\"-\")[1]) - int(arr.split(\"-\")[0]) for arr, dep in students[['arrival year', 'graduation year']].values]\n",
    "students['duration'] *= 10\n",
    "\n",
    "students.head()"
   ]
  },
  {
   "cell_type": "code",
   "execution_count": 32,
   "metadata": {
    "collapsed": false
   },
   "outputs": [
    {
     "data": {
      "text/plain": [
       "Madame      0.073048\n",
       "Monsieur    0.926952\n",
       "Name: civilite, dtype: float64"
      ]
     },
     "execution_count": 32,
     "metadata": {},
     "output_type": "execute_result"
    }
   ],
   "source": [
    "students.sort_values('civilite', ascending=1)\n",
    "students['civilite'].value_counts(normalize=True, sort=True, ascending=True)"
   ]
  },
  {
   "cell_type": "markdown",
   "metadata": {},
   "source": [
    "As we can notice (even in master) there is a huge minority of women in computer science "
   ]
  },
  {
   "cell_type": "code",
   "execution_count": 33,
   "metadata": {
    "collapsed": false
   },
   "outputs": [
    {
     "data": {
      "text/plain": [
       "<matplotlib.axes._subplots.AxesSubplot at 0x252b9f3e748>"
      ]
     },
     "execution_count": 33,
     "metadata": {},
     "output_type": "execute_result"
    },
    {
     "data": {
      "image/png": "[encoded data removed]",
      "text/plain": [
       "<matplotlib.figure.Figure at 0x252b9ebfd30>"
      ]
     },
     "metadata": {},
     "output_type": "display_data"
    }
   ],
   "source": [
    "students['duration'].plot(kind ='hist')"
   ]
  },
  {
   "cell_type": "code",
   "execution_count": 34,
   "metadata": {
    "collapsed": false
   },
   "outputs": [],
   "source": [
    "averageDuration_students_femal = students[students['civilite']== 'Madame']['duration'].mean()\n",
    "averageDuration_students_mal = students[students['civilite']== 'Monsieur']['duration'].mean()"
   ]
  },
  {
   "cell_type": "code",
   "execution_count": 42,
   "metadata": {
    "collapsed": false
   },
   "outputs": [
    {
     "data": {
      "text/plain": [
       "(397, 6)"
      ]
     },
     "execution_count": 42,
     "metadata": {},
     "output_type": "execute_result"
    }
   ],
   "source": [
    "students['sex'] = (students['civilite'] == 'Monsieur').astype(int)"
   ]
  },
  {
   "cell_type": "code",
   "execution_count": 48,
   "metadata": {
    "collapsed": false
   },
   "outputs": [
    {
     "name": "stdout",
     "output_type": "stream",
     "text": [
      "p-value is  :  1.0\n"
     ]
    }
   ],
   "source": [
    "import scipy.stats \n",
    "obs = np.array([students['sex'], students['duration']])\n",
    "g, p, dof, expctd = scipy.stats.chi2_contingency(obs)\n",
    "print('p-value is  : ' , p)"
   ]
  },
  {
   "cell_type": "markdown",
   "metadata": {},
   "source": [
    "As expected, given the high p-value, the test result does not detect a significant relationship between the variables."
   ]
  },
  {
   "cell_type": "markdown",
   "metadata": {},
   "source": [
    "# Exercise 2"
   ]
  },
  {
   "cell_type": "code",
   "execution_count": null,
   "metadata": {
    "collapsed": true
   },
   "outputs": [],
   "source": [
    "# define the parameters :\n",
    "#TODO : import datas, each year, each semester\n",
    "# Idea join by sciper : without inner :/\n",
    "data = []\n",
    "semester =\n",
    "semester_index = ['master 1', 'master 2', 'master 3 ', 'master 4','master project autumn','master project spring']\n",
    "\n",
    "acad_period = []\n",
    "acad_period_index =  ['2007-2008','2008-2009','2009-2010', '2010-2011', '2011-2012', '2012-2013', \n",
    "                      '2013-2014', '2014-2015', '2015-2016', '2016-2017']\n",
    "\n",
    "\n",
    "for acad in acad_period :\n",
    "    for sem in semester : \n",
    "        payload = {'ww_x_GPS': '-1',\n",
    "                   'ww_i_reportModel': 133685247,\n",
    "                   'ww_i_reportModelXsl': 133685270,\n",
    "                   'ww_x_UNITE_ACAD': 249847,\n",
    "                   'ww_x_PERIODE_ACAD': acad,\n",
    "                   'ww_x_PERIODE_PEDAGO': sem,\n",
    "                   'ww_x_HIVERETE': 'null'\n",
    "                  }\n",
    "\n",
    "        data.append(requests.get('http://isa.epfl.ch/imoniteur_ISAP/!GEDPUBLICREPORTS.html', params=payload))\n",
    "\n"
   ]
  }
 ],
 "metadata": {
  "anaconda-cloud": {},
  "kernelspec": {
   "display_name": "Python [Root]",
   "language": "python",
   "name": "Python [Root]"
  },
  "language_info": {
   "codemirror_mode": {
    "name": "ipython",
    "version": 3
   },
   "file_extension": ".py",
   "mimetype": "text/x-python",
   "name": "python",
   "nbconvert_exporter": "python",
   "pygments_lexer": "ipython3",
   "version": "3.5.2"
  }
 },
 "nbformat": 4,
 "nbformat_minor": 0
}
