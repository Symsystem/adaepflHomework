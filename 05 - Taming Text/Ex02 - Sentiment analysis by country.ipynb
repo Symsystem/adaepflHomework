{
 "cells": [
  {
   "cell_type": "markdown",
   "metadata": {},
   "source": [
    "## Exercise 2"
   ]
  },
  {
   "cell_type": "code",
   "execution_count": 199,
   "metadata": {
    "collapsed": false
   },
   "outputs": [],
   "source": [
    "%matplotlib inline\n",
    "import pycountry\n",
    "import pandas as pd\n",
    "import numpy as np\n",
    "import seaborn as sns\n",
    "from nltk.corpus import stopwords\n",
    "from nltk.tokenize import regexp_tokenize\n",
    "from nltk.sentiment.vader import SentimentIntensityAnalyzer\n",
    "import matplotlib.pyplot as plt"
   ]
  },
  {
   "cell_type": "code",
   "execution_count": 213,
   "metadata": {
    "collapsed": false
   },
   "outputs": [],
   "source": [
    "path_emails = 'hillary-clinton-emails/Emails.csv'\n",
    "\n",
    "emails = pd.read_csv(path_emails, usecols=['ExtractedSubject','ExtractedBodyText'])\n",
    "emails.fillna(' ', inplace=True)\n",
    "emails['subject_body'] = emails['ExtractedSubject'] + ' ' + emails['ExtractedBodyText']\n",
    "emails_raw = np.asarray(emails['subject_body'])\n",
    "\n",
    "email_tokens = []\n",
    "\n",
    "for email in emails_raw:\n",
    "    email_tokens.append(regexp_tokenize(email, pattern='\\w+'))\n",
    "    \n",
    "stop_words = set(stopwords.words('english'))\n",
    "stopwords_emails = ['fm', 'am', 'pm', 'n\\'t', 'sent', 'from', 'to', 'subject', 'fw', 'fwd', 'fvv', 'cc', 'bcc', 'attachments', 're', 'date', 'html', 'php']\n",
    "stop_words.update(stopwords_emails)\n",
    "\n",
    "email_clean_tokens = []\n",
    "\n",
    "# remove stopwords and numbers\n",
    "for email in email_tokens:\n",
    "    clean_tokens = [token for token in email if token.lower() not in stop_words and token.isdigit() == False]\n",
    "    email_clean_tokens.append(clean_tokens)"
   ]
  },
  {
   "cell_type": "code",
   "execution_count": 214,
   "metadata": {
    "collapsed": false
   },
   "outputs": [],
   "source": [
    "def get_countries(email_tokens, df):\n",
    "    countries = dict()\n",
    "    for token in email_tokens:\n",
    "        for country in pycountry.countries:\n",
    "            if (token.lower() == country.name.lower()\n",
    "               or token == country.alpha_2\n",
    "               or token == country.alpha_3):\n",
    "                if (country.name in countries):\n",
    "                    countries[country.name] += 1\n",
    "                else:\n",
    "                    countries[country.name] = 1\n",
    "                df.set_value(country.name, 'number occurences', df.get_value(country.name, 'number occurences') + 1)\n",
    "        if (token.lower() == 'syria'):\n",
    "            if ('Syria' in countries):\n",
    "                countries['Syria'] += 1\n",
    "            else:\n",
    "                countries['Syria'] = 1\n",
    "            df.set_value('Syria', 'number occurences', df.get_value('Syria', 'number occurences') + 1)\n",
    "    return countries"
   ]
  },
  {
   "cell_type": "code",
   "execution_count": 215,
   "metadata": {
    "collapsed": false
   },
   "outputs": [
    {
     "data": {
      "text/html": [
       "<div>\n",
       "<table border=\"1\" class=\"dataframe\">\n",
       "  <thead>\n",
       "    <tr style=\"text-align: right;\">\n",
       "      <th></th>\n",
       "      <th>number occurences</th>\n",
       "      <th>polarity sentiment</th>\n",
       "    </tr>\n",
       "  </thead>\n",
       "  <tbody>\n",
       "    <tr>\n",
       "      <th>Syria</th>\n",
       "      <td>0.0</td>\n",
       "      <td>0.0</td>\n",
       "    </tr>\n",
       "    <tr>\n",
       "      <th>Aruba</th>\n",
       "      <td>0.0</td>\n",
       "      <td>0.0</td>\n",
       "    </tr>\n",
       "    <tr>\n",
       "      <th>Afghanistan</th>\n",
       "      <td>0.0</td>\n",
       "      <td>0.0</td>\n",
       "    </tr>\n",
       "    <tr>\n",
       "      <th>Angola</th>\n",
       "      <td>0.0</td>\n",
       "      <td>0.0</td>\n",
       "    </tr>\n",
       "    <tr>\n",
       "      <th>Anguilla</th>\n",
       "      <td>0.0</td>\n",
       "      <td>0.0</td>\n",
       "    </tr>\n",
       "  </tbody>\n",
       "</table>\n",
       "</div>"
      ],
      "text/plain": [
       "             number occurences  polarity sentiment\n",
       "Syria                      0.0                 0.0\n",
       "Aruba                      0.0                 0.0\n",
       "Afghanistan                0.0                 0.0\n",
       "Angola                     0.0                 0.0\n",
       "Anguilla                   0.0                 0.0"
      ]
     },
     "execution_count": 215,
     "metadata": {},
     "output_type": "execute_result"
    }
   ],
   "source": [
    "countries = ['Syria']\n",
    "for country in pycountry.countries:\n",
    "    countries.append(country.name)\n",
    "    \n",
    "df = pd.DataFrame(index=countries, columns=['number occurences', 'polarity sentiment'])\n",
    "df.fillna(0.0, inplace=True)\n",
    "df.head()"
   ]
  },
  {
   "cell_type": "code",
   "execution_count": 216,
   "metadata": {
    "collapsed": false
   },
   "outputs": [],
   "source": [
    "all_countries = []\n",
    "for email in email_clean_tokens[:1000]:\n",
    "    all_countries.append(get_countries(email, df))\n"
   ]
  },
  {
   "cell_type": "code",
   "execution_count": 217,
   "metadata": {
    "collapsed": false,
    "scrolled": true
   },
   "outputs": [],
   "source": [
    "##### JUST RUN ONCE ######\n",
    "# import nltk\n",
    "# nltk.download('vader_lexicon')\n",
    "\n",
    "all_sentiments = []\n",
    "sia = SentimentIntensityAnalyzer()\n",
    "for i in range(1000):\n",
    "    sentiment = sia.polarity_scores(emails_raw[i])['compound']\n",
    "    for country in all_countries[i].keys():\n",
    "        df.set_value(country, 'polarity sentiment', df.get_value(country, 'polarity sentiment') + sentiment * all_countries[i][country])\n",
    "    all_sentiments.append(sentiment)"
   ]
  },
  {
   "cell_type": "code",
   "execution_count": 218,
   "metadata": {
    "collapsed": false,
    "scrolled": true
   },
   "outputs": [
    {
     "data": {
      "text/html": [
       "<div>\n",
       "<table border=\"1\" class=\"dataframe\">\n",
       "  <thead>\n",
       "    <tr style=\"text-align: right;\">\n",
       "      <th></th>\n",
       "      <th>number occurences</th>\n",
       "      <th>polarity sentiment</th>\n",
       "      <th>polarity level</th>\n",
       "    </tr>\n",
       "  </thead>\n",
       "  <tbody>\n",
       "    <tr>\n",
       "      <th>United States</th>\n",
       "      <td>20.0</td>\n",
       "      <td>-1.0434</td>\n",
       "      <td>-0.052170</td>\n",
       "    </tr>\n",
       "    <tr>\n",
       "      <th>Antarctica</th>\n",
       "      <td>10.0</td>\n",
       "      <td>0.2637</td>\n",
       "      <td>0.026370</td>\n",
       "    </tr>\n",
       "    <tr>\n",
       "      <th>Syria</th>\n",
       "      <td>14.0</td>\n",
       "      <td>0.9488</td>\n",
       "      <td>0.067771</td>\n",
       "    </tr>\n",
       "    <tr>\n",
       "      <th>Egypt</th>\n",
       "      <td>34.0</td>\n",
       "      <td>3.0652</td>\n",
       "      <td>0.090153</td>\n",
       "    </tr>\n",
       "    <tr>\n",
       "      <th>Libya</th>\n",
       "      <td>211.0</td>\n",
       "      <td>29.6903</td>\n",
       "      <td>0.140712</td>\n",
       "    </tr>\n",
       "    <tr>\n",
       "      <th>Honduras</th>\n",
       "      <td>11.0</td>\n",
       "      <td>1.8505</td>\n",
       "      <td>0.168227</td>\n",
       "    </tr>\n",
       "    <tr>\n",
       "      <th>Afghanistan</th>\n",
       "      <td>17.0</td>\n",
       "      <td>4.9606</td>\n",
       "      <td>0.291800</td>\n",
       "    </tr>\n",
       "    <tr>\n",
       "      <th>Iraq</th>\n",
       "      <td>12.0</td>\n",
       "      <td>4.2531</td>\n",
       "      <td>0.354425</td>\n",
       "    </tr>\n",
       "    <tr>\n",
       "      <th>Israel</th>\n",
       "      <td>13.0</td>\n",
       "      <td>10.1762</td>\n",
       "      <td>0.782785</td>\n",
       "    </tr>\n",
       "    <tr>\n",
       "      <th>Morocco</th>\n",
       "      <td>35.0</td>\n",
       "      <td>27.8838</td>\n",
       "      <td>0.796680</td>\n",
       "    </tr>\n",
       "    <tr>\n",
       "      <th>Tunisia</th>\n",
       "      <td>15.0</td>\n",
       "      <td>12.5194</td>\n",
       "      <td>0.834627</td>\n",
       "    </tr>\n",
       "    <tr>\n",
       "      <th>Mexico</th>\n",
       "      <td>10.0</td>\n",
       "      <td>9.0000</td>\n",
       "      <td>0.900000</td>\n",
       "    </tr>\n",
       "    <tr>\n",
       "      <th>Indonesia</th>\n",
       "      <td>30.0</td>\n",
       "      <td>27.1433</td>\n",
       "      <td>0.904777</td>\n",
       "    </tr>\n",
       "    <tr>\n",
       "      <th>Pakistan</th>\n",
       "      <td>20.0</td>\n",
       "      <td>19.2770</td>\n",
       "      <td>0.963850</td>\n",
       "    </tr>\n",
       "  </tbody>\n",
       "</table>\n",
       "</div>"
      ],
      "text/plain": [
       "               number occurences  polarity sentiment  polarity level\n",
       "United States               20.0             -1.0434       -0.052170\n",
       "Antarctica                  10.0              0.2637        0.026370\n",
       "Syria                       14.0              0.9488        0.067771\n",
       "Egypt                       34.0              3.0652        0.090153\n",
       "Libya                      211.0             29.6903        0.140712\n",
       "Honduras                    11.0              1.8505        0.168227\n",
       "Afghanistan                 17.0              4.9606        0.291800\n",
       "Iraq                        12.0              4.2531        0.354425\n",
       "Israel                      13.0             10.1762        0.782785\n",
       "Morocco                     35.0             27.8838        0.796680\n",
       "Tunisia                     15.0             12.5194        0.834627\n",
       "Mexico                      10.0              9.0000        0.900000\n",
       "Indonesia                   30.0             27.1433        0.904777\n",
       "Pakistan                    20.0             19.2770        0.963850"
      ]
     },
     "execution_count": 218,
     "metadata": {},
     "output_type": "execute_result"
    }
   ],
   "source": [
    "df = df.loc[df['number occurences'] >= 10.0]\n",
    "\n",
    "df['polarity level'] = df['polarity sentiment'] / df['number occurences']\n",
    "df.sort_values(['polarity level'], inplace=True)\n",
    "df"
   ]
  },
  {
   "cell_type": "code",
   "execution_count": 219,
   "metadata": {
    "collapsed": false
   },
   "outputs": [
    {
     "data": {
      "image/png": "[encoded data removed]",
      "text/plain": [
       "<matplotlib.figure.Figure at 0x1120e64e0>"
      ]
     },
     "metadata": {},
     "output_type": "display_data"
    }
   ],
   "source": [
    "plt.xticks(rotation=90)\n",
    "graph = sns.barplot(x=df.index, y=df['polarity level'], palette='RdYlGn')"
   ]
  }
 ],
 "metadata": {
  "anaconda-cloud": {},
  "kernelspec": {
   "display_name": "Python [Root]",
   "language": "python",
   "name": "Python [Root]"
  },
  "language_info": {
   "codemirror_mode": {
    "name": "ipython",
    "version": 3
   },
   "file_extension": ".py",
   "mimetype": "text/x-python",
   "name": "python",
   "nbconvert_exporter": "python",
   "pygments_lexer": "ipython3",
   "version": "3.5.2"
  }
 },
 "nbformat": 4,
 "nbformat_minor": 0
}
