{
 "cells": [
  {
   "cell_type": "markdown",
   "metadata": {},
   "source": [
    "# 05 - Topic Modeling - Exercise 3"
   ]
  },
  {
   "cell_type": "code",
   "execution_count": 2,
   "metadata": {
    "collapsed": false
   },
   "outputs": [
    {
     "ename": "ImportError",
     "evalue": "No module named 'gensim'",
     "output_type": "error",
     "traceback": [
      "\u001b[0;31m---------------------------------------------------------------------------\u001b[0m",
      "\u001b[0;31mImportError\u001b[0m                               Traceback (most recent call last)",
      "\u001b[0;32m<ipython-input-2-b01ad1b05d16>\u001b[0m in \u001b[0;36m<module>\u001b[0;34m()\u001b[0m\n\u001b[1;32m      1\u001b[0m \u001b[1;32mimport\u001b[0m \u001b[0mpandas\u001b[0m \u001b[1;32mas\u001b[0m \u001b[0mpd\u001b[0m\u001b[1;33m\u001b[0m\u001b[0m\n\u001b[1;32m      2\u001b[0m \u001b[1;32mimport\u001b[0m \u001b[0mnumpy\u001b[0m \u001b[1;32mas\u001b[0m \u001b[0mnp\u001b[0m\u001b[1;33m\u001b[0m\u001b[0m\n\u001b[0;32m----> 3\u001b[0;31m \u001b[1;32mimport\u001b[0m \u001b[0mgensim\u001b[0m\u001b[1;33m\u001b[0m\u001b[0m\n\u001b[0m",
      "\u001b[0;31mImportError\u001b[0m: No module named 'gensim'"
     ]
    }
   ],
   "source": [
    "import pandas as pd\n",
    "import numpy as np\n",
    "import gensim"
   ]
  },
  {
   "cell_type": "code",
   "execution_count": null,
   "metadata": {
    "collapsed": false
   },
   "outputs": [],
   "source": [
    "### ONLY RUN ONCE ####\n",
    "# import nltk\n",
    "# nltk.download('wordnet')"
   ]
  },
  {
   "cell_type": "code",
   "execution_count": null,
   "metadata": {
    "collapsed": false
   },
   "outputs": [],
   "source": [
    "from nltk.tokenize import regexp_tokenize\n",
    "from nltk.corpus import stopwords\n",
    "# from nltk.stem import PorterStemmer\n",
    "from nltk.stem import WordNetLemmatizer\n",
    "\n",
    "# create DataFrame\n",
    "path_emails = 'hillary-clinton-emails/Emails.csv'\n",
    "emails = pd.read_csv(path_emails, usecols = ['SenderPersonId', 'ExtractedSubject', 'ExtractedBodyText'])\n",
    "\n",
    "# drop records where both ExtractedSubject and ExtractedBodyText are NaN\n",
    "emails.dropna(axis=0, thresh=2, subset=[['ExtractedSubject', 'ExtractedBodyText']], inplace=True)\n",
    "emails.fillna(' ', inplace = True)\n",
    "\n",
    "# group emails by sender\n",
    "emails_raw = []\n",
    "\n",
    "for sender in emails.groupby('SenderPersonId'):\n",
    "    grouped_emails = ''\n",
    "    \n",
    "    for subject, body in zip(sender[1]['ExtractedSubject'], sender[1]['ExtractedBodyText']):\n",
    "        grouped_emails += (subject + ' ' + body + ' ')\n",
    "    \n",
    "    emails_raw.append(grouped_emails)\n",
    "\n",
    "# tokenization\n",
    "email_tokens = []\n",
    "\n",
    "for email in emails_raw:\n",
    "    email_tokens.append(regexp_tokenize(email, pattern='\\w+'))\n",
    "\n",
    "# remove stopwords and digits/numbers\n",
    "stop_words = set(stopwords.words('english'))\n",
    "stopwords_emails = ['fyi', 'fm', 'am', 'pm', 'n\\'t', 'sent', 'from', 'to', 'subject', 'fw', 'fwd', 'fvv',\n",
    "                    'cc', 'bcc', 'attachments', 're', 'date', 'html', 'php']\n",
    "stop_words.update(stopwords_emails)\n",
    "\n",
    "email_clean_tokens = []\n",
    "\n",
    "for email in email_tokens:\n",
    "    clean_tokens = [token for token in email if token.lower() not in stop_words and token.isdigit() == False]\n",
    "    email_clean_tokens.append(clean_tokens)\n",
    "\n",
    "# lemmatization\n",
    "# stemmer = PorterStemmer()\n",
    "wnl = WordNetLemmatizer()\n",
    "\n",
    "email_lemma = []\n",
    "\n",
    "for email in email_clean_tokens:\n",
    "    lemma = [wnl.lemmatize(token.lower()) for token in email]\n",
    "    email_lemma.append(lemma)\n",
    "    \n",
    "# remove tokens that are too small\n",
    "email_clean = []\n",
    "\n",
    "for email in email_lemma:\n",
    "    clean = [token for token in email if len(token) > 1]\n",
    "    email_clean.append(clean)"
   ]
  },
  {
   "cell_type": "code",
   "execution_count": null,
   "metadata": {
    "collapsed": false
   },
   "outputs": [],
   "source": [
    "dictionary = gensim.corpora.Dictionary(email_clean)\n",
    "corpus = [dictionary.doc2bow(email) for email in email_clean]"
   ]
  },
  {
   "cell_type": "code",
   "execution_count": null,
   "metadata": {
    "collapsed": false,
    "scrolled": true
   },
   "outputs": [],
   "source": [
    "number_topics = [5, 10, 15, 20, 25, 30, 35, 40, 45, 50]\n",
    "\n",
    "for n in number_topics:\n",
    "    lda_model = gensim.models.ldamodel.LdaModel(corpus, num_topics=n, id2word=dictionary, passes=10)\n",
    "   \n",
    "    print('#### Model with', n, 'topics ####')\n",
    "   \n",
    "    topic_id = 1\n",
    "   \n",
    "    for topic in lda_model.show_topics(num_topics=n, num_words=10, log=False, formatted=False):\n",
    "        \n",
    "        string_words = ''\n",
    "        \n",
    "        for word in topic[1]:\n",
    "            string_words += (word[0] + ' ')\n",
    "        \n",
    "        print('topic #', topic_id, ':', string_words)\n",
    "\n",
    "        topic_id += 1"
   ]
  },
  {
   "cell_type": "code",
   "execution_count": null,
   "metadata": {
    "collapsed": true
   },
   "outputs": [],
   "source": [
    "edges = []\n",
    "for index, row in emails.iterrows():\n",
    "    emailId, senderId = row[['Id', 'SenderPersonId']]\n",
    "    \n",
    "    receiversId = []\n",
    "    for index, row in df_emails_receivers[df_emails_receivers['EmailId'] == emailId].iterrows():\n",
    "        receiversId.append(df_aliases[df_aliases['PersonId'] == row['PersonId']]['PersonId'].iloc[0])\n",
    "    if(np.isnan(senderId)):\n",
    "        senderId = -1\n",
    "        \n",
    "    edges.append(((int)(senderId), receiversId))\n",
    "edges"
   ]
  }
 ],
 "metadata": {
  "anaconda-cloud": {},
  "kernelspec": {
   "display_name": "Python [conda root]",
   "language": "python",
   "name": "conda-root-py"
  },
  "language_info": {
   "codemirror_mode": {
    "name": "ipython",
    "version": 3
   },
   "file_extension": ".py",
   "mimetype": "text/x-python",
   "name": "python",
   "nbconvert_exporter": "python",
   "pygments_lexer": "ipython3",
   "version": "3.5.2"
  }
 },
 "nbformat": 4,
 "nbformat_minor": 0
}
