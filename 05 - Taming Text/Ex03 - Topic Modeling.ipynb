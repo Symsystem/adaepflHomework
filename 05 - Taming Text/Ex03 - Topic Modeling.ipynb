{
 "cells": [
  {
   "cell_type": "markdown",
   "metadata": {},
   "source": [
    "# Topic Modeling"
   ]
  },
  {
   "cell_type": "code",
   "execution_count": 19,
   "metadata": {
    "collapsed": false
   },
   "outputs": [],
   "source": [
    "import pandas as pd\n",
    "import numpy as np\n",
    "import gensim"
   ]
  },
  {
   "cell_type": "code",
   "execution_count": 20,
   "metadata": {
    "collapsed": false
   },
   "outputs": [],
   "source": [
    "### ONLY RUN ONCE ####\n",
    "# import nltk\n",
    "# nltk.download('wordnet')"
   ]
  },
  {
   "cell_type": "code",
   "execution_count": 21,
   "metadata": {
    "collapsed": false
   },
   "outputs": [],
   "source": [
    "from nltk.tokenize import regexp_tokenize\n",
    "from nltk.corpus import stopwords\n",
    "# from nltk.stem import PorterStemmer\n",
    "from nltk.stem import WordNetLemmatizer\n",
    "\n",
    "path_emails = 'hillary-clinton-emails/Emails.csv'\n",
    "\n",
    "emails = pd.read_csv(path_emails, usecols = ['SenderPersonId', 'ExtractedSubject', 'ExtractedBodyText'])\n",
    "emails.fillna(' ', inplace = True)\n",
    "emails['subject_body'] = emails['ExtractedSubject'] + ' ' + emails['ExtractedBodyText']\n",
    "emails_raw = np.asarray(emails['subject_body'])\n",
    "\n",
    "# tokenization\n",
    "email_tokens = []\n",
    "\n",
    "for email in emails_raw:\n",
    "    email_tokens.append(regexp_tokenize(email, pattern='\\w+'))\n",
    "\n",
    "# remove stopwords and digits/numbers\n",
    "stop_words = set(stopwords.words('english'))\n",
    "stopwords_emails = ['fyi', 'fm', 'am', 'pm', 'n\\'t', 'sent', 'from', 'to', 'subject', 'fw', 'fwd', 'fvv',\n",
    "                    'cc', 'bcc', 'attachments', 're', 'date', 'html', 'php']\n",
    "stop_words.update(stopwords_emails)\n",
    "\n",
    "email_clean_tokens = []\n",
    "\n",
    "for email in email_tokens:\n",
    "    clean_tokens = [token for token in email if token.lower() not in stop_words and token.isdigit() == False]\n",
    "    email_clean_tokens.append(clean_tokens)\n",
    "\n",
    "# lemmatization\n",
    "# stemmer = PorterStemmer()\n",
    "wnl = WordNetLemmatizer()\n",
    "\n",
    "email_lemma = []\n",
    "\n",
    "for email in email_clean_tokens:\n",
    "    lemma = [wnl.lemmatize(token.lower()) for token in email]\n",
    "    email_lemma.append(lemma)\n",
    "    \n",
    "# remove tokens that are too small\n",
    "email_clean = []\n",
    "\n",
    "for email in email_lemma:\n",
    "    clean = [token for token in email if len(token) > 1]\n",
    "    email_clean.append(clean)"
   ]
  },
  {
   "cell_type": "code",
   "execution_count": 22,
   "metadata": {
    "collapsed": false
   },
   "outputs": [],
   "source": [
    "dictionary = gensim.corpora.Dictionary(email_clean)\n",
    "corpus = [dictionary.doc2bow(email) for email in email_clean]"
   ]
  },
  {
   "cell_type": "code",
   "execution_count": 23,
   "metadata": {
    "collapsed": false
   },
   "outputs": [
    {
     "name": "stdout",
     "output_type": "stream",
     "text": [
      "#### Model with 5 topics ####\n",
      "topic # 1 : see good work get think know haiti speech also would \n",
      "topic # 2 : obama state said would american one president government new year \n",
      "topic # 3 : call state gov tomorrow talk b6 cheryl ok huma today \n",
      "topic # 4 : secretary office state department meeting room arrive route en depart \n",
      "topic # 5 : party election vote sid percent republican conservative reuters poll voter \n",
      "#### Model with 10 topics ####\n",
      "topic # 1 : state woman people government united work security country effort world \n",
      "topic # 2 : call tomorrow talk get see know want today back would \n",
      "topic # 3 : state b6 doc benghazi information case department agreement part dept \n",
      "topic # 4 : china chinese india eu europe year branch blair wjc would \n",
      "topic # 5 : office secretary meeting room state department arrive route en depart \n",
      "topic # 6 : ireland northern uup robinson book dup sbwhoeop unionist website kurt \n",
      "topic # 7 : right ap tea american beck reuters iran party israeli skousen \n",
      "topic # 8 : call ok list secretary statement qddr new sheet confirmed treaty \n",
      "topic # 9 : obama said president would one new american time republican party \n",
      "topic # 10 : state gov cheryl mill com clintonemail huma abedin sullivan sid \n"
     ]
    }
   ],
   "source": [
    "# number_topics = [5, 10, 15, 20, 25, 30, 35, 40, 45, 50]\n",
    "number_topics = [5, 10]\n",
    "\n",
    "for n in number_topics:\n",
    "    lda_model = gensim.models.ldamodel.LdaModel(corpus, num_topics=n, id2word=dictionary, passes=10)\n",
    "   \n",
    "    print('#### Model with', n, 'topics ####')\n",
    "   \n",
    "    topic_id = 1\n",
    "   \n",
    "    for topic in lda_model.show_topics(num_topics=n, num_words=10, log=False, formatted=False):\n",
    "        \n",
    "        string_words = ''\n",
    "        \n",
    "        for word in topic[1]:\n",
    "            string_words += (word[0] + ' ')\n",
    "        \n",
    "        print('topic #', topic_id, ':', string_words)\n",
    "\n",
    "        topic_id += 1"
   ]
  }
 ],
 "metadata": {
  "anaconda-cloud": {},
  "kernelspec": {
   "display_name": "Python [Root]",
   "language": "python",
   "name": "Python [Root]"
  },
  "language_info": {
   "codemirror_mode": {
    "name": "ipython",
    "version": 3
   },
   "file_extension": ".py",
   "mimetype": "text/x-python",
   "name": "python",
   "nbconvert_exporter": "python",
   "pygments_lexer": "ipython3",
   "version": "3.5.2"
  }
 },
 "nbformat": 4,
 "nbformat_minor": 0
}
