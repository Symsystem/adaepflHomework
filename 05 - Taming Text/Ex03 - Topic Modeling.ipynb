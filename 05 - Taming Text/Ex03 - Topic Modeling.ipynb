{
 "cells": [
  {
   "cell_type": "code",
   "execution_count": 1,
   "metadata": {
    "collapsed": false
   },
   "outputs": [
    {
     "name": "stderr",
     "output_type": "stream",
     "text": [
      "/Users/Sym/anaconda/lib/python3.5/site-packages/gensim/utils.py:1015: UserWarning: Pattern library is not installed, lemmatization won't be available.\n",
      "  warnings.warn(\"Pattern library is not installed, lemmatization won't be available.\")\n"
     ]
    }
   ],
   "source": [
    "import pandas as pd\n",
    "import numpy as np\n",
    "import gensim"
   ]
  },
  {
   "cell_type": "code",
   "execution_count": 4,
   "metadata": {
    "collapsed": false
   },
   "outputs": [
    {
     "name": "stdout",
     "output_type": "stream",
     "text": [
      "SenderPersonId        157\n",
      "ExtractedSubject     1685\n",
      "ExtractedBodyText    1203\n",
      "dtype: int64\n"
     ]
    }
   ],
   "source": [
    "from nltk.tokenize import regexp_tokenize\n",
    "from nltk.corpus import stopwords\n",
    "from nltk.stem import PorterStemmer\n",
    "\n",
    "path_emails = 'hillary-clinton-emails/Emails.csv'\n",
    "\n",
    "emails = pd.read_csv(path_emails, usecols = ['ExtractedSubject', 'ExtractedBodyText', 'SenderPersonId'])\n",
    "emails.fillna(' ', inplace = True)\n",
    "emails['subject_body'] = emails['ExtractedSubject'] + ' ' + emails['ExtractedBodyText']\n",
    "emails_raw = np.asarray(emails['subject_body'])\n",
    "\n",
    "email_tokens = []\n",
    "\n",
    "for email in emails_raw:\n",
    "    email_tokens.append(regexp_tokenize(email, pattern='\\w+'))\n",
    "\n",
    "stop_words = set(stopwords.words('english'))\n",
    "stopwords_emails = ['fm', 'am', 'pm', 'n\\'t', 'sent', 'from', 'to', 'subject', 'fw', 'fwd', 'fvv', 'cc', 'bcc', 'attachments', 're', 'date', 'html', 'php']\n",
    "stop_words.update(stopwords_emails)\n",
    "\n",
    "email_clean_tokens = []\n",
    "\n",
    "# remove stopwords and numbers\n",
    "for email in email_tokens:\n",
    "    clean_tokens = [token for token in email if token.lower() not in stop_words and token.isdigit() == False]\n",
    "    email_clean_tokens.append(clean_tokens)\n",
    "\n",
    "stemmer = PorterStemmer()\n",
    "\n",
    "email_clean = []\n",
    "\n",
    "for email in email_clean_tokens:\n",
    "    clean = [stemmer.stem(token.lower()) for token in email]\n",
    "    email_clean.append(clean)"
   ]
  },
  {
   "cell_type": "code",
   "execution_count": 7,
   "metadata": {
    "collapsed": true
   },
   "outputs": [],
   "source": [
    "dictionary = gensim.corpora.Dictionary(email_clean)\n",
    "corpus = [dictionary.doc2bow(email) for email in email_clean]"
   ]
  },
  {
   "cell_type": "code",
   "execution_count": 8,
   "metadata": {
    "collapsed": false
   },
   "outputs": [],
   "source": [
    "number_topics = [5, 10, 15, 20, 25, 30, 35, 40, 45, 50]\n",
    "\n",
    "for n in number_topics:\n",
    "    lda_model = gensim.models.ldamodel.LdaModel(corpus, num_topics=n, id2word=dictionary, passes=10)\n",
    "   \n",
    "    print('Model with', n, 'topics\\n')\n",
    "   \n",
    "    topic_id = 1\n",
    "   \n",
    "    for topic in lda_model.show_topics(num_topics=n, num_words=10, log=False, formatted=False):\n",
    "        print('topic #', topic_id)\n",
    "        print(topic)\n",
    "        #for prob, word_id in topic:\n",
    "            #print(dictionary[word_id])\n",
    "        #topic_id += 1"
   ]
  },
  {
   "cell_type": "code",
   "execution_count": 11,
   "metadata": {
    "collapsed": false
   },
   "outputs": [
    {
     "name": "stdout",
     "output_type": "stream",
     "text": [
      "LdaModel(num_terms=19547, num_topics=50, decay=0.5, chunksize=2000)\n"
     ]
    }
   ],
   "source": []
  }
 ],
 "metadata": {
  "anaconda-cloud": {},
  "kernelspec": {
   "display_name": "Python [Root]",
   "language": "python",
   "name": "Python [Root]"
  },
  "language_info": {
   "codemirror_mode": {
    "name": "ipython",
    "version": 3
   },
   "file_extension": ".py",
   "mimetype": "text/x-python",
   "name": "python",
   "nbconvert_exporter": "python",
   "pygments_lexer": "ipython3",
   "version": "3.5.2"
  }
 },
 "nbformat": 4,
 "nbformat_minor": 0
}
