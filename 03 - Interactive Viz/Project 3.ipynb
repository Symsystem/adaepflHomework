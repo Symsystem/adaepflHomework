{
 "cells": [
  {
   "cell_type": "markdown",
   "metadata": {},
   "source": [
    "# 03 - Interactive Viz"
   ]
  },
  {
   "cell_type": "code",
   "execution_count": 1,
   "metadata": {
    "collapsed": false
   },
   "outputs": [],
   "source": [
    "import folium\n",
    "import pandas as pd\n",
    "import numpy as np\n",
    "import requests\n",
    "import json"
   ]
  },
  {
   "cell_type": "markdown",
   "metadata": {},
   "source": [
    "The goal is to build a Cloropleth showing how much grant money goes to each Swiss canton.\n",
    "\n",
    "To do so, we start by defining a function which will rely on the GeoNames API to retrieve information about each University, namely the canton, the latitude and the longitude. Besides restricting the results to Switzerland, we also try to restrict the search to Universities ('fcodeName'). We keep looking for a result that has a canton ('adminCode1') associated."
   ]
  },
  {
   "cell_type": "code",
   "execution_count": 2,
   "metadata": {
    "collapsed": false
   },
   "outputs": [],
   "source": [
    "def getData(place):\n",
    "    base_url = 'http://api.geonames.org/searchJSON'\n",
    "    payload = {'username': 'adaisp',\n",
    "               'country' : 'CH',\n",
    "               'q' : place,\n",
    "               'fcodeName' : 'university',\n",
    "                }\n",
    "    response = requests.get(base_url, params=payload)\n",
    "    data = json.loads(response.text)\n",
    "    try:\n",
    "        i = 0\n",
    "        results = {\n",
    "                'canton': data['geonames'][i]['adminCode1'],\n",
    "                'lat' : data['geonames'][i]['lat'],\n",
    "                'long' : data['geonames'][i]['lng'],\n",
    "            }\n",
    "        while (data['geonames'][i]['adminName1'] == ''):\n",
    "            i += 1\n",
    "            results = {\n",
    "                'canton': data['geonames'][i]['adminCode1'],\n",
    "                'lat' : data['geonames'][i]['lat'],\n",
    "                'long' : data['geonames'][i]['lng'],\n",
    "            }\n",
    "    except:\n",
    "        results = {\n",
    "            'canton': 'No Match',\n",
    "            'lat' : 'No Match',\n",
    "            'long' : 'No Match',\n",
    "        }\n",
    "        \n",
    "    return results"
   ]
  },
  {
   "cell_type": "markdown",
   "metadata": {},
   "source": [
    "We then build a DataFrame keeping the information about the University and the Approved Ammount of each grant."
   ]
  },
  {
   "cell_type": "code",
   "execution_count": 3,
   "metadata": {
    "collapsed": false
   },
   "outputs": [],
   "source": [
    "grant_export = 'P3_GrantExport.csv'\n",
    "raw_data = pd.read_csv(grant_export, sep=';', error_bad_lines=False)\n",
    "\n",
    "uni_data = raw_data.loc[:, ['University', 'Approved Amount']]\n",
    "uni_data[['Approved Amount']] = uni_data[['Approved Amount']].apply(pd.to_numeric, errors='coerce')"
   ]
  },
  {
   "cell_type": "markdown",
   "metadata": {},
   "source": [
    "By reading the documentation, we see that the 'University' field is only filled if the research is carried out at a Swiss institution. Therefore, we can do some filtering and discard the records which have that field blank ('Nicht zuteilbar - NA').\n",
    "We keep filtering the data and we also discard records corresponding to companies and institutions from the private sector, *NPOs (Non-Profit Organisation)* and records falling into the category of '*other hospitals*' (too generic)."
   ]
  },
  {
   "cell_type": "code",
   "execution_count": 4,
   "metadata": {
    "collapsed": true
   },
   "outputs": [],
   "source": [
    "# drop the records where the field University is blank\n",
    "uni_data = uni_data[uni_data.University != 'Nicht zuteilbar - NA']\n",
    "\n",
    "# drop the records corresponding to companies or private sector\n",
    "uni_data = uni_data[uni_data.University != 'Firmen/Privatwirtschaft - FP']\n",
    "\n",
    "# drop the records corresponding to NPO\n",
    "uni_data = uni_data[uni_data.University != 'NPO (Biblioth., Museen, Verwalt.) - NPO']\n",
    "\n",
    "# drop the entry 'Weitere Spitäler' that means 'Other Hospitals' and so should be everywhere in the country\n",
    "uni_data = uni_data[uni_data.University != 'Weitere Spitäler - ASPIT']"
   ]
  },
  {
   "cell_type": "markdown",
   "metadata": {},
   "source": [
    "We can now group the results by University and get the grant money given to each one of them."
   ]
  },
  {
   "cell_type": "code",
   "execution_count": 5,
   "metadata": {
    "collapsed": true
   },
   "outputs": [],
   "source": [
    "# compute the approved amount by University\n",
    "uni_data = uni_data.groupby(['University'])['Approved Amount'].sum()\n",
    "\n",
    "uni_data.sort_values(ascending=False, inplace=True)"
   ]
  },
  {
   "cell_type": "markdown",
   "metadata": {},
   "source": [
    "Let's now retrieve the canton information (using the function previously described). We add four columns to the DataFrame: number of records for each University, canton code, latitude and longitude. These last three columns are filled with the retrieved information from the GeoNames API.\n",
    "\n",
    "Note that we split the string corresponding to the institution name. We first try to get a matching with the full name and in case the search isn't successful we try with the acronym."
   ]
  },
  {
   "cell_type": "code",
   "execution_count": 6,
   "metadata": {
    "collapsed": false
   },
   "outputs": [],
   "source": [
    "data = pd.DataFrame(uni_data)\n",
    "data['Records number'] = raw_data['University'].value_counts()\n",
    "data['Canton'], data['Latitude'], data['Longitude'] = (['']*len(data),)*3\n",
    "\n",
    "for univ,row in data.iterrows():\n",
    "    info = getData(univ.split(' - ')[0])\n",
    "    \n",
    "    if (info.get('canton') == 'No Match' and len(univ.split(' - ')) > 1):\n",
    "        info = getData(univ.split(' - ')[1])\n",
    "    \n",
    "    data.set_value(univ, 'Canton', info.get('canton'))\n",
    "    data.set_value(univ, 'Latitude', info.get('lat'))\n",
    "    data.set_value(univ, 'Longitude', info.get('long'))"
   ]
  },
  {
   "cell_type": "markdown",
   "metadata": {},
   "source": [
    "Since we want to cover 95% of the records and the GeoNames API doesn't provide information for most of the Universities, we try to look for patterns in the University/Institution name and fill those records manually."
   ]
  },
  {
   "cell_type": "code",
   "execution_count": 7,
   "metadata": {
    "collapsed": false,
    "scrolled": false
   },
   "outputs": [],
   "source": [
    "keywords = {\n",
    "    \"Luzern\": \"LU\",\n",
    "    \"Zürcher\": \"ZH\",\n",
    "    \"Zürich\": \"ZH\",\n",
    "    \"Svizzera italiana\": \"TI\",\n",
    "    \"Bern\": \"BE\",\n",
    "    \"St. Gallen\": \"SG\",\n",
    "    \"Vaud\": \"VD\",\n",
    "    \"Wallis\": \"VS\",\n",
    "    \"Thurgau\": \"TG\",\n",
    "}\n",
    "\n",
    "for kw in keywords:\n",
    "    for univ, row in data[data.index.str.contains(kw)].iterrows():\n",
    "        data.set_value(univ, 'Canton', keywords.get(kw))"
   ]
  },
  {
   "cell_type": "markdown",
   "metadata": {},
   "source": [
    "After manually filling the DataFrame, we actually have more than 95% of the records covered, so we stop gathering data here."
   ]
  },
  {
   "cell_type": "code",
   "execution_count": 8,
   "metadata": {
    "collapsed": false
   },
   "outputs": [
    {
     "name": "stdout",
     "output_type": "stream",
     "text": [
      "We mapped 97% of the University records.\n"
     ]
    }
   ],
   "source": [
    "canton_found = data[data.Canton != 'No Match']\n",
    "nbr_records = data['Records number'].sum()\n",
    "nbr_records_found = canton_found['Records number'].sum()\n",
    "print('We mapped ' + str(round(100 * nbr_records_found / nbr_records)) + \"% of the University records.\")"
   ]
  },
  {
   "cell_type": "markdown",
   "metadata": {},
   "source": [
    "Let's take a look at the first entries of our DataFrame:"
   ]
  },
  {
   "cell_type": "code",
   "execution_count": 9,
   "metadata": {
    "collapsed": false
   },
   "outputs": [
    {
     "data": {
      "text/html": [
       "<div>\n",
       "<table border=\"1\" class=\"dataframe\">\n",
       "  <thead>\n",
       "    <tr style=\"text-align: right;\">\n",
       "      <th></th>\n",
       "      <th>Approved Amount</th>\n",
       "      <th>Records number</th>\n",
       "      <th>Canton</th>\n",
       "      <th>Latitude</th>\n",
       "      <th>Longitude</th>\n",
       "    </tr>\n",
       "    <tr>\n",
       "      <th>University</th>\n",
       "      <th></th>\n",
       "      <th></th>\n",
       "      <th></th>\n",
       "      <th></th>\n",
       "      <th></th>\n",
       "    </tr>\n",
       "  </thead>\n",
       "  <tbody>\n",
       "    <tr>\n",
       "      <th>Université de Genève - GE</th>\n",
       "      <td>1.838237e+09</td>\n",
       "      <td>6394</td>\n",
       "      <td>GE</td>\n",
       "      <td>46.20222</td>\n",
       "      <td>6.14569</td>\n",
       "    </tr>\n",
       "    <tr>\n",
       "      <th>Universität Zürich - ZH</th>\n",
       "      <td>1.826843e+09</td>\n",
       "      <td>6774</td>\n",
       "      <td>ZH</td>\n",
       "      <td>47.37092</td>\n",
       "      <td>8.53434</td>\n",
       "    </tr>\n",
       "    <tr>\n",
       "      <th>ETH Zürich - ETHZ</th>\n",
       "      <td>1.635597e+09</td>\n",
       "      <td>6153</td>\n",
       "      <td>ZH</td>\n",
       "      <td>47.3763</td>\n",
       "      <td>8.54805</td>\n",
       "    </tr>\n",
       "    <tr>\n",
       "      <th>Universität Bern - BE</th>\n",
       "      <td>1.519373e+09</td>\n",
       "      <td>5473</td>\n",
       "      <td>BE</td>\n",
       "      <td>46.95096</td>\n",
       "      <td>7.43548</td>\n",
       "    </tr>\n",
       "    <tr>\n",
       "      <th>Universität Basel - BS</th>\n",
       "      <td>1.352251e+09</td>\n",
       "      <td>4746</td>\n",
       "      <td>BS</td>\n",
       "      <td>47.55832</td>\n",
       "      <td>7.58403</td>\n",
       "    </tr>\n",
       "    <tr>\n",
       "      <th>Université de Lausanne - LA</th>\n",
       "      <td>1.183291e+09</td>\n",
       "      <td>4092</td>\n",
       "      <td>VD</td>\n",
       "      <td>46.52376</td>\n",
       "      <td>6.58409</td>\n",
       "    </tr>\n",
       "    <tr>\n",
       "      <th>EPF Lausanne - EPFL</th>\n",
       "      <td>1.175316e+09</td>\n",
       "      <td>4428</td>\n",
       "      <td>VD</td>\n",
       "      <td>46.51939</td>\n",
       "      <td>6.56673</td>\n",
       "    </tr>\n",
       "    <tr>\n",
       "      <th>Université de Fribourg - FR</th>\n",
       "      <td>4.575262e+08</td>\n",
       "      <td>2079</td>\n",
       "      <td>FR</td>\n",
       "      <td>46.80683</td>\n",
       "      <td>7.15317</td>\n",
       "    </tr>\n",
       "    <tr>\n",
       "      <th>Université de Neuchâtel - NE</th>\n",
       "      <td>3.832046e+08</td>\n",
       "      <td>1596</td>\n",
       "      <td>NE</td>\n",
       "      <td>46.99385</td>\n",
       "      <td>6.93789</td>\n",
       "    </tr>\n",
       "    <tr>\n",
       "      <th>Paul Scherrer Institut - PSI</th>\n",
       "      <td>1.152690e+08</td>\n",
       "      <td>538</td>\n",
       "      <td>AG</td>\n",
       "      <td>47.5385</td>\n",
       "      <td>8.23028</td>\n",
       "    </tr>\n",
       "  </tbody>\n",
       "</table>\n",
       "</div>"
      ],
      "text/plain": [
       "                              Approved Amount  Records number Canton  \\\n",
       "University                                                             \n",
       "Université de Genève - GE        1.838237e+09            6394     GE   \n",
       "Universität Zürich - ZH          1.826843e+09            6774     ZH   \n",
       "ETH Zürich - ETHZ                1.635597e+09            6153     ZH   \n",
       "Universität Bern - BE            1.519373e+09            5473     BE   \n",
       "Universität Basel - BS           1.352251e+09            4746     BS   \n",
       "Université de Lausanne - LA      1.183291e+09            4092     VD   \n",
       "EPF Lausanne - EPFL              1.175316e+09            4428     VD   \n",
       "Université de Fribourg - FR      4.575262e+08            2079     FR   \n",
       "Université de Neuchâtel - NE     3.832046e+08            1596     NE   \n",
       "Paul Scherrer Institut - PSI     1.152690e+08             538     AG   \n",
       "\n",
       "                              Latitude Longitude  \n",
       "University                                        \n",
       "Université de Genève - GE     46.20222   6.14569  \n",
       "Universität Zürich - ZH       47.37092   8.53434  \n",
       "ETH Zürich - ETHZ              47.3763   8.54805  \n",
       "Universität Bern - BE         46.95096   7.43548  \n",
       "Universität Basel - BS        47.55832   7.58403  \n",
       "Université de Lausanne - LA   46.52376   6.58409  \n",
       "EPF Lausanne - EPFL           46.51939   6.56673  \n",
       "Université de Fribourg - FR   46.80683   7.15317  \n",
       "Université de Neuchâtel - NE  46.99385   6.93789  \n",
       "Paul Scherrer Institut - PSI   47.5385   8.23028  "
      ]
     },
     "execution_count": 9,
     "metadata": {},
     "output_type": "execute_result"
    }
   ],
   "source": [
    "data.head(10)"
   ]
  },
  {
   "cell_type": "markdown",
   "metadata": {},
   "source": [
    "In order for the map to work as expected, we must have an entry for each canton found in the TopoJSON file. So we group the information from the previous DataFrame by canton (to get the total grant money) and then create a new DataFrame, filling with 0 the cantons which don't have any Universities mapped.\n",
    "\n",
    "We use a **logarithmic scale** for the approved grant money which goes to each canton to make the visualization more readable later on."
   ]
  },
  {
   "cell_type": "code",
   "execution_count": 10,
   "metadata": {
    "collapsed": false
   },
   "outputs": [],
   "source": [
    "all_cantons = np.array(['AG','AI','AR','BE','BL','BS','FR','GE','GL','GR','LU',\n",
    "                        'NE','NW','OW','SG','SO','SZ','TG','TI','UR','VD','VS','ZG','ZH','SH','JU'])\n",
    "amounts = canton_found.groupby(['Canton'])['Approved Amount'].sum()\n",
    "\n",
    "cantons_amount = []\n",
    "for canton in all_cantons:\n",
    "    if amounts.get(canton):\n",
    "        cantons_amount.append(np.log10(amounts.get(canton)))\n",
    "    else:\n",
    "        cantons_amount.append(0)\n",
    "\n",
    "cantons_amount_df = pd.DataFrame()\n",
    "cantons_amount_df['Canton'] = all_cantons\n",
    "cantons_amount_df['Amount'] = cantons_amount"
   ]
  },
  {
   "cell_type": "markdown",
   "metadata": {},
   "source": [
    "To place markers on the map, we also create a DataFrame containing the universities / institutions whose coordinates could be retrieved with the GeoNames API. We can see that only 20 places were actually found by the API."
   ]
  },
  {
   "cell_type": "code",
   "execution_count": 11,
   "metadata": {
    "collapsed": false
   },
   "outputs": [
    {
     "name": "stdout",
     "output_type": "stream",
     "text": [
      "The Geonames API have only found the location of 20 universities.\n"
     ]
    }
   ],
   "source": [
    "univ_found_api = canton_found[canton_found.Latitude != 'No Match']\n",
    "print('The Geonames API have only found the location of ' + str(len(univ_found_api)) + ' universities.')"
   ]
  },
  {
   "cell_type": "markdown",
   "metadata": {},
   "source": [
    "We can now build the Choropleth map. We plot the markers, add the TopoJSON overlay and use the geographical information from the DataFrame to do so."
   ]
  },
  {
   "cell_type": "code",
   "execution_count": 12,
   "metadata": {
    "collapsed": false
   },
   "outputs": [],
   "source": [
    "cantons_geo = 'ch-cantons.topojson.json'\n",
    "\n",
    "swiss_map = folium.Map(location=[46.801111,8.226667], zoom_start=8)\n",
    "\n",
    "for univ, row in univ_found_api.iterrows():\n",
    "     folium.Marker([row['Latitude'], row['Longitude']],\n",
    "                   popup=univ, \n",
    "                   icon = folium.Icon(color = 'red', icon = 'glyphicon-book')).add_to(swiss_map)\n",
    "\n",
    "swiss_map.choropleth(geo_path=cantons_geo, \n",
    "                     topojson='objects.cantons', \n",
    "                     data=cantons_amount_df,columns=['Canton', 'Amount'],\n",
    "                     key_on='feature.id',\n",
    "                     threshold_scale=[4, 5, 6, 7, 8, 9],\n",
    "                     line_opacity=0.2, fill_opacity=0.7, fill_color='YlOrBr',\n",
    "                     legend_name='Approved amount (logarithmic scale)',\n",
    "                    )\n",
    "\n",
    "swiss_map.save(\"grant_money_map.html\")"
   ]
  },
  {
   "cell_type": "markdown",
   "metadata": {},
   "source": [
    "***NB:*** we use a **logarithmic scale** in the legend of the map to make the visualization more readable."
   ]
  },
  {
   "cell_type": "code",
   "execution_count": 26,
   "metadata": {
    "collapsed": false
   },
   "outputs": [
    {
     "data": {
      "text/html": [
       "\n",
       "        <iframe\n",
       "            width=\"900\"\n",
       "            height=\"650\"\n",
       "            src=\"grant_money_map.html\"\n",
       "            frameborder=\"0\"\n",
       "            allowfullscreen\n",
       "        ></iframe>\n",
       "        "
      ],
      "text/plain": [
       "<IPython.lib.display.IFrame at 0x21865964e10>"
      ]
     },
     "execution_count": 26,
     "metadata": {},
     "output_type": "execute_result"
    }
   ],
   "source": [
    "from IPython.display import IFrame\n",
    "IFrame('grant_money_map.html', width=900, height=650)"
   ]
  },
  {
   "cell_type": "markdown",
   "metadata": {},
   "source": [
    "If the HTML page does not appear properly, here is a screenshot of what it represents :\n",
    "![title](swiss_map.png)"
   ]
  },
  {
   "cell_type": "markdown",
   "metadata": {},
   "source": [
    "## Bonus"
   ]
  },
  {
   "cell_type": "markdown",
   "metadata": {},
   "source": [
    "We divided the cantons according to the Röstigraben (French, German and Italian speaking cantons). Some of the cantons have 2 official languages, so we tried to define some type of boundary using the coordinates. We used <a href=\"https://en.wikipedia.org/wiki/Röstigraben#/media/File:Map_Languages_CH.png\" target=\"_blank\">this map</a> as the starting point for this division."
   ]
  },
  {
   "cell_type": "code",
   "execution_count": 22,
   "metadata": {
    "collapsed": false
   },
   "outputs": [],
   "source": [
    "german_part = np.array(['AG','AI','AR','BL','BS','GL','LU','NW','OW','SG','SO','SZ','TG','UR','ZG','ZH','SH'])\n",
    "french_part = np.array(['GE', 'JU', 'NE', 'VD'])\n",
    "italian_part = np.array(['TI'])\n",
    "french_german = np.array(['BE', 'FR', 'VS'])\n",
    "italian_german = np.array(['GR'])\n",
    "\n",
    "borders = {'GR': ['lat', 46.49],\n",
    "           'BE': ['lat', 47.10],\n",
    "           'FR': ['lng', 7.14],\n",
    "           'VS': ['lng', 7.57]\n",
    "          }"
   ]
  },
  {
   "cell_type": "markdown",
   "metadata": {},
   "source": [
    "We then compute the amount of grant money which goes to each region. For the cantons where there's more than one language, we try to make use of the geographical information to decide the language spoken at those universities/institutions."
   ]
  },
  {
   "cell_type": "code",
   "execution_count": 23,
   "metadata": {
    "collapsed": false
   },
   "outputs": [],
   "source": [
    "total_amount = amounts.sum()\n",
    "french_amount = amounts.get(french_part).sum()\n",
    "german_amount = amounts.get(german_part).sum()\n",
    "italian_amount = amounts.get(italian_part).sum()\n",
    "\n",
    "for ct in borders:\n",
    "    univ_canton = univ_found_api.loc[lambda df: df.Canton == ct, :]\n",
    "    if ct in french_german:\n",
    "        if borders.get(ct)[0] == 'lat':\n",
    "            french_amount += univ_canton[univ_canton.Latitude.astype('float') >= borders.get(ct)[1]]['Approved Amount'].sum()\n",
    "            german_amount += univ_canton[univ_canton.Latitude.astype('float') < borders.get(ct)[1]]['Approved Amount'].sum()\n",
    "        else:\n",
    "            french_amount += univ_canton[univ_canton.Longitude.astype('float') >= borders.get(ct)[1]]['Approved Amount'].sum()\n",
    "            german_amount += univ_canton[univ_canton.Longitude.astype('float') > borders.get(ct)[1]]['Approved Amount'].sum()\n",
    "    else:\n",
    "        german_amount += univ_canton[univ_canton.Latitude.astype('float') >= borders.get(ct)[1]]['Approved Amount'].sum()\n",
    "        italian_amount += univ_canton[univ_canton.Latitude.astype('float') < borders.get(ct)[1]]['Approved Amount'].sum()"
   ]
  },
  {
   "cell_type": "markdown",
   "metadata": {},
   "source": [
    "Having all the money distributed per region, we compute the percentages given to each one."
   ]
  },
  {
   "cell_type": "code",
   "execution_count": 24,
   "metadata": {
    "collapsed": false
   },
   "outputs": [
    {
     "name": "stdout",
     "output_type": "stream",
     "text": [
      "Percentage to french part: 42 %\n",
      "Percentage to german part: 61 %\n",
      "Percentage to italian part: 1 %\n"
     ]
    }
   ],
   "source": [
    "print('Percentage to french part:', round(french_amount*100/total_amount), '%')\n",
    "print('Percentage to german part:', round(german_amount*100/total_amount), '%')\n",
    "print('Percentage to italian part:', round(italian_amount*100/total_amount), '%')"
   ]
  },
  {
   "cell_type": "markdown",
   "metadata": {},
   "source": [
    "The German speaking part of Switzerland seems to be the one receiving most of the money."
   ]
  },
  {
   "cell_type": "markdown",
   "metadata": {},
   "source": [
    "But let's take a look at the distribution of the population per region."
   ]
  },
  {
   "cell_type": "code",
   "execution_count": 25,
   "metadata": {
    "collapsed": false
   },
   "outputs": [
    {
     "name": "stdout",
     "output_type": "stream",
     "text": [
      "Percentage of french population: 25 %\n",
      "Percentage of german population: 71 %\n",
      "Percentage of italian population: 4 %\n"
     ]
    }
   ],
   "source": [
    "total_population = 8.341e6\n",
    "french_population = sum([105378, 213636, 481868, 72597, 178059, 242463, 767294])\n",
    "italian_population = sum([335720, 14307])\n",
    "german_population = total_population - french_population - italian_population\n",
    "\n",
    "print('Percentage of french population:', round(french_population*100/total_population), '%')\n",
    "print('Percentage of german population:', round(german_population*100/total_population), '%')\n",
    "print('Percentage of italian population:', round(italian_population*100/total_population), '%')"
   ]
  },
  {
   "cell_type": "markdown",
   "metadata": {},
   "source": [
    "Most of the population is Swiss-German, which can lead us to conclude that the grant money per capita is actually higher in the French speaking part of Switzerland."
   ]
  }
 ],
 "metadata": {
  "anaconda-cloud": {},
  "kernelspec": {
   "display_name": "Python [Root]",
   "language": "python",
   "name": "Python [Root]"
  },
  "language_info": {
   "codemirror_mode": {
    "name": "ipython",
    "version": 3
   },
   "file_extension": ".py",
   "mimetype": "text/x-python",
   "name": "python",
   "nbconvert_exporter": "python",
   "pygments_lexer": "ipython3",
   "version": "3.5.2"
  }
 },
 "nbformat": 4,
 "nbformat_minor": 0
}
